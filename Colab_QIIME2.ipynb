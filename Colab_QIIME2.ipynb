{
  "nbformat": 4,
  "nbformat_minor": 0,
  "metadata": {
    "colab": {
      "name": "Colab_QIIME2.ipynb",
      "provenance": [],
      "collapsed_sections": [],
      "include_colab_link": true
    },
    "kernelspec": {
      "display_name": "Python 3",
      "name": "python3"
    }
  },
  "cells": [
    {
      "cell_type": "markdown",
      "metadata": {
        "id": "view-in-github",
        "colab_type": "text"
      },
      "source": [
        "<a href=\"https://colab.research.google.com/github/Vlasovets/qiime2/blob/main/Colab_QIIME2.ipynb\" target=\"_parent\"><img src=\"https://colab.research.google.com/assets/colab-badge.svg\" alt=\"Open In Colab\"/></a>"
      ]
    },
    {
      "cell_type": "code",
      "metadata": {
        "id": "8BmIZAht0-3P",
        "colab": {
          "base_uri": "https://localhost:8080/",
          "height": 205
        },
        "collapsed": true,
        "outputId": "5b5d49d8-3e9e-443b-a608-8ca28733593b"
      },
      "source": [
        "from IPython.display import Image\n",
        "from IPython.core.display import HTML \n",
        "Image(url= \"https://images.squarespace-cdn.com/content/v1/56a45b0e89a60a5d20e5a6df/1453767440668-E89KZ0CQR6JR7I0CODNA/ke17ZwdGBToddI8pDm48kCMOX1BBM_VAKmGIdqx2dGxZw-zPPgdn4jUwVcJE1ZvWQUxwkmyExglNqGp0IvTJZUJFbgE-7XRK3dMEBRBhUpzEEbQYrhrWByBeOT18mqINXLDezI4em29DfxrEbm4K4makG_UcD0lvNuVdXFGkcdo/image-asset.png\")"
      ],
      "execution_count": null,
      "outputs": [
        {
          "output_type": "execute_result",
          "data": {
            "text/html": [
              "<img src=\"https://images.squarespace-cdn.com/content/v1/56a45b0e89a60a5d20e5a6df/1453767440668-E89KZ0CQR6JR7I0CODNA/ke17ZwdGBToddI8pDm48kCMOX1BBM_VAKmGIdqx2dGxZw-zPPgdn4jUwVcJE1ZvWQUxwkmyExglNqGp0IvTJZUJFbgE-7XRK3dMEBRBhUpzEEbQYrhrWByBeOT18mqINXLDezI4em29DfxrEbm4K4makG_UcD0lvNuVdXFGkcdo/image-asset.png\"/>"
            ],
            "text/plain": [
              "<IPython.core.display.Image object>"
            ]
          },
          "metadata": {
            "tags": []
          },
          "execution_count": 2
        }
      ]
    },
    {
      "cell_type": "markdown",
      "metadata": {
        "id": "FXT-nTLrwQIs"
      },
      "source": [
        "## 🔨 qiime2 Installation"
      ]
    },
    {
      "cell_type": "code",
      "metadata": {
        "id": "w3kP1YOg6bd8"
      },
      "source": [
        "\"\"\" Do not use this on a local machine. \"\"\"\n",
        "\n",
        "import os\n",
        "import sys\n",
        "from subprocess import Popen, PIPE"
      ],
      "execution_count": null,
      "outputs": []
    },
    {
      "cell_type": "code",
      "metadata": {
        "id": "WN7H9bXA6qWw"
      },
      "source": [
        "r = Popen([\"pip\", \"install\", \"rich\"])\n",
        "r.wait()\n",
        "from rich.console import Console  # noqa\n",
        "con = Console()"
      ],
      "execution_count": null,
      "outputs": []
    },
    {
      "cell_type": "code",
      "metadata": {
        "id": "MhiiMpEE6x9F"
      },
      "source": [
        "has_conda = \"conda version\" in os.popen(\"conda info\").read()\n",
        "has_qiime = \"QIIME 2 release:\" in os.popen(\"qiime info\").read()"
      ],
      "execution_count": null,
      "outputs": []
    },
    {
      "cell_type": "code",
      "metadata": {
        "id": "WekorD3P62SP"
      },
      "source": [
        "MINICONDA_PATH = (\n",
        "    \"https://repo.anaconda.com/miniconda/Miniconda3-latest-Linux-x86_64.sh\"\n",
        ")\n",
        "QIIME_YAML_URL = (\n",
        "    \"https://data.qiime2.org/distro/core/qiime2-2020.2-py36-linux-conda.yml\"\n",
        ")\n",
        "QIIME_YAML = os.path.basename(QIIME_YAML_URL)"
      ],
      "execution_count": null,
      "outputs": []
    },
    {
      "cell_type": "code",
      "metadata": {
        "id": "ZDatwS8F67l2"
      },
      "source": [
        "def cleanup():\n",
        "    \"\"\"Remove downloaded files.\"\"\"\n",
        "    if os.path.exists(\"Miniconda3-latest-Linux-x86_64.sh\"):\n",
        "        os.remove(\"Miniconda3-latest-Linux-x86_64.sh\")\n",
        "    if os.path.exists(QIIME_YAML):\n",
        "        os.remove(QIIME_YAML)\n",
        "    con.log(\"Cleaned up unneeded files.\")"
      ],
      "execution_count": null,
      "outputs": []
    },
    {
      "cell_type": "code",
      "metadata": {
        "id": "4HvBoNgs6-Vd"
      },
      "source": [
        "def run_and_check(args, check, message, failure, success, console=con):\n",
        "    \"\"\"Run a command and check that it worked.\"\"\"\n",
        "    console.log(message)\n",
        "    r = Popen(args, env=os.environ, stdout=PIPE, stderr=PIPE,\n",
        "              universal_newlines=True)\n",
        "    o, e = r.communicate()\n",
        "    out = o + e\n",
        "    if r.returncode == 0 and check in out:\n",
        "        console.log(\"[blue]%s[/blue]\" % success)\n",
        "    else:\n",
        "        console.log(\"[red]%s[/red]\" % failure, out)\n",
        "        cleanup()\n",
        "        sys.exit(1)"
      ],
      "execution_count": null,
      "outputs": []
    },
    {
      "cell_type": "code",
      "metadata": {
        "id": "z0XmN-dg7EU-"
      },
      "source": [
        "if __name__ == \"__main__\":\n",
        "    if not has_conda:\n",
        "        run_and_check(\n",
        "            [\"wget\", MINICONDA_PATH],\n",
        "            \"saved\",\n",
        "            \":snake: Downloading miniconda...\",\n",
        "            \"failed downloading miniconda :sob:\",\n",
        "            \":snake: Done.\"\n",
        "        )\n",
        "\n",
        "        run_and_check(\n",
        "            [\"bash\", \"Miniconda3-latest-Linux-x86_64.sh\", \"-bfp\", \"/usr/local\"],\n",
        "            \"installation finished.\",\n",
        "            \":snake: Installing miniconda...\",\n",
        "            \"could not install miniconda :sob:\",\n",
        "            \":snake: Installed miniconda to `/usr/local` :snake:\"\n",
        "        )\n",
        "    else:\n",
        "        con.log(\":snake: Miniconda is already installed. Skipped.\")\n",
        "    !python -V\n",
        "    if not has_qiime:\n",
        "        run_and_check(\n",
        "            [\"wget\", QIIME_YAML_URL],\n",
        "            \"saved\",\n",
        "            \":mag: Downloading Qiime 2 package list...\",\n",
        "            \"could not download package list :sob:\",\n",
        "            \":mag: Done.\"\n",
        "        )\n",
        "\n",
        "        run_and_check(\n",
        "            [\"conda\", \"env\", \"update\", \"-n\", \"base\", \"--file\",\n",
        "             \"qiime2-2020.2-py36-linux-conda.yml\"],\n",
        "            \"To activate this environment, use\",\n",
        "            \":mag: Installing Qiime 2. This may take a little bit.\\n :clock1:\",\n",
        "            \"could not install Qiime 2 :sob:\",\n",
        "            \":mag: Done.\"\n",
        "        )\n",
        "    else:\n",
        "        con.log(\":mag: Qiime 2 is already installed. Skipped.\")\n",
        "\n",
        "    sys.path.append(\"/usr/local/lib/python3.6/site-packages\")\n",
        "    con.log(\":mag: Fixed import paths to include Qiime 2.\")\n",
        "\n",
        "    run_and_check(\n",
        "        [\"qiime\", \"info\"],\n",
        "        \"QIIME 2 release:\",\n",
        "        \":bar_chart: Checking that Qiime 2 command line works...\",\n",
        "        \"Qiime 2 command line does not seem to work :sob:\",\n",
        "        \":bar_chart: Qiime 2 command line looks good :tada:\"\n",
        "    )\n",
        "\n",
        "    con.log(\":bar_chart: Checking if Qiime 2 import works...\")\n",
        "    try:\n",
        "        import qiime2  # noqa\n",
        "    except Exception:\n",
        "        con.log(\"[red]Qiime 2 can not be imported :sob:[/red]\")\n",
        "        sys.exit(1)\n",
        "    con.log(\"[blue]:bar_chart: Qiime 2 can be imported :tada:[/blue]\")\n",
        "\n",
        "    cleanup()\n",
        "\n",
        "    con.log(\"[green]Everything is A-OK. \"\n",
        "            \"You can start using Qiime 2 now :thumbs_up:[/green]\")"
      ],
      "execution_count": null,
      "outputs": []
    },
    {
      "cell_type": "code",
      "metadata": {
        "id": "YCZcoeue_CQk"
      },
      "source": [
        "sys.path"
      ],
      "execution_count": null,
      "outputs": []
    },
    {
      "cell_type": "code",
      "metadata": {
        "id": "SPxulODaKJ68"
      },
      "source": [
        "_ = (sys.path\n",
        "        .append(\"/usr/local/lib/python3.6/site-packages/q2_feature_table\"))\n",
        "_ = (sys.path\n",
        "        .append(\"/usr/local/lib/python3.6/site-packages/q2_diversity\"))"
      ],
      "execution_count": null,
      "outputs": []
    },
    {
      "cell_type": "markdown",
      "metadata": {
        "id": "lwulPqQzwz2p"
      },
      "source": [
        "## ⚙️ qiime2 Plugins (libraries, packages)"
      ]
    },
    {
      "cell_type": "code",
      "metadata": {
        "id": "NWQ2OsBPw5HE"
      },
      "source": [
        "import qiime2 as q2"
      ],
      "execution_count": null,
      "outputs": []
    },
    {
      "cell_type": "code",
      "metadata": {
        "id": "ozBvViX7xAFt"
      },
      "source": [
        "import q2_feature_table, q2_demux, q2_alignment, q2_cutadapt\n",
        "import q2_dada2, q2_deblur, q2_feature_classifier, q2_fragment_insertion"
      ],
      "execution_count": null,
      "outputs": []
    },
    {
      "cell_type": "code",
      "metadata": {
        "id": "oefgGuUQamQv"
      },
      "source": [
        "from qiime2.plugin import (Plugin, Str, Properties, Choices, Int, Bool, Range,\n",
        "                           Float, Set, Visualization, Metadata, MetadataColumn,\n",
        "                           Categorical, Numeric, Citations)"
      ],
      "execution_count": null,
      "outputs": []
    },
    {
      "cell_type": "code",
      "metadata": {
        "id": "4m6HcVP_-V4M",
        "colab": {
          "base_uri": "https://localhost:8080/",
          "height": 635
        },
        "collapsed": true,
        "outputId": "20d574ad-eeb1-4489-9715-3df4085416e5"
      },
      "source": [
        "# check the installed plugins\n",
        "!qiime info"
      ],
      "execution_count": null,
      "outputs": [
        {
          "output_type": "stream",
          "text": [
            "\u001b[32mSystem versions\u001b[0m\n",
            "Python version: 3.6.7\n",
            "QIIME 2 release: 2020.2\n",
            "QIIME 2 version: 2020.2.0\n",
            "q2cli version: 2020.2.0\n",
            "\u001b[32m\n",
            "Installed plugins\u001b[0m\n",
            "alignment: 2020.2.0\n",
            "composition: 2020.2.0\n",
            "cutadapt: 2020.2.0\n",
            "dada2: 2020.2.0\n",
            "deblur: 2020.2.0\n",
            "demux: 2020.2.0\n",
            "diversity: 2020.2.0\n",
            "emperor: 2020.2.0\n",
            "feature-classifier: 2020.2.0\n",
            "feature-table: 2020.2.0\n",
            "fragment-insertion: 2020.2.0\n",
            "gneiss: 2020.2.0\n",
            "longitudinal: 2020.2.0\n",
            "metadata: 2020.2.0\n",
            "phylogeny: 2020.2.0\n",
            "quality-control: 2020.2.0\n",
            "quality-filter: 2020.2.0\n",
            "sample-classifier: 2020.2.0\n",
            "taxa: 2020.2.0\n",
            "types: 2020.2.0\n",
            "vsearch: 2020.2.0\n",
            "\u001b[32m\n",
            "Application config directory\u001b[0m\n",
            "/root/.config/q2cli\u001b[0m\n",
            "\u001b[32m\n",
            "Getting help\u001b[0m\n",
            "To get help with QIIME 2, visit https://qiime2.org\u001b[0m\n"
          ],
          "name": "stdout"
        }
      ]
    }
  ]
}