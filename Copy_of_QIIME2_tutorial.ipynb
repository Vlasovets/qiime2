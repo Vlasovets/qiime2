{
  "nbformat": 4,
  "nbformat_minor": 0,
  "metadata": {
    "colab": {
      "name": "Copy of QIIME2_tutorial.ipynb",
      "provenance": [],
      "collapsed_sections": [],
      "include_colab_link": true
    },
    "kernelspec": {
      "display_name": "Python 3",
      "name": "python3"
    }
  },
  "cells": [
    {
      "cell_type": "markdown",
      "metadata": {
        "id": "view-in-github",
        "colab_type": "text"
      },
      "source": [
        "<a href=\"https://colab.research.google.com/github/Vlasovets/qiime2/blob/main/Copy_of_QIIME2_tutorial.ipynb\" target=\"_parent\"><img src=\"https://colab.research.google.com/assets/colab-badge.svg\" alt=\"Open In Colab\"/></a>"
      ]
    },
    {
      "cell_type": "markdown",
      "metadata": {
        "id": "FXT-nTLrwQIs"
      },
      "source": [
        "## qiime2 Installation"
      ]
    },
    {
      "cell_type": "code",
      "metadata": {
        "id": "w3kP1YOg6bd8"
      },
      "source": [
        "\"\"\" Do not use this on a local machine. \"\"\"\n",
        "\n",
        "import os\n",
        "import sys\n",
        "from subprocess import Popen, PIPE"
      ],
      "execution_count": 32,
      "outputs": []
    },
    {
      "cell_type": "code",
      "metadata": {
        "id": "WN7H9bXA6qWw"
      },
      "source": [
        "r = Popen([\"pip\", \"install\", \"rich\"])\n",
        "r.wait()\n",
        "from rich.console import Console  # noqa\n",
        "con = Console()"
      ],
      "execution_count": 33,
      "outputs": []
    },
    {
      "cell_type": "code",
      "metadata": {
        "id": "MhiiMpEE6x9F"
      },
      "source": [
        "has_conda = \"conda version\" in os.popen(\"conda info\").read()\n",
        "has_qiime = \"QIIME 2 release:\" in os.popen(\"qiime info\").read()"
      ],
      "execution_count": 34,
      "outputs": []
    },
    {
      "cell_type": "code",
      "metadata": {
        "id": "WekorD3P62SP"
      },
      "source": [
        "MINICONDA_PATH = (\n",
        "    \"https://repo.anaconda.com/miniconda/Miniconda3-latest-Linux-x86_64.sh\"\n",
        ")\n",
        "QIIME_YAML_URL = (\n",
        "    \"https://data.qiime2.org/distro/core/qiime2-2020.2-py36-linux-conda.yml\"\n",
        ")\n",
        "QIIME_YAML = os.path.basename(QIIME_YAML_URL)"
      ],
      "execution_count": 35,
      "outputs": []
    },
    {
      "cell_type": "code",
      "metadata": {
        "id": "ZDatwS8F67l2"
      },
      "source": [
        "def cleanup():\n",
        "    \"\"\"Remove downloaded files.\"\"\"\n",
        "    if os.path.exists(\"Miniconda3-latest-Linux-x86_64.sh\"):\n",
        "        os.remove(\"Miniconda3-latest-Linux-x86_64.sh\")\n",
        "    if os.path.exists(QIIME_YAML):\n",
        "        os.remove(QIIME_YAML)\n",
        "    con.log(\"Cleaned up unneeded files.\")"
      ],
      "execution_count": 36,
      "outputs": []
    },
    {
      "cell_type": "code",
      "metadata": {
        "id": "4HvBoNgs6-Vd"
      },
      "source": [
        "def run_and_check(args, check, message, failure, success, console=con):\n",
        "    \"\"\"Run a command and check that it worked.\"\"\"\n",
        "    console.log(message)\n",
        "    r = Popen(args, env=os.environ, stdout=PIPE, stderr=PIPE,\n",
        "              universal_newlines=True)\n",
        "    o, e = r.communicate()\n",
        "    out = o + e\n",
        "    if r.returncode == 0 and check in out:\n",
        "        console.log(\"[blue]%s[/blue]\" % success)\n",
        "    else:\n",
        "        console.log(\"[red]%s[/red]\" % failure, out)\n",
        "        cleanup()\n",
        "        sys.exit(1)"
      ],
      "execution_count": 37,
      "outputs": []
    },
    {
      "cell_type": "code",
      "metadata": {
        "id": "z0XmN-dg7EU-",
        "outputId": "c60cc6c4-50c1-4576-e4df-bc469df5f594",
        "colab": {
          "base_uri": "https://localhost:8080/",
          "height": 326
        }
      },
      "source": [
        "if __name__ == \"__main__\":\n",
        "    if not has_conda:\n",
        "        run_and_check(\n",
        "            [\"wget\", MINICONDA_PATH],\n",
        "            \"saved\",\n",
        "            \":snake: Downloading miniconda...\",\n",
        "            \"failed downloading miniconda :sob:\",\n",
        "            \":snake: Done.\"\n",
        "        )\n",
        "\n",
        "        run_and_check(\n",
        "            [\"bash\", \"Miniconda3-latest-Linux-x86_64.sh\", \"-bfp\", \"/usr/local\"],\n",
        "            \"installation finished.\",\n",
        "            \":snake: Installing miniconda...\",\n",
        "            \"could not install miniconda :sob:\",\n",
        "            \":snake: Installed miniconda to `/usr/local` :snake:\"\n",
        "        )\n",
        "    else:\n",
        "        con.log(\":snake: Miniconda is already installed. Skipped.\")\n",
        "    !python -V\n",
        "    if not has_qiime:\n",
        "        run_and_check(\n",
        "            [\"wget\", QIIME_YAML_URL],\n",
        "            \"saved\",\n",
        "            \":mag: Downloading Qiime 2 package list...\",\n",
        "            \"could not download package list :sob:\",\n",
        "            \":mag: Done.\"\n",
        "        )\n",
        "\n",
        "        run_and_check(\n",
        "            [\"conda\", \"env\", \"update\", \"-n\", \"base\", \"--file\",\n",
        "             \"qiime2-2020.2-py36-linux-conda.yml\"],\n",
        "            \"To activate this environment, use\",\n",
        "            \":mag: Installing Qiime 2. This may take a little bit.\\n :clock1:\",\n",
        "            \"could not install Qiime 2 :sob:\",\n",
        "            \":mag: Done.\"\n",
        "        )\n",
        "    else:\n",
        "        con.log(\":mag: Qiime 2 is already installed. Skipped.\")\n",
        "\n",
        "    sys.path.append(\"/usr/local/lib/python3.6/site-packages\")\n",
        "    con.log(\":mag: Fixed import paths to include Qiime 2.\")\n",
        "\n",
        "    run_and_check(\n",
        "        [\"qiime\", \"info\"],\n",
        "        \"QIIME 2 release:\",\n",
        "        \":bar_chart: Checking that Qiime 2 command line works...\",\n",
        "        \"Qiime 2 command line does not seem to work :sob:\",\n",
        "        \":bar_chart: Qiime 2 command line looks good :tada:\"\n",
        "    )\n",
        "\n",
        "    con.log(\":bar_chart: Checking if Qiime 2 import works...\")\n",
        "    try:\n",
        "        import qiime2  # noqa\n",
        "    except Exception:\n",
        "        con.log(\"[red]Qiime 2 can not be imported :sob:[/red]\")\n",
        "        sys.exit(1)\n",
        "    con.log(\"[blue]:bar_chart: Qiime 2 can be imported :tada:[/blue]\")\n",
        "\n",
        "    cleanup()\n",
        "\n",
        "    con.log(\"[green]Everything is A-OK. \"\n",
        "            \"You can start using Qiime 2 now :thumbs_up:[/green]\")"
      ],
      "execution_count": 38,
      "outputs": [
        {
          "output_type": "stream",
          "text": [
            "[19:30:03] 🐍 Miniconda is already installed. <ipython-input-38-6d1fbe529108>:19\n",
            "           Skipped.                                                             \n",
            "Python 3.6.7\n",
            "[19:30:04] 🔍 Qiime 2 is already installed.   <ipython-input-38-6d1fbe529108>:39\n",
            "           Skipped.                                                             \n",
            "           🔍 Fixed import paths to include   <ipython-input-38-6d1fbe529108>:42\n",
            "           Qiime 2.                                                             \n",
            "           📊 Checking that Qiime 2 command    <ipython-input-37-186584deeb39>:3\n",
            "           line works...                                                        \n",
            "[19:30:05] 📊 Qiime 2 command line looks good  <ipython-input-37-186584deeb39>:9\n",
            "           🎉                                                                   \n",
            "           📊 Checking if Qiime 2 import      <ipython-input-38-6d1fbe529108>:52\n",
            "           works...                                                             \n",
            "           📊 Qiime 2 can be imported 🎉      <ipython-input-38-6d1fbe529108>:58\n",
            "           Cleaned up unneeded files.          <ipython-input-36-14adead4843e>:7\n",
            "           Everything is A-OK. You can start  <ipython-input-38-6d1fbe529108>:62\n",
            "           using Qiime 2 now 👍                                                 \n"
          ],
          "name": "stdout"
        }
      ]
    },
    {
      "cell_type": "code",
      "metadata": {
        "id": "YCZcoeue_CQk",
        "outputId": "d34171e0-0eb5-413b-bdb9-050fe945f66d",
        "colab": {
          "base_uri": "https://localhost:8080/",
          "height": 254
        }
      },
      "source": [
        "sys.path"
      ],
      "execution_count": 39,
      "outputs": [
        {
          "output_type": "execute_result",
          "data": {
            "text/plain": [
              "['',\n",
              " '/env/python',\n",
              " '/usr/lib/python36.zip',\n",
              " '/usr/lib/python3.6',\n",
              " '/usr/lib/python3.6/lib-dynload',\n",
              " '/usr/local/lib/python3.6/dist-packages',\n",
              " '/usr/lib/python3/dist-packages',\n",
              " '/usr/local/lib/python3.6/dist-packages/IPython/extensions',\n",
              " '/root/.ipython',\n",
              " '/usr/local/lib/python3.6/site-packages',\n",
              " '/usr/local/lib/python3.6/site-packages/q2_feature_table',\n",
              " '/usr/local/lib/python3.6/site-packages/q2_diversity',\n",
              " '/usr/local/lib/python3.6/site-packages']"
            ]
          },
          "metadata": {
            "tags": []
          },
          "execution_count": 39
        }
      ]
    },
    {
      "cell_type": "code",
      "metadata": {
        "id": "SPxulODaKJ68"
      },
      "source": [
        "_ = (sys.path\n",
        "        .append(\"/usr/local/lib/python3.6/site-packages/q2_feature_table\"))\n",
        "_ = (sys.path\n",
        "        .append(\"/usr/local/lib/python3.6/site-packages/q2_diversity\"))"
      ],
      "execution_count": 40,
      "outputs": []
    },
    {
      "cell_type": "markdown",
      "metadata": {
        "id": "lwulPqQzwz2p"
      },
      "source": [
        "# qiime2 Plugins (libraries, packages) "
      ]
    },
    {
      "cell_type": "code",
      "metadata": {
        "id": "NWQ2OsBPw5HE"
      },
      "source": [
        "import qiime2 as q2"
      ],
      "execution_count": 41,
      "outputs": []
    },
    {
      "cell_type": "code",
      "metadata": {
        "id": "ozBvViX7xAFt"
      },
      "source": [
        "import q2_feature_table, q2_demux, q2_alignment, q2_cutadapt\n",
        "import q2_dada2, q2_deblur, q2_feature_classifier, q2_fragment_insertion"
      ],
      "execution_count": 42,
      "outputs": []
    },
    {
      "cell_type": "code",
      "metadata": {
        "id": "oefgGuUQamQv"
      },
      "source": [
        "from qiime2.plugin import (Plugin, Str, Properties, Choices, Int, Bool, Range,\n",
        "                           Float, Set, Visualization, Metadata, MetadataColumn,\n",
        "                           Categorical, Numeric, Citations)"
      ],
      "execution_count": 43,
      "outputs": []
    },
    {
      "cell_type": "code",
      "metadata": {
        "id": "4m6HcVP_-V4M",
        "outputId": "20d574ad-eeb1-4489-9715-3df4085416e5",
        "colab": {
          "base_uri": "https://localhost:8080/",
          "height": 635
        }
      },
      "source": [
        "# check the installed plugins\n",
        "!qiime info"
      ],
      "execution_count": 44,
      "outputs": [
        {
          "output_type": "stream",
          "text": [
            "\u001b[32mSystem versions\u001b[0m\n",
            "Python version: 3.6.7\n",
            "QIIME 2 release: 2020.2\n",
            "QIIME 2 version: 2020.2.0\n",
            "q2cli version: 2020.2.0\n",
            "\u001b[32m\n",
            "Installed plugins\u001b[0m\n",
            "alignment: 2020.2.0\n",
            "composition: 2020.2.0\n",
            "cutadapt: 2020.2.0\n",
            "dada2: 2020.2.0\n",
            "deblur: 2020.2.0\n",
            "demux: 2020.2.0\n",
            "diversity: 2020.2.0\n",
            "emperor: 2020.2.0\n",
            "feature-classifier: 2020.2.0\n",
            "feature-table: 2020.2.0\n",
            "fragment-insertion: 2020.2.0\n",
            "gneiss: 2020.2.0\n",
            "longitudinal: 2020.2.0\n",
            "metadata: 2020.2.0\n",
            "phylogeny: 2020.2.0\n",
            "quality-control: 2020.2.0\n",
            "quality-filter: 2020.2.0\n",
            "sample-classifier: 2020.2.0\n",
            "taxa: 2020.2.0\n",
            "types: 2020.2.0\n",
            "vsearch: 2020.2.0\n",
            "\u001b[32m\n",
            "Application config directory\u001b[0m\n",
            "/root/.config/q2cli\u001b[0m\n",
            "\u001b[32m\n",
            "Getting help\u001b[0m\n",
            "To get help with QIIME 2, visit https://qiime2.org\u001b[0m\n"
          ],
          "name": "stdout"
        }
      ]
    },
    {
      "cell_type": "markdown",
      "metadata": {
        "id": "yqChkYMZrTNh"
      },
      "source": [
        "## Parkinson’s Mouse Tutorial from [qiime2.org](https://docs.qiime2.org/2020.8/tutorials/pd-mice/)\n",
        "\n",
        "## Abstract\n",
        "This tutorial will demonstrate a “typical” QIIME 2 analysis of 16S rRNA gene amplicon data, using a set of fecal samples from humanized mice. The original study, Sampson et al, 2016, was designed to determine whether the fecal microbiome contributed to the development of Parkinson’s Disease (PD). Several observation studies showed a difference in the microbiome between PD patients and controls, although the organisms identified across studies were not consistent. However, this was sufficient evidence to suggest that there might be a relationship between PD and the fecal microbiome.\n",
        "\n",
        "To determine whether that relationship was incidental or actually disease associated, a second study was needed. A human cohort study was not feasible; the disease only affects about 1% of the population over 60 years old, PD takes a long time to develop and to be diagnosed, and it would be difficult to determine when to collect the samples. Therefore, a gnotobiotic mouse study was utilized to evaluate the role of the microbiome in the development of PD symptoms. Feces were collected from six donors with Parkinson’s disease and six age- and sex-matched neurologically healthy controls, and then transplanted into mice who were either predisposed to developing Parkinson’s disease due to a mutation (“aSyn”) or resistant wild type mice (“BDF1”). Mice from different donors were kept in separate cages, but mice from different genetic backgrounds were co-housed. The mice were followed for 7 weeks to see if they developed symptoms of Parkinson’s disease.\n",
        "\n",
        "## Data \n",
        "We’ll look at a subset of data from two human donors (one healthy and one with PD) whose samples were each transplanted into three separate cages of mice from the susceptible genotype. For this tutorial, a subset of the metadata has been prepared, and the sequences have been subsampled to approximately 5000 sequences per sample to allow the tutorial to run in a short time. The sequences for the full study are accessible at EBI with accession PRJEB17694; processed tables from the full study can be downloaded from the Qiita database from study 10483.\n",
        "\n"
      ]
    },
    {
      "cell_type": "markdown",
      "metadata": {
        "id": "9GvfYbfxxYO3"
      },
      "source": [
        "## Hypothesis\n",
        "This tutorial will explore the hypothesis that the genetic background of a humanized mouse influences the microbial community. However, we’ll also need to consider other confounders which might drive the shape of the microbiome instead of the mouse genotype."
      ]
    },
    {
      "cell_type": "code",
      "metadata": {
        "id": "WREJ-R0NssAn"
      },
      "source": [
        "import pandas as pd\n",
        "import numpy as np"
      ],
      "execution_count": 45,
      "outputs": []
    },
    {
      "cell_type": "code",
      "metadata": {
        "id": "pfGJtT6VNs2h",
        "outputId": "49ee39ee-3307-4fa2-ff9d-b3bd3aa56aa9",
        "colab": {
          "base_uri": "https://localhost:8080/",
          "height": 35
        }
      },
      "source": [
        "!mkdir ./demultiplexed_seqs\n",
        "!cd ./demultiplexed_seqs"
      ],
      "execution_count": 46,
      "outputs": [
        {
          "output_type": "stream",
          "text": [
            "mkdir: cannot create directory ‘./demultiplexed_seqs’: File exists\n"
          ],
          "name": "stdout"
        }
      ]
    },
    {
      "cell_type": "code",
      "metadata": {
        "id": "MZcHrA4hSMNY",
        "outputId": "65addf52-9e5c-4485-e14c-4607233e5773",
        "colab": {
          "base_uri": "https://localhost:8080/",
          "height": 217
        }
      },
      "source": [
        "!wget https://raw.githubusercontent.com/cappelchi/storage/master/qiime2/parkinson/filereport_read_run_PRJEB17694_json.txt\n",
        "project = pd.read_json('/content/filereport_read_run_PRJEB17694_json.txt')"
      ],
      "execution_count": 47,
      "outputs": [
        {
          "output_type": "stream",
          "text": [
            "--2020-10-22 19:30:06--  https://raw.githubusercontent.com/cappelchi/storage/master/qiime2/parkinson/filereport_read_run_PRJEB17694_json.txt\n",
            "Resolving raw.githubusercontent.com (raw.githubusercontent.com)... 151.101.0.133, 151.101.64.133, 151.101.128.133, ...\n",
            "Connecting to raw.githubusercontent.com (raw.githubusercontent.com)|151.101.0.133|:443... connected.\n",
            "HTTP request sent, awaiting response... 200 OK\n",
            "Length: 236288 (231K) [text/plain]\n",
            "Saving to: ‘filereport_read_run_PRJEB17694_json.txt.1’\n",
            "\n",
            "filereport_read_run 100%[===================>] 230.75K  --.-KB/s    in 0.03s   \n",
            "\n",
            "2020-10-22 19:30:06 (6.84 MB/s) - ‘filereport_read_run_PRJEB17694_json.txt.1’ saved [236288/236288]\n",
            "\n"
          ],
          "name": "stdout"
        }
      ]
    },
    {
      "cell_type": "code",
      "metadata": {
        "id": "A205swU4YpWp",
        "outputId": "cee2ba66-d7c1-4128-c589-42f77b1af1c3",
        "colab": {
          "base_uri": "https://localhost:8080/",
          "height": 235
        }
      },
      "source": [
        "project.head()"
      ],
      "execution_count": 48,
      "outputs": [
        {
          "output_type": "execute_result",
          "data": {
            "text/html": [
              "<div>\n",
              "<style scoped>\n",
              "    .dataframe tbody tr th:only-of-type {\n",
              "        vertical-align: middle;\n",
              "    }\n",
              "\n",
              "    .dataframe tbody tr th {\n",
              "        vertical-align: top;\n",
              "    }\n",
              "\n",
              "    .dataframe thead th {\n",
              "        text-align: right;\n",
              "    }\n",
              "</style>\n",
              "<table border=\"1\" class=\"dataframe\">\n",
              "  <thead>\n",
              "    <tr style=\"text-align: right;\">\n",
              "      <th></th>\n",
              "      <th>run_accession</th>\n",
              "      <th>study_accession</th>\n",
              "      <th>sample_accession</th>\n",
              "      <th>experiment_accession</th>\n",
              "      <th>tax_id</th>\n",
              "      <th>scientific_name</th>\n",
              "      <th>fastq_ftp</th>\n",
              "      <th>submitted_ftp</th>\n",
              "      <th>sra_ftp</th>\n",
              "      <th>sample_alias</th>\n",
              "    </tr>\n",
              "  </thead>\n",
              "  <tbody>\n",
              "    <tr>\n",
              "      <th>0</th>\n",
              "      <td>ERR1722239</td>\n",
              "      <td>PRJEB17694</td>\n",
              "      <td>SAMEA4535274</td>\n",
              "      <td>ERX1792191</td>\n",
              "      <td>408170</td>\n",
              "      <td>human gut metagenome</td>\n",
              "      <td>ftp.sra.ebi.ac.uk/vol1/fastq/ERR172/009/ERR172...</td>\n",
              "      <td>ftp.sra.ebi.ac.uk/vol1/run/ERR172/ERR1722239/1...</td>\n",
              "      <td>ftp.sra.ebi.ac.uk/vol1/err/ERR172/009/ERR1722239</td>\n",
              "      <td>qiita_sid_10483:10483.recip.452.ASO.PD3.D7</td>\n",
              "    </tr>\n",
              "    <tr>\n",
              "      <th>1</th>\n",
              "      <td>ERR1731959</td>\n",
              "      <td>PRJEB17694</td>\n",
              "      <td>SAMEA4548192</td>\n",
              "      <td>ERX1801867</td>\n",
              "      <td>256318</td>\n",
              "      <td>metagenome</td>\n",
              "      <td>ftp.sra.ebi.ac.uk/vol1/fastq/ERR173/009/ERR173...</td>\n",
              "      <td>ftp.sra.ebi.ac.uk/vol1/run/ERR173/ERR1731959/1...</td>\n",
              "      <td>ftp.sra.ebi.ac.uk/vol1/err/ERR173/009/ERR1731959</td>\n",
              "      <td>qiita_sid_10483:10483.BLANK1.1A</td>\n",
              "    </tr>\n",
              "    <tr>\n",
              "      <th>2</th>\n",
              "      <td>ERR1731960</td>\n",
              "      <td>PRJEB17694</td>\n",
              "      <td>SAMEA4548193</td>\n",
              "      <td>ERX1801868</td>\n",
              "      <td>256318</td>\n",
              "      <td>metagenome</td>\n",
              "      <td>ftp.sra.ebi.ac.uk/vol1/fastq/ERR173/000/ERR173...</td>\n",
              "      <td>ftp.sra.ebi.ac.uk/vol1/run/ERR173/ERR1731960/1...</td>\n",
              "      <td>ftp.sra.ebi.ac.uk/vol1/err/ERR173/000/ERR1731960</td>\n",
              "      <td>qiita_sid_10483:10483.BLANK1.1C</td>\n",
              "    </tr>\n",
              "    <tr>\n",
              "      <th>3</th>\n",
              "      <td>ERR1731961</td>\n",
              "      <td>PRJEB17694</td>\n",
              "      <td>SAMEA4548194</td>\n",
              "      <td>ERX1801869</td>\n",
              "      <td>256318</td>\n",
              "      <td>metagenome</td>\n",
              "      <td>ftp.sra.ebi.ac.uk/vol1/fastq/ERR173/001/ERR173...</td>\n",
              "      <td>ftp.sra.ebi.ac.uk/vol1/run/ERR173/ERR1731961/1...</td>\n",
              "      <td>ftp.sra.ebi.ac.uk/vol1/err/ERR173/001/ERR1731961</td>\n",
              "      <td>qiita_sid_10483:10483.BLANK1.1F</td>\n",
              "    </tr>\n",
              "    <tr>\n",
              "      <th>4</th>\n",
              "      <td>ERR1731962</td>\n",
              "      <td>PRJEB17694</td>\n",
              "      <td>SAMEA4548195</td>\n",
              "      <td>ERX1801870</td>\n",
              "      <td>256318</td>\n",
              "      <td>metagenome</td>\n",
              "      <td>ftp.sra.ebi.ac.uk/vol1/fastq/ERR173/002/ERR173...</td>\n",
              "      <td>ftp.sra.ebi.ac.uk/vol1/run/ERR173/ERR1731962/1...</td>\n",
              "      <td>ftp.sra.ebi.ac.uk/vol1/err/ERR173/002/ERR1731962</td>\n",
              "      <td>qiita_sid_10483:10483.BLANK1.1G</td>\n",
              "    </tr>\n",
              "  </tbody>\n",
              "</table>\n",
              "</div>"
            ],
            "text/plain": [
              "  run_accession  ...                                sample_alias\n",
              "0    ERR1722239  ...  qiita_sid_10483:10483.recip.452.ASO.PD3.D7\n",
              "1    ERR1731959  ...             qiita_sid_10483:10483.BLANK1.1A\n",
              "2    ERR1731960  ...             qiita_sid_10483:10483.BLANK1.1C\n",
              "3    ERR1731961  ...             qiita_sid_10483:10483.BLANK1.1F\n",
              "4    ERR1731962  ...             qiita_sid_10483:10483.BLANK1.1G\n",
              "\n",
              "[5 rows x 10 columns]"
            ]
          },
          "metadata": {
            "tags": []
          },
          "execution_count": 48
        }
      ]
    },
    {
      "cell_type": "code",
      "metadata": {
        "id": "m_kMHklObuBs"
      },
      "source": [
        "accession_dict = {}\n",
        "for cnt, file in enumerate(project.submitted_ftp):\n",
        "    accession_dict[file.split('/')[-1]] = cnt"
      ],
      "execution_count": 49,
      "outputs": []
    },
    {
      "cell_type": "markdown",
      "metadata": {
        "id": "_TamjoQrrSWW"
      },
      "source": [
        "###Metadata\n",
        "Before starting any analysis, it’s important to be familiar with the metadata. In this study, the metadata file contains 7 columns:\n",
        "- sample name\n",
        "- barcode\n",
        "- mouse ID\n",
        "- genotype\n",
        "- cage ID\n",
        "- donor\n",
        "- donor status (Donor pd_1 had Parkinson’s disease; hc_1 was neurologically healthy)\n",
        "- days post transplant\n",
        "- genotype and donor status"
      ]
    },
    {
      "cell_type": "code",
      "metadata": {
        "id": "cTyY0-KUsX98",
        "outputId": "c3f45d96-110e-45e1-9f47-e1a68445f918",
        "colab": {
          "base_uri": "https://localhost:8080/",
          "height": 437
        }
      },
      "source": [
        "!wget \\\n",
        "  -O \"metadata.tsv\" \\\n",
        "  \"https://data.qiime2.org/2020.8/tutorials/pd-mice/sample_metadata.tsv\""
      ],
      "execution_count": 50,
      "outputs": [
        {
          "output_type": "stream",
          "text": [
            "--2020-10-22 19:30:07--  https://data.qiime2.org/2020.8/tutorials/pd-mice/sample_metadata.tsv\n",
            "Resolving data.qiime2.org (data.qiime2.org)... 52.35.38.247\n",
            "Connecting to data.qiime2.org (data.qiime2.org)|52.35.38.247|:443... connected.\n",
            "HTTP request sent, awaiting response... 302 FOUND\n",
            "Location: https://docs.google.com/spreadsheets/d/e/2PACX-1vRe42IpLxZI1V5gtkuej2vuO31tyu0NCRbjECXx8SuQcarHhEqFFyluwmU72BesGWfEH-IX_tXGs8FX/pub?gid=1509704122&single=true&output=tsv [following]\n",
            "--2020-10-22 19:30:07--  https://docs.google.com/spreadsheets/d/e/2PACX-1vRe42IpLxZI1V5gtkuej2vuO31tyu0NCRbjECXx8SuQcarHhEqFFyluwmU72BesGWfEH-IX_tXGs8FX/pub?gid=1509704122&single=true&output=tsv\n",
            "Resolving docs.google.com (docs.google.com)... 74.125.197.138, 74.125.197.102, 74.125.197.101, ...\n",
            "Connecting to docs.google.com (docs.google.com)|74.125.197.138|:443... connected.\n",
            "HTTP request sent, awaiting response... 307 Temporary Redirect\n",
            "Location: https://doc-08-6o-sheets.googleusercontent.com/pub/l5l039s6ni5uumqbsj9o11lmdc/8cmo5kikeoe80q5jjr0mjf41ro/1603395005000/103995680502445084602/*/e@2PACX-1vRe42IpLxZI1V5gtkuej2vuO31tyu0NCRbjECXx8SuQcarHhEqFFyluwmU72BesGWfEH-IX_tXGs8FX?gid=1509704122&single=true&output=tsv [following]\n",
            "Warning: wildcards not supported in HTTP.\n",
            "--2020-10-22 19:30:07--  https://doc-08-6o-sheets.googleusercontent.com/pub/l5l039s6ni5uumqbsj9o11lmdc/8cmo5kikeoe80q5jjr0mjf41ro/1603395005000/103995680502445084602/*/e@2PACX-1vRe42IpLxZI1V5gtkuej2vuO31tyu0NCRbjECXx8SuQcarHhEqFFyluwmU72BesGWfEH-IX_tXGs8FX?gid=1509704122&single=true&output=tsv\n",
            "Resolving doc-08-6o-sheets.googleusercontent.com (doc-08-6o-sheets.googleusercontent.com)... 74.125.195.132, 2607:f8b0:400e:c09::84\n",
            "Connecting to doc-08-6o-sheets.googleusercontent.com (doc-08-6o-sheets.googleusercontent.com)|74.125.195.132|:443... connected.\n",
            "HTTP request sent, awaiting response... 200 OK\n",
            "Length: unspecified [text/tab-separated-values]\n",
            "Saving to: ‘metadata.tsv’\n",
            "\n",
            "metadata.tsv            [ <=>                ]   4.33K  --.-KB/s    in 0s      \n",
            "\n",
            "2020-10-22 19:30:08 (28.8 MB/s) - ‘metadata.tsv’ saved [4431]\n",
            "\n"
          ],
          "name": "stdout"
        }
      ]
    },
    {
      "cell_type": "code",
      "metadata": {
        "id": "m1mhsbqNsf9Y"
      },
      "source": [
        "metadata = pd.read_csv('metadata.tsv', sep = '\\t', \n",
        "                       names = ['sample_name',\t'barcode',\t'mouse_id',\t'genotype',\n",
        "                                'cage_id',\t'donor',\t'donor_status',\n",
        "                                'days_post_transplant',\t'genotype_and_donor_status'],\n",
        "                       skiprows = 2)"
      ],
      "execution_count": 51,
      "outputs": []
    },
    {
      "cell_type": "code",
      "metadata": {
        "id": "EkkSxfzkq04x",
        "outputId": "3ad52512-d77b-4b87-a2e8-1176852a3a9a",
        "colab": {
          "base_uri": "https://localhost:8080/",
          "height": 198
        }
      },
      "source": [
        "metadata.head()"
      ],
      "execution_count": 52,
      "outputs": [
        {
          "output_type": "execute_result",
          "data": {
            "text/html": [
              "<div>\n",
              "<style scoped>\n",
              "    .dataframe tbody tr th:only-of-type {\n",
              "        vertical-align: middle;\n",
              "    }\n",
              "\n",
              "    .dataframe tbody tr th {\n",
              "        vertical-align: top;\n",
              "    }\n",
              "\n",
              "    .dataframe thead th {\n",
              "        text-align: right;\n",
              "    }\n",
              "</style>\n",
              "<table border=\"1\" class=\"dataframe\">\n",
              "  <thead>\n",
              "    <tr style=\"text-align: right;\">\n",
              "      <th></th>\n",
              "      <th>sample_name</th>\n",
              "      <th>barcode</th>\n",
              "      <th>mouse_id</th>\n",
              "      <th>genotype</th>\n",
              "      <th>cage_id</th>\n",
              "      <th>donor</th>\n",
              "      <th>donor_status</th>\n",
              "      <th>days_post_transplant</th>\n",
              "      <th>genotype_and_donor_status</th>\n",
              "    </tr>\n",
              "  </thead>\n",
              "  <tbody>\n",
              "    <tr>\n",
              "      <th>0</th>\n",
              "      <td>recip.220.WT.OB1.D7</td>\n",
              "      <td>CCTCCGTCATGG</td>\n",
              "      <td>457</td>\n",
              "      <td>wild type</td>\n",
              "      <td>C35</td>\n",
              "      <td>hc_1</td>\n",
              "      <td>Healthy</td>\n",
              "      <td>49</td>\n",
              "      <td>wild type and Healthy</td>\n",
              "    </tr>\n",
              "    <tr>\n",
              "      <th>1</th>\n",
              "      <td>recip.290.ASO.OB2.D1</td>\n",
              "      <td>AACAGTAAACAA</td>\n",
              "      <td>456</td>\n",
              "      <td>susceptible</td>\n",
              "      <td>C35</td>\n",
              "      <td>hc_1</td>\n",
              "      <td>Healthy</td>\n",
              "      <td>49</td>\n",
              "      <td>susceptible and Healthy</td>\n",
              "    </tr>\n",
              "    <tr>\n",
              "      <th>2</th>\n",
              "      <td>recip.389.WT.HC2.D21</td>\n",
              "      <td>ATGTATCAATTA</td>\n",
              "      <td>435</td>\n",
              "      <td>susceptible</td>\n",
              "      <td>C31</td>\n",
              "      <td>hc_1</td>\n",
              "      <td>Healthy</td>\n",
              "      <td>21</td>\n",
              "      <td>susceptible and Healthy</td>\n",
              "    </tr>\n",
              "    <tr>\n",
              "      <th>3</th>\n",
              "      <td>recip.391.ASO.PD2.D14</td>\n",
              "      <td>GTCAGTATGGCT</td>\n",
              "      <td>435</td>\n",
              "      <td>susceptible</td>\n",
              "      <td>C31</td>\n",
              "      <td>hc_1</td>\n",
              "      <td>Healthy</td>\n",
              "      <td>14</td>\n",
              "      <td>susceptible and Healthy</td>\n",
              "    </tr>\n",
              "    <tr>\n",
              "      <th>4</th>\n",
              "      <td>recip.391.ASO.PD2.D21</td>\n",
              "      <td>AGACAGTAGGAG</td>\n",
              "      <td>437</td>\n",
              "      <td>susceptible</td>\n",
              "      <td>C31</td>\n",
              "      <td>hc_1</td>\n",
              "      <td>Healthy</td>\n",
              "      <td>21</td>\n",
              "      <td>susceptible and Healthy</td>\n",
              "    </tr>\n",
              "  </tbody>\n",
              "</table>\n",
              "</div>"
            ],
            "text/plain": [
              "             sample_name  ... genotype_and_donor_status\n",
              "0    recip.220.WT.OB1.D7  ...     wild type and Healthy\n",
              "1   recip.290.ASO.OB2.D1  ...   susceptible and Healthy\n",
              "2   recip.389.WT.HC2.D21  ...   susceptible and Healthy\n",
              "3  recip.391.ASO.PD2.D14  ...   susceptible and Healthy\n",
              "4  recip.391.ASO.PD2.D21  ...   susceptible and Healthy\n",
              "\n",
              "[5 rows x 9 columns]"
            ]
          },
          "metadata": {
            "tags": []
          },
          "execution_count": 52
        }
      ]
    },
    {
      "cell_type": "code",
      "metadata": {
        "id": "R0CHtywZqMCh",
        "outputId": "5be7379e-0530-4dab-b5e9-b52fd03fa1dc",
        "colab": {
          "base_uri": "https://localhost:8080/",
          "height": 108
        }
      },
      "source": [
        "from collections import Counter\n",
        "print(Counter(metadata.genotype))\n",
        "print(Counter(metadata.donor))\n",
        "print(Counter(metadata.donor_status))\n",
        "print(Counter(metadata.days_post_transplant))\n",
        "print(Counter(metadata.genotype_and_donor_status))"
      ],
      "execution_count": 53,
      "outputs": [
        {
          "output_type": "stream",
          "text": [
            "Counter({'wild type': 24, 'susceptible': 24})\n",
            "Counter({'hc_1': 24, 'pd_1': 24})\n",
            "Counter({'Healthy': 24, 'PD': 24})\n",
            "Counter({49: 12, 21: 12, 14: 12, 7: 12})\n",
            "Counter({'wild type and Healthy': 12, 'susceptible and Healthy': 12, 'susceptible and PD': 12, 'wild type and PD': 12})\n"
          ],
          "name": "stdout"
        }
      ]
    },
    {
      "cell_type": "code",
      "metadata": {
        "id": "dYigfjD2vE9N"
      },
      "source": [
        "from qiime2 import Metadata\n",
        "import biom\n",
        "import requests\n",
        "import os.path"
      ],
      "execution_count": 54,
      "outputs": []
    },
    {
      "cell_type": "code",
      "metadata": {
        "id": "rnyK1_BTvHqq"
      },
      "source": [
        "metadata_api = Metadata.load('metadata.tsv')"
      ],
      "execution_count": 55,
      "outputs": []
    },
    {
      "cell_type": "code",
      "metadata": {
        "id": "ptXnf34OvWai",
        "outputId": "984d2ddc-5a56-41c9-b826-2d5db51a68ea",
        "colab": {
          "base_uri": "https://localhost:8080/",
          "height": 254
        }
      },
      "source": [
        "metadata_api"
      ],
      "execution_count": 56,
      "outputs": [
        {
          "output_type": "execute_result",
          "data": {
            "text/plain": [
              "Metadata\n",
              "--------\n",
              "48 IDs x 8 columns\n",
              "barcode:                   ColumnProperties(type='categorical')\n",
              "mouse_id:                  ColumnProperties(type='categorical')\n",
              "genotype:                  ColumnProperties(type='categorical')\n",
              "cage_id:                   ColumnProperties(type='categorical')\n",
              "donor:                     ColumnProperties(type='categorical')\n",
              "donor_status:              ColumnProperties(type='categorical')\n",
              "days_post_transplant:      ColumnProperties(type='numeric')\n",
              "genotype_and_donor_status: ColumnProperties(type='categorical')\n",
              "\n",
              "Call to_dataframe() for a tabular representation."
            ]
          },
          "metadata": {
            "tags": []
          },
          "execution_count": 56
        }
      ]
    },
    {
      "cell_type": "markdown",
      "metadata": {
        "id": "7hwAT_zqvGBm"
      },
      "source": [
        "Even though the mouse ID looks like a number, we will specify that it is categorical using the #q2_type directive."
      ]
    },
    {
      "cell_type": "code",
      "metadata": {
        "id": "ZpmAa9tYuI2e",
        "outputId": "519d60f5-c1df-4cc9-97aa-7743b565f443",
        "colab": {
          "base_uri": "https://localhost:8080/",
          "height": 35
        }
      },
      "source": [
        "!qiime metadata tabulate \\\n",
        "  --m-input-file metadata.tsv \\\n",
        "  --o-visualization metadata.qzv"
      ],
      "execution_count": 57,
      "outputs": [
        {
          "output_type": "stream",
          "text": [
            "\u001b[32mSaved Visualization to: metadata.qzv\u001b[0m\n"
          ],
          "name": "stdout"
        }
      ]
    },
    {
      "cell_type": "markdown",
      "metadata": {
        "id": "isHIvqs8vZJg"
      },
      "source": [
        "## Importing data into QIIME 2\n",
        "In QIIME 2, all data is structured as an Artifact of a specific semantic type. Artifacts contain the data as well as information about the data, including a record of the original data and the tools used to process it.\n",
        "\n",
        "Our samples were amplified using the EMP 515f-806r primers and sequenced on an Illumina MiSeq with a 2x150bp kit. The hypervariable region covered by the primers we used is 290bp long, so with 150bp reads our sequences will be slightly too short to be able to do paired-end analysis downstream. Therefore, we’re going to work with single-end sequences. We will work with a version of the samples which have already been demultiplexed, for example, by the sequencing center. If you need to demultiplex your sequences, the [Moving Pictures](https://docs.qiime2.org/2020.8/tutorials/moving-pictures/) tutorial describes how to demultiplex sequences if they were sequenced using the Earth Microbiome Project protocol.\n",
        "\n",
        "We will import the sequences as SampleData[SequencesWithQuality], which is the demultiplexed single-end sequence format. If we wanted to import paired-sequences, we would specify the semantic type SampleData[PairedEndSequencesWithQuality]. We will import the sequences using the sample manifest format, a versatile way to import demultiplexed data in QIIME 2. We create a tab-separated sample manifest file that maps the sample name we want to use in QIIME 2 to the path of the sequence file. The benefit is that the demultiplexed sequence files can be named anything you want; there are not fixed assumptions about the conventions, and the file names do not dictate the final name. When QIIME 2 reads the file, it ignores any line prefixed with the # symbol. The first line that doesn’t contain a # is the header line and must be sample-id<TAB>absolute-filepath. The sample order after the header line does not matter. \n"
      ]
    },
    {
      "cell_type": "markdown",
      "metadata": {
        "id": "IO0Q0l2txzjZ"
      },
      "source": [
        "## Download the manifest"
      ]
    },
    {
      "cell_type": "code",
      "metadata": {
        "id": "hsL793xdt49k",
        "outputId": "3cc7a9e7-0d6b-4397-c016-d397e367d247",
        "colab": {
          "base_uri": "https://localhost:8080/",
          "height": 308
        }
      },
      "source": [
        "!wget \\\n",
        "  -O \"manifest.tsv\" \\\n",
        "  \"https://data.qiime2.org/2020.8/tutorials/pd-mice/manifest\""
      ],
      "execution_count": 58,
      "outputs": [
        {
          "output_type": "stream",
          "text": [
            "--2020-10-22 19:30:13--  https://data.qiime2.org/2020.8/tutorials/pd-mice/manifest\n",
            "Resolving data.qiime2.org (data.qiime2.org)... 52.35.38.247\n",
            "Connecting to data.qiime2.org (data.qiime2.org)|52.35.38.247|:443... connected.\n",
            "HTTP request sent, awaiting response... 302 FOUND\n",
            "Location: https://s3-us-west-2.amazonaws.com/qiime2-data/2020.8/tutorials/pd-mice/manifest [following]\n",
            "--2020-10-22 19:30:13--  https://s3-us-west-2.amazonaws.com/qiime2-data/2020.8/tutorials/pd-mice/manifest\n",
            "Resolving s3-us-west-2.amazonaws.com (s3-us-west-2.amazonaws.com)... 52.218.208.216\n",
            "Connecting to s3-us-west-2.amazonaws.com (s3-us-west-2.amazonaws.com)|52.218.208.216|:443... connected.\n",
            "HTTP request sent, awaiting response... 200 OK\n",
            "Length: 4640 (4.5K) [binary/octet-stream]\n",
            "Saving to: ‘manifest.tsv’\n",
            "\n",
            "\rmanifest.tsv          0%[                    ]       0  --.-KB/s               \rmanifest.tsv        100%[===================>]   4.53K  --.-KB/s    in 0s      \n",
            "\n",
            "2020-10-22 19:30:13 (148 MB/s) - ‘manifest.tsv’ saved [4640/4640]\n",
            "\n"
          ],
          "name": "stdout"
        }
      ]
    },
    {
      "cell_type": "code",
      "metadata": {
        "id": "d1_m6lLPv1om"
      },
      "source": [
        "manifest = pd.read_csv('manifest.tsv', sep = '\\t', header =0)"
      ],
      "execution_count": 59,
      "outputs": []
    },
    {
      "cell_type": "code",
      "metadata": {
        "id": "wUzvga4qLY0W",
        "outputId": "9a2d8b1c-3fb2-4b6f-a8ef-1671b06dbcab",
        "colab": {
          "base_uri": "https://localhost:8080/",
          "height": 35
        }
      },
      "source": [
        "len(manifest)"
      ],
      "execution_count": 60,
      "outputs": [
        {
          "output_type": "execute_result",
          "data": {
            "text/plain": [
              "48"
            ]
          },
          "metadata": {
            "tags": []
          },
          "execution_count": 60
        }
      ]
    },
    {
      "cell_type": "code",
      "metadata": {
        "id": "n3yyb_nc7Fzp"
      },
      "source": [
        "manifest_dict = {}\n",
        "for cnt, file in enumerate(manifest['absolute-filepath']):\n",
        "    manifest_dict[file.split('/')[-1]] = cnt"
      ],
      "execution_count": 61,
      "outputs": []
    },
    {
      "cell_type": "code",
      "metadata": {
        "id": "Tx6j5OvWGrUe",
        "outputId": "7f761c14-ed71-404f-cd24-1a4e78c31ace",
        "colab": {
          "base_uri": "https://localhost:8080/",
          "height": 3363
        }
      },
      "source": [
        "for key_man in manifest_dict.keys():\n",
        "    for key_acc in accession_dict.keys():\n",
        "        if key_acc.split('10483.')[-1].split('.fastq.gz')[0] in key_man:\n",
        "            #print ('in manifest: ', key_man, manifest_dict[key_man])\n",
        "            #print ('in accession: ', key_acc, accession_dict[key_acc])\n",
        "            dwnld = 'http://' + project.submitted_ftp[accession_dict[key_acc]]\n",
        "            save_as = manifest['absolute-filepath'][manifest_dict[key_man]].split('$PWD/')[1]\n",
        "            #!wget ––tries=5 -O {save_as} {dwnld}\n",
        "            if not os.path.isfile(save_as):\n",
        "                print(dwnld)\n",
        "                print(save_as)          \n",
        "                for tries in range(5):\n",
        "                    print('Try n.', tries)\n",
        "                    get_file = requests.get(dwnld)\n",
        "                    print('Status: ', get_file.status_code)\n",
        "                    if get_file.status_code == 200:\n",
        "                        open(save_as, 'wb').write(get_file.content)\n",
        "                        print('Done...')\n",
        "                        print('\\n')   \n",
        "                        break\n",
        "                    else:\n",
        "                        print ('Error n.', get_file.status_code)\n",
        "            else:\n",
        "                print('File EXIST: ', save_as)\n",
        "                print('\\n') "
      ],
      "execution_count": 62,
      "outputs": [
        {
          "output_type": "stream",
          "text": [
            "File EXIST:  demultiplexed_seqs/10483.recip.220.WT.OB1.D7_30_L001_R1_001.fastq.gz\n",
            "\n",
            "\n",
            "File EXIST:  demultiplexed_seqs/10483.recip.290.ASO.OB2.D1_27_L001_R1_001.fastq.gz\n",
            "\n",
            "\n",
            "File EXIST:  demultiplexed_seqs/10483.recip.389.WT.HC2.D21_1_L001_R1_001.fastq.gz\n",
            "\n",
            "\n",
            "File EXIST:  demultiplexed_seqs/10483.recip.391.ASO.PD2.D14_5_L001_R1_001.fastq.gz\n",
            "\n",
            "\n",
            "File EXIST:  demultiplexed_seqs/10483.recip.391.ASO.PD2.D21_1_L001_R1_001.fastq.gz\n",
            "\n",
            "\n",
            "File EXIST:  demultiplexed_seqs/10483.recip.391.ASO.PD2.D7_15_L001_R1_001.fastq.gz\n",
            "\n",
            "\n",
            "File EXIST:  demultiplexed_seqs/10483.recip.400.ASO.HC2.D14_32_L001_R1_001.fastq.gz\n",
            "\n",
            "\n",
            "File EXIST:  demultiplexed_seqs/10483.recip.401.ASO.HC2.D7_22_L001_R1_001.fastq.gz\n",
            "\n",
            "\n",
            "File EXIST:  demultiplexed_seqs/10483.recip.403.ASO.PD2.D21_31_L001_R1_001.fastq.gz\n",
            "\n",
            "\n",
            "File EXIST:  demultiplexed_seqs/10483.recip.411.ASO.HC2.D14_9_L001_R1_001.fastq.gz\n",
            "\n",
            "\n",
            "File EXIST:  demultiplexed_seqs/recip.411.ASO.HC2.D21_0_L001_R1_001.fastq.gz\n",
            "\n",
            "\n",
            "File EXIST:  demultiplexed_seqs/10483.recip.411.ASO.HC2.D49_6_L001_R1_001.fastq.gz\n",
            "\n",
            "\n",
            "File EXIST:  demultiplexed_seqs/10483.recip.412.ASO.HC2.D14_13_L001_R1_001.fastq.gz\n",
            "\n",
            "\n",
            "File EXIST:  demultiplexed_seqs/10483.recip.412.ASO.HC2.D7_24_L001_R1_001.fastq.gz\n",
            "\n",
            "\n",
            "File EXIST:  demultiplexed_seqs/10483.recip.413.WT.HC2.D7_12_L001_R1_001.fastq.gz\n",
            "\n",
            "\n",
            "File EXIST:  demultiplexed_seqs/10483.recip.456.ASO.HC3.D49_28_L001_R1_001.fastq.gz\n",
            "\n",
            "\n",
            "File EXIST:  demultiplexed_seqs/10483.recip.458.ASO.HC3.D21_10_L001_R1_001.fastq.gz\n",
            "\n",
            "\n",
            "File EXIST:  demultiplexed_seqs/10483.recip.458.ASO.HC3.D49_2_L001_R1_001.fastq.gz\n",
            "\n",
            "\n",
            "File EXIST:  demultiplexed_seqs/10483.recip.459.WT.HC3.D14_2_L001_R1_001.fastq.gz\n",
            "\n",
            "\n",
            "File EXIST:  demultiplexed_seqs/10483.recip.459.WT.HC3.D21_21_L001_R1_001.fastq.gz\n",
            "\n",
            "\n",
            "File EXIST:  demultiplexed_seqs/10483.recip.459.WT.HC3.D49_3_L001_R1_001.fastq.gz\n",
            "\n",
            "\n",
            "File EXIST:  demultiplexed_seqs/10483.recip.460.WT.HC3.D14_11_L001_R1_001.fastq.gz\n",
            "\n",
            "\n",
            "File EXIST:  demultiplexed_seqs/10483.recip.460.WT.HC3.D21_0_L001_R1_001.fastq.gz\n",
            "\n",
            "\n",
            "File EXIST:  demultiplexed_seqs/10483.recip.460.WT.HC3.D49_19_L001_R1_001.fastq.gz\n",
            "\n",
            "\n",
            "File EXIST:  demultiplexed_seqs/10483.recip.460.WT.HC3.D7_14_L001_R1_001.fastq.gz\n",
            "\n",
            "\n",
            "File EXIST:  demultiplexed_seqs/10483.recip.461.ASO.HC3.D21_11_L001_R1_001.fastq.gz\n",
            "\n",
            "\n",
            "File EXIST:  demultiplexed_seqs/10483.recip.461.ASO.HC3.D49_29_L001_R1_001.fastq.gz\n",
            "\n",
            "\n",
            "File EXIST:  demultiplexed_seqs/10483.recip.461.ASO.HC3.D7_20_L001_R1_001.fastq.gz\n",
            "\n",
            "\n",
            "File EXIST:  demultiplexed_seqs/10483.recip.462.WT.PD3.D14_18_L001_R1_001.fastq.gz\n",
            "\n",
            "\n",
            "File EXIST:  demultiplexed_seqs/10483.recip.462.WT.PD3.D21_4_L001_R1_001.fastq.gz\n",
            "\n",
            "\n",
            "File EXIST:  demultiplexed_seqs/10483.recip.462.WT.PD3.D49_8_L001_R1_001.fastq.gz\n",
            "\n",
            "\n",
            "File EXIST:  demultiplexed_seqs/10483.recip.462.WT.PD3.D7_3_L001_R1_001.fastq.gz\n",
            "\n",
            "\n",
            "File EXIST:  demultiplexed_seqs/10483.recip.463.WT.PD3.D14_25_L001_R1_001.fastq.gz\n",
            "\n",
            "\n",
            "File EXIST:  demultiplexed_seqs/10483.recip.463.WT.PD3.D21_19_L001_R1_001.fastq.gz\n",
            "\n",
            "\n",
            "File EXIST:  demultiplexed_seqs/10483.recip.463.WT.PD3.D7_3_L001_R1_001.fastq.gz\n",
            "\n",
            "\n",
            "File EXIST:  demultiplexed_seqs/10483.recip.464.WT.PD3.D14_17_L001_R1_001.fastq.gz\n",
            "\n",
            "\n",
            "File EXIST:  demultiplexed_seqs/10483.recip.465.ASO.PD3.D14_16_L001_R1_001.fastq.gz\n",
            "\n",
            "\n",
            "File EXIST:  demultiplexed_seqs/10483.recip.465.ASO.PD3.D7_0_L001_R1_001.fastq.gz\n",
            "\n",
            "\n",
            "http://ftp.sra.ebi.ac.uk/vol1/run/ERR173/ERR1732258/10483.recip.466.ASO.PD3.D7.fastq.gz\n",
            "demultiplexed_seqs/10483.recip.466.ASO.PD3.D7_23_L001_R1_001.fastq.gz\n",
            "Try n. 0\n",
            "Status:  200\n",
            "Done...\n",
            "\n",
            "\n",
            "http://ftp.sra.ebi.ac.uk/vol1/run/ERR173/ERR1732263/10483.recip.467.WT.HC3.D49.a.fastq.gz\n",
            "demultiplexed_seqs/10483.recip.467.WT.HC3.D49.a_0_L001_R1_001.fastq.gz\n",
            "Try n. 0\n",
            "Status:  200\n",
            "Done...\n",
            "\n",
            "\n",
            "http://ftp.sra.ebi.ac.uk/vol1/run/ERR173/ERR1732264/10483.recip.467.WT.HC3.D49.b.fastq.gz\n",
            "demultiplexed_seqs/10483.recip.467.WT.HC3.D49.b_26_L001_R1_001.fastq.gz\n",
            "Try n. 0\n",
            "Status:  200\n",
            "Done...\n",
            "\n",
            "\n",
            "http://ftp.sra.ebi.ac.uk/vol1/run/ERR173/ERR1732273/10483.recip.536.ASO.PD4.D49.fastq.gz\n",
            "demultiplexed_seqs/10483.recip.536.ASO.PD4.D49_1_L001_R1_001.fastq.gz\n",
            "Try n. 0\n",
            "Status:  200\n",
            "Done...\n",
            "\n",
            "\n",
            "http://ftp.sra.ebi.ac.uk/vol1/run/ERR173/ERR1732276/10483.recip.537.WT.PD4.D21.fastq.gz\n",
            "demultiplexed_seqs/10483.recip.537.WT.PD4.D21_45_L001_R1_001.fastq.gz\n",
            "Try n. 0\n",
            "Status:  200\n",
            "Done...\n",
            "\n",
            "\n",
            "http://ftp.sra.ebi.ac.uk/vol1/run/ERR173/ERR1732280/10483.recip.538.WT.PD4.D21.fastq.gz\n",
            "demultiplexed_seqs/10483.recip.538.WT.PD4.D21_4_L001_R1_001.fastq.gz\n",
            "Try n. 0\n",
            "Status:  200\n",
            "Done...\n",
            "\n",
            "\n",
            "http://ftp.sra.ebi.ac.uk/vol1/run/ERR173/ERR1732283/10483.recip.539.ASO.PD4.D14.fastq.gz\n",
            "demultiplexed_seqs/10483.recip.539.ASO.PD4.D14_5_L001_R1_001.fastq.gz\n",
            "Try n. 0\n",
            "Status:  200\n",
            "Done...\n",
            "\n",
            "\n",
            "http://ftp.sra.ebi.ac.uk/vol1/run/ERR173/ERR1732286/10483.recip.539.ASO.PD4.D7.fastq.gz\n",
            "demultiplexed_seqs/10483.recip.539.ASO.PD4.D7_4_L001_R1_001.fastq.gz\n",
            "Try n. 0\n",
            "Status:  200\n",
            "Done...\n",
            "\n",
            "\n",
            "http://ftp.sra.ebi.ac.uk/vol1/run/ERR173/ERR1732287/10483.recip.540.ASO.HC4.D14.fastq.gz\n",
            "demultiplexed_seqs/10483.recip.540.ASO.HC4.D14_2_L001_R1_001.fastq.gz\n",
            "Try n. 0\n",
            "Status:  200\n",
            "Done...\n",
            "\n",
            "\n",
            "http://ftp.sra.ebi.ac.uk/vol1/run/ERR173/ERR1732289/10483.recip.540.ASO.HC4.D7.fastq.gz\n",
            "demultiplexed_seqs/10483.recip.540.ASO.HC4.D7_7_L001_R1_001.fastq.gz\n",
            "Try n. 0\n",
            "Status:  200\n",
            "Done...\n",
            "\n",
            "\n"
          ],
          "name": "stdout"
        }
      ]
    },
    {
      "cell_type": "code",
      "metadata": {
        "id": "6N6Hwx_EVola"
      },
      "source": [
        "for pt in manifest['absolute-filepath']:\n",
        "    manifest['absolute-filepath'].loc[manifest['absolute-filepath'] == pt] = '/content/' + pt.split('$PWD/')[-1]"
      ],
      "execution_count": 63,
      "outputs": []
    },
    {
      "cell_type": "code",
      "metadata": {
        "id": "EHUmEoO5W0oQ"
      },
      "source": [
        "manifest.to_csv('manifest2.tsv', sep = '\\t', index = None)"
      ],
      "execution_count": 64,
      "outputs": []
    },
    {
      "cell_type": "code",
      "metadata": {
        "id": "gzOeyM90XBlA",
        "outputId": "668dbe98-0f70-48c9-f21f-4900006054fb",
        "colab": {
          "base_uri": "https://localhost:8080/",
          "height": 199
        }
      },
      "source": [
        "!head manifest2.tsv"
      ],
      "execution_count": 65,
      "outputs": [
        {
          "output_type": "stream",
          "text": [
            "sample-id\tabsolute-filepath\n",
            "recip.220.WT.OB1.D7\t/content/demultiplexed_seqs/10483.recip.220.WT.OB1.D7_30_L001_R1_001.fastq.gz\n",
            "recip.290.ASO.OB2.D1\t/content/demultiplexed_seqs/10483.recip.290.ASO.OB2.D1_27_L001_R1_001.fastq.gz\n",
            "recip.389.WT.HC2.D21\t/content/demultiplexed_seqs/10483.recip.389.WT.HC2.D21_1_L001_R1_001.fastq.gz\n",
            "recip.391.ASO.PD2.D14\t/content/demultiplexed_seqs/10483.recip.391.ASO.PD2.D14_5_L001_R1_001.fastq.gz\n",
            "recip.391.ASO.PD2.D21\t/content/demultiplexed_seqs/10483.recip.391.ASO.PD2.D21_1_L001_R1_001.fastq.gz\n",
            "recip.391.ASO.PD2.D7\t/content/demultiplexed_seqs/10483.recip.391.ASO.PD2.D7_15_L001_R1_001.fastq.gz\n",
            "recip.400.ASO.HC2.D14\t/content/demultiplexed_seqs/10483.recip.400.ASO.HC2.D14_32_L001_R1_001.fastq.gz\n",
            "recip.401.ASO.HC2.D7\t/content/demultiplexed_seqs/10483.recip.401.ASO.HC2.D7_22_L001_R1_001.fastq.gz\n",
            "recip.403.ASO.PD2.D21\t/content/demultiplexed_seqs/10483.recip.403.ASO.PD2.D21_31_L001_R1_001.fastq.gz\n"
          ],
          "name": "stdout"
        }
      ]
    },
    {
      "cell_type": "markdown",
      "metadata": {
        "id": "_qO9V-dQwaVI"
      },
      "source": [
        "When using this manifest format, a sample name can only appear in one line and can only map to one sequencing file per column (one column for single-end, two columns for paired-end). The absolute-filepath for each sample must be an absolute path, which specifies the “complete” location of the file. We do that here using the $PWD variable, which expands the current directory in absolute terms.\n",
        "\n",
        "We’ll use the manifest to import our data."
      ]
    },
    {
      "cell_type": "code",
      "metadata": {
        "id": "x9aNS19p3p8p"
      },
      "source": [
        "#from qiime2.plugins import feature_table\n",
        "from qiime2 import Artifact\n",
        "import biom\n",
        "import io\n",
        "from zipfile import ZipFile, ZipInfo\n",
        "import csv\n",
        "import time\n",
        "\n",
        "def read_zip(zip_fn, extract_fn=None):\n",
        "    zf = ZipFile(zip_fn)\n",
        "    if extract_fn:\n",
        "        return zf.read(extract_fn)\n",
        "    else:\n",
        "        return {name:zf.read(name) for name in zf.namelist()}"
      ],
      "execution_count": 66,
      "outputs": []
    },
    {
      "cell_type": "code",
      "metadata": {
        "id": "eZVcqNhqVjzU",
        "outputId": "17c9b703-7f09-4af9-89ff-e6f230b7d2ac",
        "colab": {
          "base_uri": "https://localhost:8080/",
          "height": 272
        }
      },
      "source": [
        "!pip install tqdm\n",
        "!pip install plotly"
      ],
      "execution_count": 67,
      "outputs": [
        {
          "output_type": "stream",
          "text": [
            "Requirement already satisfied: tqdm in /usr/local/lib/python3.6/site-packages (4.46.0)\n",
            "Collecting plotly\n",
            "  Downloading plotly-4.11.0-py2.py3-none-any.whl (13.1 MB)\n",
            "\u001b[K     |████████████████████████████████| 13.1 MB 4.1 MB/s \n",
            "\u001b[?25hCollecting retrying>=1.3.3\n",
            "  Downloading retrying-1.3.3.tar.gz (10 kB)\n",
            "Requirement already satisfied: six in /usr/local/lib/python3.6/site-packages (from plotly) (1.14.0)\n",
            "Building wheels for collected packages: retrying\n",
            "  Building wheel for retrying (setup.py) ... \u001b[?25l\u001b[?25hdone\n",
            "  Created wheel for retrying: filename=retrying-1.3.3-py3-none-any.whl size=11430 sha256=6cb8ed47e70c132a3e17a384f9a06adcb606ad468757fc28ba0bc489ed43102a\n",
            "  Stored in directory: /root/.cache/pip/wheels/ac/cb/8a/b27bf6323e2f4c462dcbf77d70b7c5e7868a7fbe12871770cf\n",
            "Successfully built retrying\n",
            "Installing collected packages: retrying, plotly\n",
            "Successfully installed plotly-4.11.0 retrying-1.3.3\n"
          ],
          "name": "stdout"
        }
      ]
    },
    {
      "cell_type": "code",
      "metadata": {
        "id": "dzUj7iddW_Ra"
      },
      "source": [
        "import plotly.express as px\n",
        "import plotly.graph_objects as go\n",
        "from plotly.subplots import make_subplots"
      ],
      "execution_count": 68,
      "outputs": []
    },
    {
      "cell_type": "code",
      "metadata": {
        "id": "05saE0sJZmYo"
      },
      "source": [
        "from qiime2.plugin import Plugin"
      ],
      "execution_count": 69,
      "outputs": []
    },
    {
      "cell_type": "code",
      "metadata": {
        "id": "on1fRPfvwZUX",
        "outputId": "f71ebe22-4b54-4913-f15c-a794e7b7462e",
        "colab": {
          "base_uri": "https://localhost:8080/",
          "height": 54
        }
      },
      "source": [
        "start_time = time.time()\n",
        "\n",
        "!qiime tools import \\\n",
        "  --type \"SampleData[SequencesWithQuality]\" \\\n",
        "  --input-format SingleEndFastqManifestPhred33V2 \\\n",
        "  --input-path ./manifest2.tsv \\\n",
        "  --output-path single-end-demux.qza\n",
        "  \n",
        "print(\"--- %s seconds ---\" % (time.time() - start_time))"
      ],
      "execution_count": 70,
      "outputs": [
        {
          "output_type": "stream",
          "text": [
            "\u001b[32mImported ./manifest2.tsv as SingleEndFastqManifestPhred33V2 to single-end-demux.qza\u001b[0m\n",
            "--- 7.683532238006592 seconds ---\n"
          ],
          "name": "stdout"
        }
      ]
    },
    {
      "cell_type": "code",
      "metadata": {
        "id": "XPw8tftBx1Xn",
        "outputId": "e9640351-4ef8-41ef-eb66-26b828deafb9",
        "colab": {
          "base_uri": "https://localhost:8080/",
          "height": 54
        }
      },
      "source": [
        "start_time = time.time()\n",
        "!qiime demux summarize \\\n",
        "  --i-data ./single-end-demux.qza \\\n",
        "  --o-visualization ./single-end-demux.qzv\n",
        "\n",
        "print(\"--- %s seconds ---\" % (time.time() - start_time))"
      ],
      "execution_count": 71,
      "outputs": [
        {
          "output_type": "stream",
          "text": [
            "\u001b[32mSaved Visualization to: ./single-end-demux.qzv\u001b[0m\n",
            "--- 15.29955792427063 seconds ---\n"
          ],
          "name": "stdout"
        }
      ]
    },
    {
      "cell_type": "code",
      "metadata": {
        "id": "HVnOYt9eLEj0"
      },
      "source": [
        "!mkdir /content/exported"
      ],
      "execution_count": 72,
      "outputs": []
    },
    {
      "cell_type": "code",
      "metadata": {
        "id": "UQw64PlgxsgO",
        "outputId": "4707240e-df2a-473a-e04b-cb24f47cba40",
        "colab": {
          "base_uri": "https://localhost:8080/",
          "height": 690
        }
      },
      "source": [
        "qza = ZipFile('single-end-demux.qzv', 'r')\n",
        "qza.printdir()"
      ],
      "execution_count": 73,
      "outputs": [
        {
          "output_type": "stream",
          "text": [
            "File Name                                             Modified             Size\n",
            "9f4fa677-b4c0-4c34-ae0a-5adf5e5f7350/metadata.yaml 2020-10-22 19:31:44           76\n",
            "9f4fa677-b4c0-4c34-ae0a-5adf5e5f7350/checksums.md5 2020-10-22 19:31:46         2554\n",
            "9f4fa677-b4c0-4c34-ae0a-5adf5e5f7350/VERSION   2020-10-22 19:31:44           39\n",
            "9f4fa677-b4c0-4c34-ae0a-5adf5e5f7350/data/quality-plot.html 2020-10-22 19:31:44         2542\n",
            "9f4fa677-b4c0-4c34-ae0a-5adf5e5f7350/data/overview.html 2020-10-22 19:31:44         5424\n",
            "9f4fa677-b4c0-4c34-ae0a-5adf5e5f7350/data/demultiplex-summary.pdf 2020-10-22 19:31:44        11045\n",
            "9f4fa677-b4c0-4c34-ae0a-5adf5e5f7350/data/forward-seven-number-summaries.csv 2020-10-22 19:31:44         6987\n",
            "9f4fa677-b4c0-4c34-ae0a-5adf5e5f7350/data/index.html 2020-10-22 19:31:44         1555\n",
            "9f4fa677-b4c0-4c34-ae0a-5adf5e5f7350/data/per-sample-fastq-counts.csv 2020-10-22 19:31:38         1337\n",
            "9f4fa677-b4c0-4c34-ae0a-5adf5e5f7350/data/data.jsonp 2020-10-22 19:31:44        14840\n",
            "9f4fa677-b4c0-4c34-ae0a-5adf5e5f7350/data/demultiplex-summary.png 2020-10-22 19:31:44        12256\n",
            "9f4fa677-b4c0-4c34-ae0a-5adf5e5f7350/data/dist/vendor.bundle.js 2020-02-28 15:48:40       220528\n",
            "9f4fa677-b4c0-4c34-ae0a-5adf5e5f7350/data/dist/bundle.js 2020-02-28 15:48:40         9979\n",
            "9f4fa677-b4c0-4c34-ae0a-5adf5e5f7350/data/dist/d3-license.txt 2020-02-28 15:48:40         1475\n",
            "9f4fa677-b4c0-4c34-ae0a-5adf5e5f7350/data/q2templateassets/img/qiime2-rect-200.png 2020-02-28 15:47:56        68280\n",
            "9f4fa677-b4c0-4c34-ae0a-5adf5e5f7350/data/q2templateassets/js/bootstrap.min.js 2020-02-28 15:47:56        37045\n",
            "9f4fa677-b4c0-4c34-ae0a-5adf5e5f7350/data/q2templateassets/js/jquery-3.2.0.min.js 2020-02-28 15:47:56        86596\n",
            "9f4fa677-b4c0-4c34-ae0a-5adf5e5f7350/data/q2templateassets/js/parent.js 2020-02-28 15:47:56          997\n",
            "9f4fa677-b4c0-4c34-ae0a-5adf5e5f7350/data/q2templateassets/js/child.js 2020-02-28 15:47:56          728\n",
            "9f4fa677-b4c0-4c34-ae0a-5adf5e5f7350/data/q2templateassets/css/normalize.css 2020-02-28 15:47:56         8053\n",
            "9f4fa677-b4c0-4c34-ae0a-5adf5e5f7350/data/q2templateassets/css/base-template.css 2020-02-28 15:47:56          414\n",
            "9f4fa677-b4c0-4c34-ae0a-5adf5e5f7350/data/q2templateassets/css/tab-parent.css 2020-02-28 15:47:56          410\n",
            "9f4fa677-b4c0-4c34-ae0a-5adf5e5f7350/data/q2templateassets/css/bootstrap.min.css 2020-02-28 15:47:56       121201\n",
            "9f4fa677-b4c0-4c34-ae0a-5adf5e5f7350/data/q2templateassets/fonts/glyphicons-halflings-regular.ttf 2020-02-28 15:47:56        45404\n",
            "9f4fa677-b4c0-4c34-ae0a-5adf5e5f7350/data/q2templateassets/fonts/glyphicons-halflings-regular.woff2 2020-02-28 15:47:56        18028\n",
            "9f4fa677-b4c0-4c34-ae0a-5adf5e5f7350/data/q2templateassets/fonts/glyphicons-halflings-regular.eot 2020-02-28 15:47:56        20127\n",
            "9f4fa677-b4c0-4c34-ae0a-5adf5e5f7350/data/q2templateassets/fonts/glyphicons-halflings-regular.woff 2020-02-28 15:47:56        23424\n",
            "9f4fa677-b4c0-4c34-ae0a-5adf5e5f7350/data/q2templateassets/fonts/glyphicons-halflings-regular.svg 2020-02-28 15:47:56       108738\n",
            "9f4fa677-b4c0-4c34-ae0a-5adf5e5f7350/provenance/metadata.yaml 2020-10-22 19:31:44           76\n",
            "9f4fa677-b4c0-4c34-ae0a-5adf5e5f7350/provenance/citations.bib 2020-10-22 19:31:44         2774\n",
            "9f4fa677-b4c0-4c34-ae0a-5adf5e5f7350/provenance/VERSION 2020-10-22 19:31:44           39\n",
            "9f4fa677-b4c0-4c34-ae0a-5adf5e5f7350/provenance/action/action.yaml 2020-10-22 19:31:44         4805\n",
            "9f4fa677-b4c0-4c34-ae0a-5adf5e5f7350/provenance/artifacts/36e107a3-e27a-4400-a26b-4631171f4378/metadata.yaml 2020-10-22 19:31:32          130\n",
            "9f4fa677-b4c0-4c34-ae0a-5adf5e5f7350/provenance/artifacts/36e107a3-e27a-4400-a26b-4631171f4378/citations.bib 2020-10-22 19:31:32         2774\n",
            "9f4fa677-b4c0-4c34-ae0a-5adf5e5f7350/provenance/artifacts/36e107a3-e27a-4400-a26b-4631171f4378/VERSION 2020-10-22 19:31:32           39\n",
            "9f4fa677-b4c0-4c34-ae0a-5adf5e5f7350/provenance/artifacts/36e107a3-e27a-4400-a26b-4631171f4378/action/action.yaml 2020-10-22 19:31:32         4585\n"
          ],
          "name": "stdout"
        }
      ]
    },
    {
      "cell_type": "code",
      "metadata": {
        "id": "U3Z6cVQAM-y8"
      },
      "source": [
        "archive = 'single-end-demux.qzv'\n",
        "qza = ZipFile(archive, 'r')\n",
        "dir_name = qza.namelist()[0].split('/')[0]\n",
        "file_in_archive = dir_name + '/data/per-sample-fastq-counts.csv'\n",
        "dsingle_end_demux_qzv = pd.read_csv(io.BytesIO(read_zip(\n",
        "                                                        archive, \n",
        "                                                        file_in_archive\n",
        "                                                        )))"
      ],
      "execution_count": 74,
      "outputs": []
    },
    {
      "cell_type": "code",
      "metadata": {
        "id": "8hlbJiDPLgK5",
        "outputId": "287d208c-d587-4ba2-b6de-a679e80e9792",
        "colab": {
          "base_uri": "https://localhost:8080/",
          "height": 198
        }
      },
      "source": [
        "dsingle_end_demux_qzv.head()"
      ],
      "execution_count": 75,
      "outputs": [
        {
          "output_type": "execute_result",
          "data": {
            "text/html": [
              "<div>\n",
              "<style scoped>\n",
              "    .dataframe tbody tr th:only-of-type {\n",
              "        vertical-align: middle;\n",
              "    }\n",
              "\n",
              "    .dataframe tbody tr th {\n",
              "        vertical-align: top;\n",
              "    }\n",
              "\n",
              "    .dataframe thead th {\n",
              "        text-align: right;\n",
              "    }\n",
              "</style>\n",
              "<table border=\"1\" class=\"dataframe\">\n",
              "  <thead>\n",
              "    <tr style=\"text-align: right;\">\n",
              "      <th></th>\n",
              "      <th>Sample name</th>\n",
              "      <th>Sequence count</th>\n",
              "    </tr>\n",
              "  </thead>\n",
              "  <tbody>\n",
              "    <tr>\n",
              "      <th>0</th>\n",
              "      <td>recip.467.WT.HC3.D49.a</td>\n",
              "      <td>37042</td>\n",
              "    </tr>\n",
              "    <tr>\n",
              "      <th>1</th>\n",
              "      <td>recip.536.ASO.PD4.D49</td>\n",
              "      <td>35945</td>\n",
              "    </tr>\n",
              "    <tr>\n",
              "      <th>2</th>\n",
              "      <td>recip.411.ASO.HC2.D21</td>\n",
              "      <td>28739</td>\n",
              "    </tr>\n",
              "    <tr>\n",
              "      <th>3</th>\n",
              "      <td>recip.391.ASO.PD2.D21</td>\n",
              "      <td>27568</td>\n",
              "    </tr>\n",
              "    <tr>\n",
              "      <th>4</th>\n",
              "      <td>recip.458.ASO.HC3.D49</td>\n",
              "      <td>26246</td>\n",
              "    </tr>\n",
              "  </tbody>\n",
              "</table>\n",
              "</div>"
            ],
            "text/plain": [
              "              Sample name  Sequence count\n",
              "0  recip.467.WT.HC3.D49.a           37042\n",
              "1   recip.536.ASO.PD4.D49           35945\n",
              "2   recip.411.ASO.HC2.D21           28739\n",
              "3   recip.391.ASO.PD2.D21           27568\n",
              "4   recip.458.ASO.HC3.D49           26246"
            ]
          },
          "metadata": {
            "tags": []
          },
          "execution_count": 75
        }
      ]
    },
    {
      "cell_type": "code",
      "metadata": {
        "id": "stPoA4UkXB9f",
        "outputId": "5022fe35-71df-4dd4-fbd1-0827090d2f66",
        "colab": {
          "base_uri": "https://localhost:8080/",
          "height": 542
        }
      },
      "source": [
        "fig = px.histogram(dsingle_end_demux_qzv, x = \"Sequence count\")\n",
        "fig.show()"
      ],
      "execution_count": 76,
      "outputs": [
        {
          "output_type": "display_data",
          "data": {
            "text/html": [
              "<html>\n",
              "<head><meta charset=\"utf-8\" /></head>\n",
              "<body>\n",
              "    <div>\n",
              "            <script src=\"https://cdnjs.cloudflare.com/ajax/libs/mathjax/2.7.5/MathJax.js?config=TeX-AMS-MML_SVG\"></script><script type=\"text/javascript\">if (window.MathJax) {MathJax.Hub.Config({SVG: {font: \"STIX-Web\"}});}</script>\n",
              "                <script type=\"text/javascript\">window.PlotlyConfig = {MathJaxConfig: 'local'};</script>\n",
              "        <script src=\"https://cdn.plot.ly/plotly-latest.min.js\"></script>    \n",
              "            <div id=\"f81a2c16-2834-45e5-ac3d-19418848bf96\" class=\"plotly-graph-div\" style=\"height:525px; width:100%;\"></div>\n",
              "            <script type=\"text/javascript\">\n",
              "                \n",
              "                    window.PLOTLYENV=window.PLOTLYENV || {};\n",
              "                    \n",
              "                if (document.getElementById(\"f81a2c16-2834-45e5-ac3d-19418848bf96\")) {\n",
              "                    Plotly.newPlot(\n",
              "                        'f81a2c16-2834-45e5-ac3d-19418848bf96',\n",
              "                        [{\"alignmentgroup\": \"True\", \"bingroup\": \"x\", \"hoverlabel\": {\"namelength\": 0}, \"hovertemplate\": \"Sequence count=%{x}<br>count=%{y}\", \"legendgroup\": \"\", \"marker\": {\"color\": \"#636efa\"}, \"name\": \"\", \"offsetgroup\": \"\", \"orientation\": \"v\", \"showlegend\": false, \"type\": \"histogram\", \"x\": [37042, 35945, 28739, 27568, 26246, 26078, 25396, 24799, 23969, 23685, 23607, 23491, 23403, 23258, 23003, 23000, 22717, 22463, 22332, 22330, 22246, 22160, 22155, 21986, 21754, 21538, 21179, 21095, 21060, 20983, 20864, 20626, 20278, 20212, 20198, 19781, 19768, 18886, 18709, 18578, 18575, 17075, 16734, 16718, 16639, 14706, 5186, 4442], \"xaxis\": \"x\", \"yaxis\": \"y\"}],\n",
              "                        {\"barmode\": \"relative\", \"legend\": {\"tracegroupgap\": 0}, \"margin\": {\"t\": 60}, \"template\": {\"data\": {\"bar\": [{\"error_x\": {\"color\": \"#2a3f5f\"}, \"error_y\": {\"color\": \"#2a3f5f\"}, \"marker\": {\"line\": {\"color\": \"#E5ECF6\", \"width\": 0.5}}, \"type\": \"bar\"}], \"barpolar\": [{\"marker\": {\"line\": {\"color\": \"#E5ECF6\", \"width\": 0.5}}, \"type\": \"barpolar\"}], \"carpet\": [{\"aaxis\": {\"endlinecolor\": \"#2a3f5f\", \"gridcolor\": \"white\", \"linecolor\": \"white\", \"minorgridcolor\": \"white\", \"startlinecolor\": \"#2a3f5f\"}, \"baxis\": {\"endlinecolor\": \"#2a3f5f\", \"gridcolor\": \"white\", \"linecolor\": \"white\", \"minorgridcolor\": \"white\", \"startlinecolor\": \"#2a3f5f\"}, \"type\": \"carpet\"}], \"choropleth\": [{\"colorbar\": {\"outlinewidth\": 0, \"ticks\": \"\"}, \"type\": \"choropleth\"}], \"contour\": [{\"colorbar\": {\"outlinewidth\": 0, \"ticks\": \"\"}, \"colorscale\": [[0.0, \"#0d0887\"], [0.1111111111111111, \"#46039f\"], [0.2222222222222222, \"#7201a8\"], [0.3333333333333333, \"#9c179e\"], [0.4444444444444444, \"#bd3786\"], [0.5555555555555556, \"#d8576b\"], [0.6666666666666666, \"#ed7953\"], [0.7777777777777778, \"#fb9f3a\"], [0.8888888888888888, \"#fdca26\"], [1.0, \"#f0f921\"]], \"type\": \"contour\"}], \"contourcarpet\": [{\"colorbar\": {\"outlinewidth\": 0, \"ticks\": \"\"}, \"type\": \"contourcarpet\"}], \"heatmap\": [{\"colorbar\": {\"outlinewidth\": 0, \"ticks\": \"\"}, \"colorscale\": [[0.0, \"#0d0887\"], [0.1111111111111111, \"#46039f\"], [0.2222222222222222, \"#7201a8\"], [0.3333333333333333, \"#9c179e\"], [0.4444444444444444, \"#bd3786\"], [0.5555555555555556, \"#d8576b\"], [0.6666666666666666, \"#ed7953\"], [0.7777777777777778, \"#fb9f3a\"], [0.8888888888888888, \"#fdca26\"], [1.0, \"#f0f921\"]], \"type\": \"heatmap\"}], \"heatmapgl\": [{\"colorbar\": {\"outlinewidth\": 0, \"ticks\": \"\"}, \"colorscale\": [[0.0, \"#0d0887\"], [0.1111111111111111, \"#46039f\"], [0.2222222222222222, \"#7201a8\"], [0.3333333333333333, \"#9c179e\"], [0.4444444444444444, \"#bd3786\"], [0.5555555555555556, \"#d8576b\"], [0.6666666666666666, \"#ed7953\"], [0.7777777777777778, \"#fb9f3a\"], [0.8888888888888888, \"#fdca26\"], [1.0, \"#f0f921\"]], \"type\": \"heatmapgl\"}], \"histogram\": [{\"marker\": {\"colorbar\": {\"outlinewidth\": 0, \"ticks\": \"\"}}, \"type\": \"histogram\"}], \"histogram2d\": [{\"colorbar\": {\"outlinewidth\": 0, \"ticks\": \"\"}, \"colorscale\": [[0.0, \"#0d0887\"], [0.1111111111111111, \"#46039f\"], [0.2222222222222222, \"#7201a8\"], [0.3333333333333333, \"#9c179e\"], [0.4444444444444444, \"#bd3786\"], [0.5555555555555556, \"#d8576b\"], [0.6666666666666666, \"#ed7953\"], [0.7777777777777778, \"#fb9f3a\"], [0.8888888888888888, \"#fdca26\"], [1.0, \"#f0f921\"]], \"type\": \"histogram2d\"}], \"histogram2dcontour\": [{\"colorbar\": {\"outlinewidth\": 0, \"ticks\": \"\"}, \"colorscale\": [[0.0, \"#0d0887\"], [0.1111111111111111, \"#46039f\"], [0.2222222222222222, \"#7201a8\"], [0.3333333333333333, \"#9c179e\"], [0.4444444444444444, \"#bd3786\"], [0.5555555555555556, \"#d8576b\"], [0.6666666666666666, \"#ed7953\"], [0.7777777777777778, \"#fb9f3a\"], [0.8888888888888888, \"#fdca26\"], [1.0, \"#f0f921\"]], \"type\": \"histogram2dcontour\"}], \"mesh3d\": [{\"colorbar\": {\"outlinewidth\": 0, \"ticks\": \"\"}, \"type\": \"mesh3d\"}], \"parcoords\": [{\"line\": {\"colorbar\": {\"outlinewidth\": 0, \"ticks\": \"\"}}, \"type\": \"parcoords\"}], \"pie\": [{\"automargin\": true, \"type\": \"pie\"}], \"scatter\": [{\"marker\": {\"colorbar\": {\"outlinewidth\": 0, \"ticks\": \"\"}}, \"type\": \"scatter\"}], \"scatter3d\": [{\"line\": {\"colorbar\": {\"outlinewidth\": 0, \"ticks\": \"\"}}, \"marker\": {\"colorbar\": {\"outlinewidth\": 0, \"ticks\": \"\"}}, \"type\": \"scatter3d\"}], \"scattercarpet\": [{\"marker\": {\"colorbar\": {\"outlinewidth\": 0, \"ticks\": \"\"}}, \"type\": \"scattercarpet\"}], \"scattergeo\": [{\"marker\": {\"colorbar\": {\"outlinewidth\": 0, \"ticks\": \"\"}}, \"type\": \"scattergeo\"}], \"scattergl\": [{\"marker\": {\"colorbar\": {\"outlinewidth\": 0, \"ticks\": \"\"}}, \"type\": \"scattergl\"}], \"scattermapbox\": [{\"marker\": {\"colorbar\": {\"outlinewidth\": 0, \"ticks\": \"\"}}, \"type\": \"scattermapbox\"}], \"scatterpolar\": [{\"marker\": {\"colorbar\": {\"outlinewidth\": 0, \"ticks\": \"\"}}, \"type\": \"scatterpolar\"}], \"scatterpolargl\": [{\"marker\": {\"colorbar\": {\"outlinewidth\": 0, \"ticks\": \"\"}}, \"type\": \"scatterpolargl\"}], \"scatterternary\": [{\"marker\": {\"colorbar\": {\"outlinewidth\": 0, \"ticks\": \"\"}}, \"type\": \"scatterternary\"}], \"surface\": [{\"colorbar\": {\"outlinewidth\": 0, \"ticks\": \"\"}, \"colorscale\": [[0.0, \"#0d0887\"], [0.1111111111111111, \"#46039f\"], [0.2222222222222222, \"#7201a8\"], [0.3333333333333333, \"#9c179e\"], [0.4444444444444444, \"#bd3786\"], [0.5555555555555556, \"#d8576b\"], [0.6666666666666666, \"#ed7953\"], [0.7777777777777778, \"#fb9f3a\"], [0.8888888888888888, \"#fdca26\"], [1.0, \"#f0f921\"]], \"type\": \"surface\"}], \"table\": [{\"cells\": {\"fill\": {\"color\": \"#EBF0F8\"}, \"line\": {\"color\": \"white\"}}, \"header\": {\"fill\": {\"color\": \"#C8D4E3\"}, \"line\": {\"color\": \"white\"}}, \"type\": \"table\"}]}, \"layout\": {\"annotationdefaults\": {\"arrowcolor\": \"#2a3f5f\", \"arrowhead\": 0, \"arrowwidth\": 1}, \"coloraxis\": {\"colorbar\": {\"outlinewidth\": 0, \"ticks\": \"\"}}, \"colorscale\": {\"diverging\": [[0, \"#8e0152\"], [0.1, \"#c51b7d\"], [0.2, \"#de77ae\"], [0.3, \"#f1b6da\"], [0.4, \"#fde0ef\"], [0.5, \"#f7f7f7\"], [0.6, \"#e6f5d0\"], [0.7, \"#b8e186\"], [0.8, \"#7fbc41\"], [0.9, \"#4d9221\"], [1, \"#276419\"]], \"sequential\": [[0.0, \"#0d0887\"], [0.1111111111111111, \"#46039f\"], [0.2222222222222222, \"#7201a8\"], [0.3333333333333333, \"#9c179e\"], [0.4444444444444444, \"#bd3786\"], [0.5555555555555556, \"#d8576b\"], [0.6666666666666666, \"#ed7953\"], [0.7777777777777778, \"#fb9f3a\"], [0.8888888888888888, \"#fdca26\"], [1.0, \"#f0f921\"]], \"sequentialminus\": [[0.0, \"#0d0887\"], [0.1111111111111111, \"#46039f\"], [0.2222222222222222, \"#7201a8\"], [0.3333333333333333, \"#9c179e\"], [0.4444444444444444, \"#bd3786\"], [0.5555555555555556, \"#d8576b\"], [0.6666666666666666, \"#ed7953\"], [0.7777777777777778, \"#fb9f3a\"], [0.8888888888888888, \"#fdca26\"], [1.0, \"#f0f921\"]]}, \"colorway\": [\"#636efa\", \"#EF553B\", \"#00cc96\", \"#ab63fa\", \"#FFA15A\", \"#19d3f3\", \"#FF6692\", \"#B6E880\", \"#FF97FF\", \"#FECB52\"], \"font\": {\"color\": \"#2a3f5f\"}, \"geo\": {\"bgcolor\": \"white\", \"lakecolor\": \"white\", \"landcolor\": \"#E5ECF6\", \"showlakes\": true, \"showland\": true, \"subunitcolor\": \"white\"}, \"hoverlabel\": {\"align\": \"left\"}, \"hovermode\": \"closest\", \"mapbox\": {\"style\": \"light\"}, \"paper_bgcolor\": \"white\", \"plot_bgcolor\": \"#E5ECF6\", \"polar\": {\"angularaxis\": {\"gridcolor\": \"white\", \"linecolor\": \"white\", \"ticks\": \"\"}, \"bgcolor\": \"#E5ECF6\", \"radialaxis\": {\"gridcolor\": \"white\", \"linecolor\": \"white\", \"ticks\": \"\"}}, \"scene\": {\"xaxis\": {\"backgroundcolor\": \"#E5ECF6\", \"gridcolor\": \"white\", \"gridwidth\": 2, \"linecolor\": \"white\", \"showbackground\": true, \"ticks\": \"\", \"zerolinecolor\": \"white\"}, \"yaxis\": {\"backgroundcolor\": \"#E5ECF6\", \"gridcolor\": \"white\", \"gridwidth\": 2, \"linecolor\": \"white\", \"showbackground\": true, \"ticks\": \"\", \"zerolinecolor\": \"white\"}, \"zaxis\": {\"backgroundcolor\": \"#E5ECF6\", \"gridcolor\": \"white\", \"gridwidth\": 2, \"linecolor\": \"white\", \"showbackground\": true, \"ticks\": \"\", \"zerolinecolor\": \"white\"}}, \"shapedefaults\": {\"line\": {\"color\": \"#2a3f5f\"}}, \"ternary\": {\"aaxis\": {\"gridcolor\": \"white\", \"linecolor\": \"white\", \"ticks\": \"\"}, \"baxis\": {\"gridcolor\": \"white\", \"linecolor\": \"white\", \"ticks\": \"\"}, \"bgcolor\": \"#E5ECF6\", \"caxis\": {\"gridcolor\": \"white\", \"linecolor\": \"white\", \"ticks\": \"\"}}, \"title\": {\"x\": 0.05}, \"xaxis\": {\"automargin\": true, \"gridcolor\": \"white\", \"linecolor\": \"white\", \"ticks\": \"\", \"title\": {\"standoff\": 15}, \"zerolinecolor\": \"white\", \"zerolinewidth\": 2}, \"yaxis\": {\"automargin\": true, \"gridcolor\": \"white\", \"linecolor\": \"white\", \"ticks\": \"\", \"title\": {\"standoff\": 15}, \"zerolinecolor\": \"white\", \"zerolinewidth\": 2}}}, \"xaxis\": {\"anchor\": \"y\", \"domain\": [0.0, 1.0], \"title\": {\"text\": \"Sequence count\"}}, \"yaxis\": {\"anchor\": \"x\", \"domain\": [0.0, 1.0], \"title\": {\"text\": \"count\"}}},\n",
              "                        {\"responsive\": true}\n",
              "                    ).then(function(){\n",
              "                            \n",
              "var gd = document.getElementById('f81a2c16-2834-45e5-ac3d-19418848bf96');\n",
              "var x = new MutationObserver(function (mutations, observer) {{\n",
              "        var display = window.getComputedStyle(gd).display;\n",
              "        if (!display || display === 'none') {{\n",
              "            console.log([gd, 'removed!']);\n",
              "            Plotly.purge(gd);\n",
              "            observer.disconnect();\n",
              "        }}\n",
              "}});\n",
              "\n",
              "// Listen for the removal of the full notebook cells\n",
              "var notebookContainer = gd.closest('#notebook-container');\n",
              "if (notebookContainer) {{\n",
              "    x.observe(notebookContainer, {childList: true});\n",
              "}}\n",
              "\n",
              "// Listen for the clearing of the current output cell\n",
              "var outputEl = gd.closest('.output');\n",
              "if (outputEl) {{\n",
              "    x.observe(outputEl, {childList: true});\n",
              "}}\n",
              "\n",
              "                        })\n",
              "                };\n",
              "                \n",
              "            </script>\n",
              "        </div>\n",
              "</body>\n",
              "</html>"
            ]
          },
          "metadata": {
            "tags": []
          }
        }
      ]
    },
    {
      "cell_type": "markdown",
      "metadata": {
        "id": "-4aFKRDLjm4w"
      },
      "source": [
        "###Sequence quality control and feature table\n",
        "There are several ways to construct a feature table in QIIME 2. The first major choice to make is to work with Operational Taxonomic Units (OTUs) or Amplicon Sequence Variants (ASVs). OTUs have been widely used in microbiome research since the mid 2010s, and assign sequences to clusters either based on a reference database or de novo assignment. QIIME 2 offers clustering through q2-vsearch and q2-dbOTU plug-ins, currently.\n",
        "\n",
        "ASVs are a more recent development and provide better resolution in features than traditional OTU-based methods. ASVs can separate features based on differences of a single nucleotide in sequences of 400 bp or more, a resolution not possibly even with 99% identity OTU clustering. QIIME 2 currently offers denoising via DADA2 (q2-dada2) and Deblur (q2-deblur). The major differences in the algorithms and motivation for denoising are nicely described in Nearing et al, 2018.\n",
        "\n",
        "It is worth noting in either case that denoising to ASVs and clustering to OTUs are separate, but parallel steps. A choice should be made for a single pathway: either denoising or OTU based clustering; it is not recommended to combine the steps.\n",
        "\n",
        "In this tutorial, we’ll denoise with DADA2 (using single-end sequences). Please see the Atacama Soil tutorial for an example of using DADA2 on paired-end sequences. For those interested in using Deblur, you can refer to the Moving Pictures tutorial and Alternative methods of read joining tutorial for running Deblur on single- and paired-end sequences, respectively.\n",
        "\n",
        "The qiime dada2 denoise-single method requires us to set the --p-trunc-len parameter. This controls the length of the sequences and should be selected based on a drop in quality scores. In our dataset, the quality scores are relatively evenly distributed along the sequencing run, so we’ll use the full 150 bp sequences. However, the selection of the trim length is a relatively subjective measurement and relies on the decision making capacity of the analyst."
      ]
    },
    {
      "cell_type": "code",
      "metadata": {
        "id": "twalMMVtjmCu",
        "outputId": "680c693a-aaa9-4b1b-d5e7-18de694cfd9f",
        "colab": {
          "base_uri": "https://localhost:8080/",
          "height": 90
        }
      },
      "source": [
        "start_time = time.time()\n",
        "!qiime dada2 denoise-single \\\n",
        "  --i-demultiplexed-seqs ./single-end-demux.qza \\\n",
        "  --p-trunc-len 150 \\\n",
        "  --o-table ./dada2_table.qza \\\n",
        "  --o-representative-sequences ./dada2_rep_set.qza \\\n",
        "  --o-denoising-stats ./dada2_stats.qza\n",
        "\n",
        "print(\"--- %s seconds ---\" % (time.time() - start_time))"
      ],
      "execution_count": 77,
      "outputs": [
        {
          "output_type": "stream",
          "text": [
            "\u001b[32mSaved FeatureTable[Frequency] to: ./dada2_table.qza\u001b[0m\n",
            "\u001b[32mSaved FeatureData[Sequence] to: ./dada2_rep_set.qza\u001b[0m\n",
            "\u001b[32mSaved SampleData[DADA2Stats] to: ./dada2_stats.qza\u001b[0m\n",
            "--- 544.0768942832947 seconds ---\n"
          ],
          "name": "stdout"
        }
      ]
    },
    {
      "cell_type": "code",
      "metadata": {
        "id": "ELllktCmtxhd"
      },
      "source": [
        "def get_column_names_qza(archive, file_name):\n",
        "    for x in io.BytesIO(read_zip(archive, file_name)):\n",
        "        return x.decode(\"utf-8\").split('\\r\\n')[0].split('\t')\n",
        "\n",
        "def qza2df(archive, file_in_archive, skip_rows = 2):\n",
        "    qza = ZipFile(archive, 'r')\n",
        "    #qza.printdir()\n",
        "    return pd.read_csv(io.BytesIO(read_zip(\n",
        "                                            archive, \n",
        "                                            file_in_archive\n",
        "                                            )), \n",
        "                                    sep = '\\t', \n",
        "                                    skiprows = skip_rows,\n",
        "                                    names = get_column_names_qza(archive, \n",
        "                                                                file_in_archive)\n",
        "                    )"
      ],
      "execution_count": 78,
      "outputs": []
    },
    {
      "cell_type": "code",
      "metadata": {
        "id": "dWqRqgoKBDt6"
      },
      "source": [
        "archive = 'dada2_stats.qza'\n",
        "qza = ZipFile(archive, 'r')\n",
        "dir_name = qza.namelist()[0].split('/')[0]\n",
        "file_in_archive = dir_name + '/data/stats.tsv'\n",
        "dada2_stats_qza = qza2df(archive, file_in_archive)"
      ],
      "execution_count": 79,
      "outputs": []
    },
    {
      "cell_type": "code",
      "metadata": {
        "id": "lkEhfdAFi38V",
        "outputId": "c80ff1dc-fba1-409b-9df4-871425519897",
        "colab": {
          "base_uri": "https://localhost:8080/",
          "height": 198
        }
      },
      "source": [
        "dada2_stats_qza.head()"
      ],
      "execution_count": 80,
      "outputs": [
        {
          "output_type": "execute_result",
          "data": {
            "text/html": [
              "<div>\n",
              "<style scoped>\n",
              "    .dataframe tbody tr th:only-of-type {\n",
              "        vertical-align: middle;\n",
              "    }\n",
              "\n",
              "    .dataframe tbody tr th {\n",
              "        vertical-align: top;\n",
              "    }\n",
              "\n",
              "    .dataframe thead th {\n",
              "        text-align: right;\n",
              "    }\n",
              "</style>\n",
              "<table border=\"1\" class=\"dataframe\">\n",
              "  <thead>\n",
              "    <tr style=\"text-align: right;\">\n",
              "      <th></th>\n",
              "      <th>sample-id</th>\n",
              "      <th>input</th>\n",
              "      <th>filtered</th>\n",
              "      <th>percentage of input passed filter</th>\n",
              "      <th>denoised</th>\n",
              "      <th>non-chimeric</th>\n",
              "      <th>percentage of input non-chimeric</th>\n",
              "    </tr>\n",
              "  </thead>\n",
              "  <tbody>\n",
              "    <tr>\n",
              "      <th>0</th>\n",
              "      <td>recip.220.WT.OB1.D7</td>\n",
              "      <td>18578</td>\n",
              "      <td>15721</td>\n",
              "      <td>84.62</td>\n",
              "      <td>12096</td>\n",
              "      <td>8906</td>\n",
              "      <td>47.94</td>\n",
              "    </tr>\n",
              "    <tr>\n",
              "      <th>1</th>\n",
              "      <td>recip.290.ASO.OB2.D1</td>\n",
              "      <td>19781</td>\n",
              "      <td>19210</td>\n",
              "      <td>97.11</td>\n",
              "      <td>18750</td>\n",
              "      <td>16387</td>\n",
              "      <td>82.84</td>\n",
              "    </tr>\n",
              "    <tr>\n",
              "      <th>2</th>\n",
              "      <td>recip.389.WT.HC2.D21</td>\n",
              "      <td>23403</td>\n",
              "      <td>22976</td>\n",
              "      <td>98.18</td>\n",
              "      <td>22736</td>\n",
              "      <td>18984</td>\n",
              "      <td>81.12</td>\n",
              "    </tr>\n",
              "    <tr>\n",
              "      <th>3</th>\n",
              "      <td>recip.391.ASO.PD2.D14</td>\n",
              "      <td>24799</td>\n",
              "      <td>24368</td>\n",
              "      <td>98.26</td>\n",
              "      <td>24075</td>\n",
              "      <td>20743</td>\n",
              "      <td>83.64</td>\n",
              "    </tr>\n",
              "    <tr>\n",
              "      <th>4</th>\n",
              "      <td>recip.391.ASO.PD2.D21</td>\n",
              "      <td>27568</td>\n",
              "      <td>27131</td>\n",
              "      <td>98.41</td>\n",
              "      <td>26334</td>\n",
              "      <td>22944</td>\n",
              "      <td>83.23</td>\n",
              "    </tr>\n",
              "  </tbody>\n",
              "</table>\n",
              "</div>"
            ],
            "text/plain": [
              "               sample-id  input  ...  non-chimeric  percentage of input non-chimeric\n",
              "0    recip.220.WT.OB1.D7  18578  ...          8906                             47.94\n",
              "1   recip.290.ASO.OB2.D1  19781  ...         16387                             82.84\n",
              "2   recip.389.WT.HC2.D21  23403  ...         18984                             81.12\n",
              "3  recip.391.ASO.PD2.D14  24799  ...         20743                             83.64\n",
              "4  recip.391.ASO.PD2.D21  27568  ...         22944                             83.23\n",
              "\n",
              "[5 rows x 7 columns]"
            ]
          },
          "metadata": {
            "tags": []
          },
          "execution_count": 80
        }
      ]
    },
    {
      "cell_type": "code",
      "metadata": {
        "id": "0jV3AiYwjTQ0",
        "outputId": "55ca7342-b0f7-435c-b24d-c4349ec7b376",
        "colab": {
          "base_uri": "https://localhost:8080/",
          "height": 54
        }
      },
      "source": [
        "start_time = time.time()\n",
        "!qiime metadata tabulate \\\n",
        "  --m-input-file ./dada2_stats.qza  \\\n",
        "  --o-visualization ./dada2_stats.qzv\n",
        "\n",
        "print(\"--- %s seconds ---\" % (time.time() - start_time))"
      ],
      "execution_count": 81,
      "outputs": [
        {
          "output_type": "stream",
          "text": [
            "\u001b[32mSaved Visualization to: ./dada2_stats.qzv\u001b[0m\n",
            "--- 5.1473708152771 seconds ---\n"
          ],
          "name": "stdout"
        }
      ]
    },
    {
      "cell_type": "code",
      "metadata": {
        "id": "oIfFEIU74Onq",
        "outputId": "6b681bfa-708a-4999-d41a-e71efad587bb",
        "colab": {
          "base_uri": "https://localhost:8080/",
          "height": 54
        }
      },
      "source": [
        "start_time = time.time()\n",
        "!qiime feature-table summarize \\\n",
        "  --i-table ./dada2_table.qza \\\n",
        "  --m-sample-metadata-file ./metadata.tsv \\\n",
        "  --o-visualization ./dada2_table.qzv\n",
        "\n",
        "print(\"--- %s seconds ---\" % (time.time() - start_time))"
      ],
      "execution_count": 82,
      "outputs": [
        {
          "output_type": "stream",
          "text": [
            "\u001b[32mSaved Visualization to: ./dada2_table.qzv\u001b[0m\n",
            "--- 5.6478493213653564 seconds ---\n"
          ],
          "name": "stdout"
        }
      ]
    },
    {
      "cell_type": "code",
      "metadata": {
        "id": "6R2wIhy-D80C"
      },
      "source": [
        "archive = 'dada2_table.qza'\n",
        "qza = ZipFile(archive, 'r')\n",
        "dir_name = qza.namelist()[0].split('/')[0]\n",
        "file_name = dir_name + '/data/feature-table.biom'\n",
        "qza.extract(file_name)\n",
        "table = biom.load_table(file_name)"
      ],
      "execution_count": 83,
      "outputs": []
    },
    {
      "cell_type": "code",
      "metadata": {
        "id": "cDh81ynwH_G1",
        "outputId": "6993ebfd-6070-4174-a7c2-36e7ccc821a2",
        "colab": {
          "base_uri": "https://localhost:8080/",
          "height": 198
        }
      },
      "source": [
        "hist = pd.DataFrame(table.to_dataframe(dense=True).sum(axis=0), columns = ['counts'])\n",
        "hist['qty'] = pd.DataFrame(np.sign(table.to_dataframe(dense=True))).sum(axis=0)\n",
        "hist = hist.sort_values(by = 'counts', ascending = False)\n",
        "hist.head()"
      ],
      "execution_count": 84,
      "outputs": [
        {
          "output_type": "execute_result",
          "data": {
            "text/html": [
              "<div>\n",
              "<style scoped>\n",
              "    .dataframe tbody tr th:only-of-type {\n",
              "        vertical-align: middle;\n",
              "    }\n",
              "\n",
              "    .dataframe tbody tr th {\n",
              "        vertical-align: top;\n",
              "    }\n",
              "\n",
              "    .dataframe thead th {\n",
              "        text-align: right;\n",
              "    }\n",
              "</style>\n",
              "<table border=\"1\" class=\"dataframe\">\n",
              "  <thead>\n",
              "    <tr style=\"text-align: right;\">\n",
              "      <th></th>\n",
              "      <th>counts</th>\n",
              "      <th>qty</th>\n",
              "    </tr>\n",
              "  </thead>\n",
              "  <tbody>\n",
              "    <tr>\n",
              "      <th>recip.467.WT.HC3.D49.a</th>\n",
              "      <td>30788.0</td>\n",
              "      <td>89.0</td>\n",
              "    </tr>\n",
              "    <tr>\n",
              "      <th>recip.536.ASO.PD4.D49</th>\n",
              "      <td>28223.0</td>\n",
              "      <td>83.0</td>\n",
              "    </tr>\n",
              "    <tr>\n",
              "      <th>recip.411.ASO.HC2.D21</th>\n",
              "      <td>23601.0</td>\n",
              "      <td>77.0</td>\n",
              "    </tr>\n",
              "    <tr>\n",
              "      <th>recip.391.ASO.PD2.D21</th>\n",
              "      <td>22944.0</td>\n",
              "      <td>83.0</td>\n",
              "    </tr>\n",
              "    <tr>\n",
              "      <th>recip.463.WT.PD3.D7</th>\n",
              "      <td>21871.0</td>\n",
              "      <td>74.0</td>\n",
              "    </tr>\n",
              "  </tbody>\n",
              "</table>\n",
              "</div>"
            ],
            "text/plain": [
              "                         counts   qty\n",
              "recip.467.WT.HC3.D49.a  30788.0  89.0\n",
              "recip.536.ASO.PD4.D49   28223.0  83.0\n",
              "recip.411.ASO.HC2.D21   23601.0  77.0\n",
              "recip.391.ASO.PD2.D21   22944.0  83.0\n",
              "recip.463.WT.PD3.D7     21871.0  74.0"
            ]
          },
          "metadata": {
            "tags": []
          },
          "execution_count": 84
        }
      ]
    },
    {
      "cell_type": "code",
      "metadata": {
        "id": "6YC2vi3ghi2p",
        "outputId": "5e2278b5-4ef5-48f8-e1f8-9c72a9cbdb55",
        "colab": {
          "base_uri": "https://localhost:8080/",
          "height": 542
        }
      },
      "source": [
        "fig = make_subplots(specs=[[{\"secondary_y\": True}]])\n",
        "\n",
        "fig.add_trace(\n",
        "    go.Bar(\n",
        "        x=hist.index,\n",
        "        y=hist.counts,\n",
        "        text = hist.counts,\n",
        "        textposition='auto',\n",
        "        name = 'Frequency'\n",
        "    ), secondary_y=False)\n",
        "\n",
        "fig.add_trace(\n",
        "    go.Scatter(\n",
        "        x=hist.index,\n",
        "        y=hist.qty,\n",
        "        text = hist.qty,\n",
        "        name = 'Quantity'\n",
        "\n",
        "    ), secondary_y=True)\n",
        "fig.update_layout(\n",
        "    title='Frequency/Quantity',\n",
        "    xaxis_tickfont_size=14,\n",
        "    yaxis=dict(\n",
        "        title='Frequency',\n",
        "        titlefont_size=16,\n",
        "        tickfont_size=14,\n",
        "    ),\n",
        "    yaxis2=dict(\n",
        "        title='Quantity',\n",
        "        titlefont_size=16,\n",
        "        tickfont_size=14,\n",
        "    ),\n",
        ")\n",
        "fig.show()"
      ],
      "execution_count": 85,
      "outputs": [
        {
          "output_type": "display_data",
          "data": {
            "text/html": [
              "<html>\n",
              "<head><meta charset=\"utf-8\" /></head>\n",
              "<body>\n",
              "    <div>\n",
              "            <script src=\"https://cdnjs.cloudflare.com/ajax/libs/mathjax/2.7.5/MathJax.js?config=TeX-AMS-MML_SVG\"></script><script type=\"text/javascript\">if (window.MathJax) {MathJax.Hub.Config({SVG: {font: \"STIX-Web\"}});}</script>\n",
              "                <script type=\"text/javascript\">window.PlotlyConfig = {MathJaxConfig: 'local'};</script>\n",
              "        <script src=\"https://cdn.plot.ly/plotly-latest.min.js\"></script>    \n",
              "            <div id=\"bce520bb-30f6-4ffb-89fb-afc437f18847\" class=\"plotly-graph-div\" style=\"height:525px; width:100%;\"></div>\n",
              "            <script type=\"text/javascript\">\n",
              "                \n",
              "                    window.PLOTLYENV=window.PLOTLYENV || {};\n",
              "                    \n",
              "                if (document.getElementById(\"bce520bb-30f6-4ffb-89fb-afc437f18847\")) {\n",
              "                    Plotly.newPlot(\n",
              "                        'bce520bb-30f6-4ffb-89fb-afc437f18847',\n",
              "                        [{\"name\": \"Frequency\", \"text\": [30788.0, 28223.0, 23601.0, 22944.0, 21871.0, 21218.0, 20888.0, 20743.0, 20695.0, 20614.0, 20208.0, 19945.0, 19850.0, 19642.0, 19561.0, 19111.0, 19069.0, 19056.0, 18984.0, 18777.0, 18729.0, 18669.0, 18183.0, 17952.0, 17853.0, 17843.0, 17714.0, 17668.0, 17641.0, 17478.0, 17402.0, 16787.0, 16387.0, 16157.0, 16066.0, 15625.0, 15619.0, 15462.0, 15233.0, 13689.0, 12418.0, 10764.0, 10627.0, 9094.0, 8906.0, 4359.0, 2136.0, 358.0], \"textposition\": \"auto\", \"type\": \"bar\", \"x\": [\"recip.467.WT.HC3.D49.a\", \"recip.536.ASO.PD4.D49\", \"recip.411.ASO.HC2.D21\", \"recip.391.ASO.PD2.D21\", \"recip.463.WT.PD3.D7\", \"recip.462.WT.PD3.D21\", \"recip.539.ASO.PD4.D7\", \"recip.391.ASO.PD2.D14\", \"recip.462.WT.PD3.D7\", \"recip.539.ASO.PD4.D14\", \"recip.540.ASO.HC4.D14\", \"recip.412.ASO.HC2.D14\", \"recip.465.ASO.PD3.D7\", \"recip.411.ASO.HC2.D14\", \"recip.540.ASO.HC4.D7\", \"recip.460.WT.HC3.D7\", \"recip.461.ASO.HC3.D21\", \"recip.465.ASO.PD3.D14\", \"recip.389.WT.HC2.D21\", \"recip.458.ASO.HC3.D21\", \"recip.411.ASO.HC2.D49\", \"recip.463.WT.PD3.D21\", \"recip.463.WT.PD3.D14\", \"recip.462.WT.PD3.D14\", \"recip.464.WT.PD3.D14\", \"recip.456.ASO.HC3.D49\", \"recip.459.WT.HC3.D21\", \"recip.466.ASO.PD3.D7\", \"recip.413.WT.HC2.D7\", \"recip.461.ASO.HC3.D7\", \"recip.401.ASO.HC2.D7\", \"recip.403.ASO.PD2.D21\", \"recip.290.ASO.OB2.D1\", \"recip.458.ASO.HC3.D49\", \"recip.412.ASO.HC2.D7\", \"recip.462.WT.PD3.D49\", \"recip.400.ASO.HC2.D14\", \"recip.391.ASO.PD2.D7\", \"recip.467.WT.HC3.D49.b\", \"recip.459.WT.HC3.D14\", \"recip.538.WT.PD4.D21\", \"recip.460.WT.HC3.D21\", \"recip.459.WT.HC3.D49\", \"recip.461.ASO.HC3.D49\", \"recip.220.WT.OB1.D7\", \"recip.537.WT.PD4.D21\", \"recip.460.WT.HC3.D14\", \"recip.460.WT.HC3.D49\"], \"xaxis\": \"x\", \"y\": [30788.0, 28223.0, 23601.0, 22944.0, 21871.0, 21218.0, 20888.0, 20743.0, 20695.0, 20614.0, 20208.0, 19945.0, 19850.0, 19642.0, 19561.0, 19111.0, 19069.0, 19056.0, 18984.0, 18777.0, 18729.0, 18669.0, 18183.0, 17952.0, 17853.0, 17843.0, 17714.0, 17668.0, 17641.0, 17478.0, 17402.0, 16787.0, 16387.0, 16157.0, 16066.0, 15625.0, 15619.0, 15462.0, 15233.0, 13689.0, 12418.0, 10764.0, 10627.0, 9094.0, 8906.0, 4359.0, 2136.0, 358.0], \"yaxis\": \"y\"}, {\"name\": \"Quantity\", \"text\": [89.0, 83.0, 77.0, 83.0, 74.0, 56.0, 61.0, 71.0, 63.0, 63.0, 73.0, 79.0, 72.0, 69.0, 77.0, 71.0, 60.0, 61.0, 66.0, 70.0, 79.0, 48.0, 76.0, 61.0, 55.0, 102.0, 67.0, 50.0, 82.0, 60.0, 74.0, 66.0, 59.0, 63.0, 57.0, 49.0, 68.0, 96.0, 63.0, 62.0, 56.0, 78.0, 55.0, 62.0, 65.0, 30.0, 60.0, 14.0], \"type\": \"scatter\", \"x\": [\"recip.467.WT.HC3.D49.a\", \"recip.536.ASO.PD4.D49\", \"recip.411.ASO.HC2.D21\", \"recip.391.ASO.PD2.D21\", \"recip.463.WT.PD3.D7\", \"recip.462.WT.PD3.D21\", \"recip.539.ASO.PD4.D7\", \"recip.391.ASO.PD2.D14\", \"recip.462.WT.PD3.D7\", \"recip.539.ASO.PD4.D14\", \"recip.540.ASO.HC4.D14\", \"recip.412.ASO.HC2.D14\", \"recip.465.ASO.PD3.D7\", \"recip.411.ASO.HC2.D14\", \"recip.540.ASO.HC4.D7\", \"recip.460.WT.HC3.D7\", \"recip.461.ASO.HC3.D21\", \"recip.465.ASO.PD3.D14\", \"recip.389.WT.HC2.D21\", \"recip.458.ASO.HC3.D21\", \"recip.411.ASO.HC2.D49\", \"recip.463.WT.PD3.D21\", \"recip.463.WT.PD3.D14\", \"recip.462.WT.PD3.D14\", \"recip.464.WT.PD3.D14\", \"recip.456.ASO.HC3.D49\", \"recip.459.WT.HC3.D21\", \"recip.466.ASO.PD3.D7\", \"recip.413.WT.HC2.D7\", \"recip.461.ASO.HC3.D7\", \"recip.401.ASO.HC2.D7\", \"recip.403.ASO.PD2.D21\", \"recip.290.ASO.OB2.D1\", \"recip.458.ASO.HC3.D49\", \"recip.412.ASO.HC2.D7\", \"recip.462.WT.PD3.D49\", \"recip.400.ASO.HC2.D14\", \"recip.391.ASO.PD2.D7\", \"recip.467.WT.HC3.D49.b\", \"recip.459.WT.HC3.D14\", \"recip.538.WT.PD4.D21\", \"recip.460.WT.HC3.D21\", \"recip.459.WT.HC3.D49\", \"recip.461.ASO.HC3.D49\", \"recip.220.WT.OB1.D7\", \"recip.537.WT.PD4.D21\", \"recip.460.WT.HC3.D14\", \"recip.460.WT.HC3.D49\"], \"xaxis\": \"x\", \"y\": [89.0, 83.0, 77.0, 83.0, 74.0, 56.0, 61.0, 71.0, 63.0, 63.0, 73.0, 79.0, 72.0, 69.0, 77.0, 71.0, 60.0, 61.0, 66.0, 70.0, 79.0, 48.0, 76.0, 61.0, 55.0, 102.0, 67.0, 50.0, 82.0, 60.0, 74.0, 66.0, 59.0, 63.0, 57.0, 49.0, 68.0, 96.0, 63.0, 62.0, 56.0, 78.0, 55.0, 62.0, 65.0, 30.0, 60.0, 14.0], \"yaxis\": \"y2\"}],\n",
              "                        {\"template\": {\"data\": {\"bar\": [{\"error_x\": {\"color\": \"#2a3f5f\"}, \"error_y\": {\"color\": \"#2a3f5f\"}, \"marker\": {\"line\": {\"color\": \"#E5ECF6\", \"width\": 0.5}}, \"type\": \"bar\"}], \"barpolar\": [{\"marker\": {\"line\": {\"color\": \"#E5ECF6\", \"width\": 0.5}}, \"type\": \"barpolar\"}], \"carpet\": [{\"aaxis\": {\"endlinecolor\": \"#2a3f5f\", \"gridcolor\": \"white\", \"linecolor\": \"white\", \"minorgridcolor\": \"white\", \"startlinecolor\": \"#2a3f5f\"}, \"baxis\": {\"endlinecolor\": \"#2a3f5f\", \"gridcolor\": \"white\", \"linecolor\": \"white\", \"minorgridcolor\": \"white\", \"startlinecolor\": \"#2a3f5f\"}, \"type\": \"carpet\"}], \"choropleth\": [{\"colorbar\": {\"outlinewidth\": 0, \"ticks\": \"\"}, \"type\": \"choropleth\"}], \"contour\": [{\"colorbar\": {\"outlinewidth\": 0, \"ticks\": \"\"}, \"colorscale\": [[0.0, \"#0d0887\"], [0.1111111111111111, \"#46039f\"], [0.2222222222222222, \"#7201a8\"], [0.3333333333333333, \"#9c179e\"], [0.4444444444444444, \"#bd3786\"], [0.5555555555555556, \"#d8576b\"], [0.6666666666666666, \"#ed7953\"], [0.7777777777777778, \"#fb9f3a\"], [0.8888888888888888, \"#fdca26\"], [1.0, \"#f0f921\"]], \"type\": \"contour\"}], \"contourcarpet\": [{\"colorbar\": {\"outlinewidth\": 0, \"ticks\": \"\"}, \"type\": \"contourcarpet\"}], \"heatmap\": [{\"colorbar\": {\"outlinewidth\": 0, \"ticks\": \"\"}, \"colorscale\": [[0.0, \"#0d0887\"], [0.1111111111111111, \"#46039f\"], [0.2222222222222222, \"#7201a8\"], [0.3333333333333333, \"#9c179e\"], [0.4444444444444444, \"#bd3786\"], [0.5555555555555556, \"#d8576b\"], [0.6666666666666666, \"#ed7953\"], [0.7777777777777778, \"#fb9f3a\"], [0.8888888888888888, \"#fdca26\"], [1.0, \"#f0f921\"]], \"type\": \"heatmap\"}], \"heatmapgl\": [{\"colorbar\": {\"outlinewidth\": 0, \"ticks\": \"\"}, \"colorscale\": [[0.0, \"#0d0887\"], [0.1111111111111111, \"#46039f\"], [0.2222222222222222, \"#7201a8\"], [0.3333333333333333, \"#9c179e\"], [0.4444444444444444, \"#bd3786\"], [0.5555555555555556, \"#d8576b\"], [0.6666666666666666, \"#ed7953\"], [0.7777777777777778, \"#fb9f3a\"], [0.8888888888888888, \"#fdca26\"], [1.0, \"#f0f921\"]], \"type\": \"heatmapgl\"}], \"histogram\": [{\"marker\": {\"colorbar\": {\"outlinewidth\": 0, \"ticks\": \"\"}}, \"type\": \"histogram\"}], \"histogram2d\": [{\"colorbar\": {\"outlinewidth\": 0, \"ticks\": \"\"}, \"colorscale\": [[0.0, \"#0d0887\"], [0.1111111111111111, \"#46039f\"], [0.2222222222222222, \"#7201a8\"], [0.3333333333333333, \"#9c179e\"], [0.4444444444444444, \"#bd3786\"], [0.5555555555555556, \"#d8576b\"], [0.6666666666666666, \"#ed7953\"], [0.7777777777777778, \"#fb9f3a\"], [0.8888888888888888, \"#fdca26\"], [1.0, \"#f0f921\"]], \"type\": \"histogram2d\"}], \"histogram2dcontour\": [{\"colorbar\": {\"outlinewidth\": 0, \"ticks\": \"\"}, \"colorscale\": [[0.0, \"#0d0887\"], [0.1111111111111111, \"#46039f\"], [0.2222222222222222, \"#7201a8\"], [0.3333333333333333, \"#9c179e\"], [0.4444444444444444, \"#bd3786\"], [0.5555555555555556, \"#d8576b\"], [0.6666666666666666, \"#ed7953\"], [0.7777777777777778, \"#fb9f3a\"], [0.8888888888888888, \"#fdca26\"], [1.0, \"#f0f921\"]], \"type\": \"histogram2dcontour\"}], \"mesh3d\": [{\"colorbar\": {\"outlinewidth\": 0, \"ticks\": \"\"}, \"type\": \"mesh3d\"}], \"parcoords\": [{\"line\": {\"colorbar\": {\"outlinewidth\": 0, \"ticks\": \"\"}}, \"type\": \"parcoords\"}], \"pie\": [{\"automargin\": true, \"type\": \"pie\"}], \"scatter\": [{\"marker\": {\"colorbar\": {\"outlinewidth\": 0, \"ticks\": \"\"}}, \"type\": \"scatter\"}], \"scatter3d\": [{\"line\": {\"colorbar\": {\"outlinewidth\": 0, \"ticks\": \"\"}}, \"marker\": {\"colorbar\": {\"outlinewidth\": 0, \"ticks\": \"\"}}, \"type\": \"scatter3d\"}], \"scattercarpet\": [{\"marker\": {\"colorbar\": {\"outlinewidth\": 0, \"ticks\": \"\"}}, \"type\": \"scattercarpet\"}], \"scattergeo\": [{\"marker\": {\"colorbar\": {\"outlinewidth\": 0, \"ticks\": \"\"}}, \"type\": \"scattergeo\"}], \"scattergl\": [{\"marker\": {\"colorbar\": {\"outlinewidth\": 0, \"ticks\": \"\"}}, \"type\": \"scattergl\"}], \"scattermapbox\": [{\"marker\": {\"colorbar\": {\"outlinewidth\": 0, \"ticks\": \"\"}}, \"type\": \"scattermapbox\"}], \"scatterpolar\": [{\"marker\": {\"colorbar\": {\"outlinewidth\": 0, \"ticks\": \"\"}}, \"type\": \"scatterpolar\"}], \"scatterpolargl\": [{\"marker\": {\"colorbar\": {\"outlinewidth\": 0, \"ticks\": \"\"}}, \"type\": \"scatterpolargl\"}], \"scatterternary\": [{\"marker\": {\"colorbar\": {\"outlinewidth\": 0, \"ticks\": \"\"}}, \"type\": \"scatterternary\"}], \"surface\": [{\"colorbar\": {\"outlinewidth\": 0, \"ticks\": \"\"}, \"colorscale\": [[0.0, \"#0d0887\"], [0.1111111111111111, \"#46039f\"], [0.2222222222222222, \"#7201a8\"], [0.3333333333333333, \"#9c179e\"], [0.4444444444444444, \"#bd3786\"], [0.5555555555555556, \"#d8576b\"], [0.6666666666666666, \"#ed7953\"], [0.7777777777777778, \"#fb9f3a\"], [0.8888888888888888, \"#fdca26\"], [1.0, \"#f0f921\"]], \"type\": \"surface\"}], \"table\": [{\"cells\": {\"fill\": {\"color\": \"#EBF0F8\"}, \"line\": {\"color\": \"white\"}}, \"header\": {\"fill\": {\"color\": \"#C8D4E3\"}, \"line\": {\"color\": \"white\"}}, \"type\": \"table\"}]}, \"layout\": {\"annotationdefaults\": {\"arrowcolor\": \"#2a3f5f\", \"arrowhead\": 0, \"arrowwidth\": 1}, \"coloraxis\": {\"colorbar\": {\"outlinewidth\": 0, \"ticks\": \"\"}}, \"colorscale\": {\"diverging\": [[0, \"#8e0152\"], [0.1, \"#c51b7d\"], [0.2, \"#de77ae\"], [0.3, \"#f1b6da\"], [0.4, \"#fde0ef\"], [0.5, \"#f7f7f7\"], [0.6, \"#e6f5d0\"], [0.7, \"#b8e186\"], [0.8, \"#7fbc41\"], [0.9, \"#4d9221\"], [1, \"#276419\"]], \"sequential\": [[0.0, \"#0d0887\"], [0.1111111111111111, \"#46039f\"], [0.2222222222222222, \"#7201a8\"], [0.3333333333333333, \"#9c179e\"], [0.4444444444444444, \"#bd3786\"], [0.5555555555555556, \"#d8576b\"], [0.6666666666666666, \"#ed7953\"], [0.7777777777777778, \"#fb9f3a\"], [0.8888888888888888, \"#fdca26\"], [1.0, \"#f0f921\"]], \"sequentialminus\": [[0.0, \"#0d0887\"], [0.1111111111111111, \"#46039f\"], [0.2222222222222222, \"#7201a8\"], [0.3333333333333333, \"#9c179e\"], [0.4444444444444444, \"#bd3786\"], [0.5555555555555556, \"#d8576b\"], [0.6666666666666666, \"#ed7953\"], [0.7777777777777778, \"#fb9f3a\"], [0.8888888888888888, \"#fdca26\"], [1.0, \"#f0f921\"]]}, \"colorway\": [\"#636efa\", \"#EF553B\", \"#00cc96\", \"#ab63fa\", \"#FFA15A\", \"#19d3f3\", \"#FF6692\", \"#B6E880\", \"#FF97FF\", \"#FECB52\"], \"font\": {\"color\": \"#2a3f5f\"}, \"geo\": {\"bgcolor\": \"white\", \"lakecolor\": \"white\", \"landcolor\": \"#E5ECF6\", \"showlakes\": true, \"showland\": true, \"subunitcolor\": \"white\"}, \"hoverlabel\": {\"align\": \"left\"}, \"hovermode\": \"closest\", \"mapbox\": {\"style\": \"light\"}, \"paper_bgcolor\": \"white\", \"plot_bgcolor\": \"#E5ECF6\", \"polar\": {\"angularaxis\": {\"gridcolor\": \"white\", \"linecolor\": \"white\", \"ticks\": \"\"}, \"bgcolor\": \"#E5ECF6\", \"radialaxis\": {\"gridcolor\": \"white\", \"linecolor\": \"white\", \"ticks\": \"\"}}, \"scene\": {\"xaxis\": {\"backgroundcolor\": \"#E5ECF6\", \"gridcolor\": \"white\", \"gridwidth\": 2, \"linecolor\": \"white\", \"showbackground\": true, \"ticks\": \"\", \"zerolinecolor\": \"white\"}, \"yaxis\": {\"backgroundcolor\": \"#E5ECF6\", \"gridcolor\": \"white\", \"gridwidth\": 2, \"linecolor\": \"white\", \"showbackground\": true, \"ticks\": \"\", \"zerolinecolor\": \"white\"}, \"zaxis\": {\"backgroundcolor\": \"#E5ECF6\", \"gridcolor\": \"white\", \"gridwidth\": 2, \"linecolor\": \"white\", \"showbackground\": true, \"ticks\": \"\", \"zerolinecolor\": \"white\"}}, \"shapedefaults\": {\"line\": {\"color\": \"#2a3f5f\"}}, \"ternary\": {\"aaxis\": {\"gridcolor\": \"white\", \"linecolor\": \"white\", \"ticks\": \"\"}, \"baxis\": {\"gridcolor\": \"white\", \"linecolor\": \"white\", \"ticks\": \"\"}, \"bgcolor\": \"#E5ECF6\", \"caxis\": {\"gridcolor\": \"white\", \"linecolor\": \"white\", \"ticks\": \"\"}}, \"title\": {\"x\": 0.05}, \"xaxis\": {\"automargin\": true, \"gridcolor\": \"white\", \"linecolor\": \"white\", \"ticks\": \"\", \"title\": {\"standoff\": 15}, \"zerolinecolor\": \"white\", \"zerolinewidth\": 2}, \"yaxis\": {\"automargin\": true, \"gridcolor\": \"white\", \"linecolor\": \"white\", \"ticks\": \"\", \"title\": {\"standoff\": 15}, \"zerolinecolor\": \"white\", \"zerolinewidth\": 2}}}, \"title\": {\"text\": \"Frequency/Quantity\"}, \"xaxis\": {\"anchor\": \"y\", \"domain\": [0.0, 0.94], \"tickfont\": {\"size\": 14}}, \"yaxis\": {\"anchor\": \"x\", \"domain\": [0.0, 1.0], \"tickfont\": {\"size\": 14}, \"title\": {\"font\": {\"size\": 16}, \"text\": \"Frequency\"}}, \"yaxis2\": {\"anchor\": \"x\", \"overlaying\": \"y\", \"side\": \"right\", \"tickfont\": {\"size\": 14}, \"title\": {\"font\": {\"size\": 16}, \"text\": \"Quantity\"}}},\n",
              "                        {\"responsive\": true}\n",
              "                    ).then(function(){\n",
              "                            \n",
              "var gd = document.getElementById('bce520bb-30f6-4ffb-89fb-afc437f18847');\n",
              "var x = new MutationObserver(function (mutations, observer) {{\n",
              "        var display = window.getComputedStyle(gd).display;\n",
              "        if (!display || display === 'none') {{\n",
              "            console.log([gd, 'removed!']);\n",
              "            Plotly.purge(gd);\n",
              "            observer.disconnect();\n",
              "        }}\n",
              "}});\n",
              "\n",
              "// Listen for the removal of the full notebook cells\n",
              "var notebookContainer = gd.closest('#notebook-container');\n",
              "if (notebookContainer) {{\n",
              "    x.observe(notebookContainer, {childList: true});\n",
              "}}\n",
              "\n",
              "// Listen for the clearing of the current output cell\n",
              "var outputEl = gd.closest('.output');\n",
              "if (outputEl) {{\n",
              "    x.observe(outputEl, {childList: true});\n",
              "}}\n",
              "\n",
              "                        })\n",
              "                };\n",
              "                \n",
              "            </script>\n",
              "        </div>\n",
              "</body>\n",
              "</html>"
            ]
          },
          "metadata": {
            "tags": []
          }
        }
      ]
    },
    {
      "cell_type": "code",
      "metadata": {
        "id": "uJs1iUrP_bGD"
      },
      "source": [
        "normed = table.norm(axis='sample', inplace=False)"
      ],
      "execution_count": 86,
      "outputs": []
    },
    {
      "cell_type": "code",
      "metadata": {
        "id": "-H_RpV3so-sU",
        "outputId": "c10af430-1c47-4998-a62a-d0fca87063e3",
        "colab": {
          "base_uri": "https://localhost:8080/",
          "height": 198
        }
      },
      "source": [
        "hist = pd.DataFrame(normed.to_dataframe(dense=True).median(axis=1), columns = ['normed']).reset_index()\n",
        "hist.head()"
      ],
      "execution_count": 87,
      "outputs": [
        {
          "output_type": "execute_result",
          "data": {
            "text/html": [
              "<div>\n",
              "<style scoped>\n",
              "    .dataframe tbody tr th:only-of-type {\n",
              "        vertical-align: middle;\n",
              "    }\n",
              "\n",
              "    .dataframe tbody tr th {\n",
              "        vertical-align: top;\n",
              "    }\n",
              "\n",
              "    .dataframe thead th {\n",
              "        text-align: right;\n",
              "    }\n",
              "</style>\n",
              "<table border=\"1\" class=\"dataframe\">\n",
              "  <thead>\n",
              "    <tr style=\"text-align: right;\">\n",
              "      <th></th>\n",
              "      <th>index</th>\n",
              "      <th>normed</th>\n",
              "    </tr>\n",
              "  </thead>\n",
              "  <tbody>\n",
              "    <tr>\n",
              "      <th>0</th>\n",
              "      <td>04c8be5a3a6ba2d70446812e99318905</td>\n",
              "      <td>0.089829</td>\n",
              "    </tr>\n",
              "    <tr>\n",
              "      <th>1</th>\n",
              "      <td>ea2b0e4a93c24c6c3661cbe347f93b74</td>\n",
              "      <td>0.109708</td>\n",
              "    </tr>\n",
              "    <tr>\n",
              "      <th>2</th>\n",
              "      <td>1ad289cd8f44e109fd95de0382c5b252</td>\n",
              "      <td>0.061296</td>\n",
              "    </tr>\n",
              "    <tr>\n",
              "      <th>3</th>\n",
              "      <td>3d9838f12f6ff5591dbadeb427a855f1</td>\n",
              "      <td>0.003316</td>\n",
              "    </tr>\n",
              "    <tr>\n",
              "      <th>4</th>\n",
              "      <td>ac5402de1ddf427ab8d2b0a8a0a44f19</td>\n",
              "      <td>0.069402</td>\n",
              "    </tr>\n",
              "  </tbody>\n",
              "</table>\n",
              "</div>"
            ],
            "text/plain": [
              "                              index    normed\n",
              "0  04c8be5a3a6ba2d70446812e99318905  0.089829\n",
              "1  ea2b0e4a93c24c6c3661cbe347f93b74  0.109708\n",
              "2  1ad289cd8f44e109fd95de0382c5b252  0.061296\n",
              "3  3d9838f12f6ff5591dbadeb427a855f1  0.003316\n",
              "4  ac5402de1ddf427ab8d2b0a8a0a44f19  0.069402"
            ]
          },
          "metadata": {
            "tags": []
          },
          "execution_count": 87
        }
      ]
    },
    {
      "cell_type": "code",
      "metadata": {
        "id": "qi2ecxSUwHx_",
        "outputId": "5fa578eb-f7f1-401c-eda1-8e08ff54eba3",
        "colab": {
          "base_uri": "https://localhost:8080/",
          "height": 542
        }
      },
      "source": [
        "fig = px.pie(hist, values='normed', names='index')\n",
        "fig.show()"
      ],
      "execution_count": 88,
      "outputs": [
        {
          "output_type": "display_data",
          "data": {
            "text/html": [
              "<html>\n",
              "<head><meta charset=\"utf-8\" /></head>\n",
              "<body>\n",
              "    <div>\n",
              "            <script src=\"https://cdnjs.cloudflare.com/ajax/libs/mathjax/2.7.5/MathJax.js?config=TeX-AMS-MML_SVG\"></script><script type=\"text/javascript\">if (window.MathJax) {MathJax.Hub.Config({SVG: {font: \"STIX-Web\"}});}</script>\n",
              "                <script type=\"text/javascript\">window.PlotlyConfig = {MathJaxConfig: 'local'};</script>\n",
              "        <script src=\"https://cdn.plot.ly/plotly-latest.min.js\"></script>    \n",
              "            <div id=\"e8b33d1d-6643-436d-9b6a-73dced8613f7\" class=\"plotly-graph-div\" style=\"height:525px; width:100%;\"></div>\n",
              "            <script type=\"text/javascript\">\n",
              "                \n",
              "                    window.PLOTLYENV=window.PLOTLYENV || {};\n",
              "                    \n",
              "                if (document.getElementById(\"e8b33d1d-6643-436d-9b6a-73dced8613f7\")) {\n",
              "                    Plotly.newPlot(\n",
              "                        'e8b33d1d-6643-436d-9b6a-73dced8613f7',\n",
              "                        [{\"domain\": {\"x\": [0.0, 1.0], \"y\": [0.0, 1.0]}, \"hoverlabel\": {\"namelength\": 0}, \"hovertemplate\": \"index=%{label}<br>normed=%{value}\", \"labels\": [\"04c8be5a3a6ba2d70446812e99318905\", \"ea2b0e4a93c24c6c3661cbe347f93b74\", \"1ad289cd8f44e109fd95de0382c5b252\", \"3d9838f12f6ff5591dbadeb427a855f1\", \"ac5402de1ddf427ab8d2b0a8a0a44f19\", \"e5a43b018c81cedd19e9a5354d32d469\", \"c4f9ef34bd2919511069f409c25de6f1\", \"0f4cadbeaa245b98e599c6d662ae9c19\", \"74ec9fe6ffab4ecff6d5def74298a825\", \"b47e999a38113e0e4e2b139e8b861fdd\", \"a66dd8d31584930c2b0f811f572dddcf\", \"25def15fb42bed6855ede4893d27a21d\", \"04195686f2b70585790ec75320de0d6f\", \"d39f37b814ebd81091a949f8bd9d1710\", \"d5c52d867f4b3d86735eb8d8b3ff85f9\", \"c5b4c6b372dbc13b6a7f2d466fc7335f\", \"3d766867c97f511431bf97e059d6498f\", \"599ba6458e91e2527f358f547ea39261\", \"c162a4f3943238810eba8a25f0563cca\", \"e6a34eb113dba66df0b8bbec907a8f5d\", \"ad689a29574a09c604cd36cf41732e13\", \"3128e057b1d4f320961e4da677724613\", \"ed5952d1e022067b212146b9b3bc6812\", \"993ea35e8ad7ff6894e32247dc507e9b\", \"ff88a3ff3ed651f80384b3440acb21d5\", \"cae14798faeabb8e1b8840e712839921\", \"0189d0173c07f11e7586ff20eb33f5ba\", \"71eefb0527438cc9f3a3e91dccd3caa8\", \"a167e4d4418792dcaba877443ed0e66d\", \"f8f3e605678a490b72cab74f3fc2c52b\", \"48d9883fd871b82d9bbc89cb0447be8c\", \"dafe809740d0545dc25c6939a84a1820\", \"ad52a0f6646c574417ce0b13b84acfa9\", \"370829fece3190f1a8efccf50b7d0921\", \"54f7ee881a58ad84fe3f81d76968b072\", \"eea6b86c0c75e740670ccc50613b1b23\", \"ad7bc2bb6e1ec90a9bc3c8949bce80d6\", \"59196a586276f0be745d0e334fc071c6\", \"4311a44a7d56ce4086afad3e75bedd6e\", \"cc968157f7691aab95df444e8cd103e2\", \"3f55a8ca784ae7190790023a30cd859c\", \"ed359a2407b2ca10646f03d8714727b8\", \"0c70bdd5631104dd3d818561c9166f6c\", \"efc53dead4f6aa3c5c7b6bc3ebd55544\", \"3ca07c7b48bf227fc120979a40a65ecb\", \"1276e75750b8088464a4275ad0c81579\", \"fd1f139259c53276619476db0cc81913\", \"4c2189b6b5ced3cb80093414e9449de9\", \"6a17479edbe461431433bddb084f731e\", \"8a83cfd5eb074b5dbc6118eb03ef915e\", \"60c57911662a9159dfdd0fc05d975a55\", \"56c3d1a8e4dc5c2aa7afbc1563559448\", \"f609a7a60f9d78d21f9d3344dd463ebd\", \"79280cea51a6fe8a3432b2f266dd34db\", \"e644522cf6d7222c9da7f9ecf614cd89\", \"3e93fd55a231bb99b67a666bad8446a8\", \"597966c93921ecc2907ad15121cbcd2c\", \"f383301e7fc9100853de9ac3bc236047\", \"d2d1d9d57e61a764383ea2c84cef04c5\", \"a7afea19e18742d1f98968e526a4d848\", \"fcc915000295812eecfa7245a74346e9\", \"fea3411c847e6627afb5e78b88e2e9af\", \"2f3b51e3f7acc3c9f66f1552b67a0209\", \"7236beef2afd3daa8faca0b3865918a7\", \"98f949633286bc12c8a26a7ee2de2a55\", \"99dda7b5337bc09a69e9e27bab56fd79\", \"539c656b9710b0099a96a678b3023299\", \"a75b0438ad19fb4e31f4d58c2d49ea02\", \"c942f59feffce9c3ab527135de234101\", \"39bb3fb5b2257fd2eacca408dc42c5d1\", \"c82032c40c98975f71892e4be561c87a\", \"f12011ad5219b22b6ca790103333a755\", \"0d357d84911ef4a089c6ae3c6deb39b9\", \"b153e0852342c0738da791930625716f\", \"436497b0e3edb384200f5b9b82883182\", \"64d0a182b41ddc2ed31ebfc1dd2dab3b\", \"867ef55516e42915f9969f14b3640967\", \"113ce005a880987438bdbe19ee22add8\", \"61795ee8e60f4a0f66080ab812573fb8\", \"42019875482bfb1e4ef010ce0cc617b8\", \"4d9e31dc68d6d5c708f70143f73f54b7\", \"589c1370b3324a2d6cff6d1ff85341d1\", \"59597cd430deea6d8e0908dcd6db7e50\", \"58df89090206b56c52bfffa4b97f4d5d\", \"72d6ddeb60679dd2e2844fe039e1a760\", \"7ce470a3f833253f6d667fa6830abe07\", \"74923f4bbde849e27fc4eda25d757e2a\", \"3017f87a3b0f5200ed54eca17eef3cbb\", \"a4a7fc8070f004bdedee4d9833412f63\", \"4acc36d268585bc3834e627756313b21\", \"a544abd909afc727c4418e4e19eed417\", \"e2c3ff4f647112723741aa72087f1bfa\", \"5d141d74c8bd046171ec64835c4864b2\", \"4be97abf1ab678a8322783fab899c3a4\", \"b45c9784d674879d68d54362419a1d70\", \"8d181137c9febeb212a7e98974633215\", \"36247932c78308738fce8e71bb563ca0\", \"adab39c80998d5e7787770c5e2d7e66f\", \"cea0486054293b47714d155ca349b763\", \"c4b28302dba020a58dbae9c4db392f01\", \"588a23811b3e98af68f4f0fb24a0daa8\", \"9a75764782a384ce3b83e019c8b2dd94\", \"ff9c38c8e5450a3347e39a6c1539fcdb\", \"4b548f1f6fc22f32237396b7d4ffee6e\", \"9f48f7b79ed6f3dcde8b25e0cf244d5d\", \"1ef782a559e3e0a4ab42516e0a2c828f\", \"51ec82b74708e9246ec88a798ba7c636\", \"340a5698fe78713b785c3bcce89df73b\", \"94cbe1a4c874ed06029d9ff25043401a\", \"30207d209491dfb7de83344e77fd6fbd\", \"3098ee4e595175076514b00a8a20c291\", \"32c4498732e02af61d331441ceabc5f5\", \"7e17a5137fd9dab8c02617a186088c4d\", \"3f1ed51e954b35a8108c12dd882b696b\", \"2353a1440b49a6a5eb83966826686dda\", \"559f44be0d455c0ae85c00edeb22c555\", \"a2de3fc7ec0d79135bd2bdf3df9106cf\", \"5b2ff5ba2a0d772cdfbebcd539e8519c\", \"34cddd9fe152c24d78924ef25927d67c\", \"525d64ff8a5140d13235ed64009a3494\", \"8ce931b0c99ad5ed648c25483c1ca492\", \"c1c1c7a5ca13ddaffccff1f5c2b5ece8\", \"ca0fb2462b67d4296fdb8de1372d9165\", \"919db619ad90cc6b09b31c83d5719da9\", \"5ca5ea401c8d3569e69626d2f81d5578\", \"9828f58eaf910927264c204ace9caeed\", \"bad4f7c5ada34a1f813946abcfe5c556\", \"b796b2132a5015f869c8b5ac44a0e2bf\", \"51625f89e7332f46ab0641e10cede6ea\", \"32d9ab84e859d48f487b790c58e98234\", \"539ca948741b9a713eb781d4281b23fc\", \"f7ce5d68ad002cdc285273d049516c84\", \"4fcfad4a1e7822b1d1fe3ea11b9170d6\", \"ea3433f2c148c6fae4cc2e9ae197f5b8\", \"2c1dcc76478dfbb19fa59690738202c6\", \"a8aa97d298d1f664e210db65c1e7a5a4\", \"8720f9ecd2331ce68e2896df1bf2d977\", \"0f6200a5b77099113b52eea9a8645181\", \"c04ae6cb04177b768e7f8a7259a8775e\", \"4faf0d1e462b85e630eaa40b17d8d744\", \"38049d3a278edb50fc3709a722456336\", \"b151fbf52e3c196ce4ffe9b4a3e9af14\", \"0b05a2e48cdc5f9e766bb0f4c209d4b4\", \"c8fce068920feb387167d44c01689295\", \"b7d161ba662e5044f7904ff37eb40d38\", \"0cc2420a6a4698f8bf664d50b17d26b4\", \"90c2b51afe404951ec89bd52c7ae1f58\", \"86deb5cf8d6f29d383136e0d09863b69\", \"f1d25e37d8438847f4ab09579169b373\", \"1c94105978b1aa2095e3c0096774f240\", \"5e4405e37412f415c47c112a0cbc487a\", \"54f25a2b09b2c1a1517c8b5472eca178\", \"4f6f2afb7adf1bb487b6a86b13022445\", \"cd14358c8e9325447847a447ed38c9df\", \"f9f5f08e8da4cc9740518223846563db\", \"9ad89cc951aa3031c19c59c95e401614\", \"ec81ef0caa9eecee1953c8786cadf859\", \"1e6fb78e2244ca940f9fc31d88d711dc\", \"1aab913302590e21a7be28b1494a3320\", \"149e7d5e484d157f2ac6140a2111618e\", \"efdc10ad96caaf61068e37a40a1caec6\", \"180b74e94caf35fac5e1f0f4b7ad9d9f\", \"ab153c3e19553cead3d76fb9e00684c2\", \"a04295ee03dc1896dddeeff5c83471da\", \"605e81eb674b7e28a2ef1b19a20081ab\", \"c18afe570abfe82d2f746ecc6e291bab\", \"8eef12dc7c7e72a840061732d0d24e79\", \"148c7eb0139bbc1b8c87dd31464742e4\", \"98eecebb99944787e35f7583408fe8c7\", \"82c890da8759fa9477cd991a1f214b3c\", \"690df543c97f2394f67f7374003b9dfd\", \"fdb1c35a8dab336d65ed22d796e71e4b\", \"51a63d18809e04591820c7e3f3acf0b4\", \"192522c9b7c41f7a761f8a2ba792268a\", \"a47635bebc39d2523bf9e0e7d69c7a72\", \"99b02f389bd0b7abad0d4d8affb09e22\", \"6240207fd3edd24bf0799b5f427423a0\", \"d6bb5703483ac68992e09ce17683c52f\", \"b87435ddd0a4dee49b17a7d62e374a76\", \"00c96206074c797a82c13cbde98a9c1f\", \"c083b87947dd3fe37a289d8500532172\", \"514b34f09e4acd2397d38273c630d338\", \"119d97b0ab7d5f1e877eece957a9120f\", \"8951cc9103140b71bd50c0932e096502\", \"258ddb5e1f240eac68acb0db06816538\", \"2480f3aa1e7784b461d9b5b83a6bfc81\", \"d05c86b5bfc092d8677507fb1eae8d66\", \"85346ae81de7c92bcda88b9eda345d9f\", \"f738d6eb5441459c12e96023d56dafcf\", \"ebb0a1a7320a206fe84330abc8fa96c0\", \"611f25bcf2e9ccc3e91be10071526310\", \"40c85a458df8d5a935122ba778d4f334\", \"bf1396edf82991b9bf52261622d17abb\", \"5ca08ce4794f764fd08364dd4d33f87a\", \"6d0013cae9b331ee166821cb124dbca1\", \"9acc238746a1f2aa7745a0b5720c4eac\", \"ec1f3622e09fe4a3ec69f3d78da6010b\", \"871b1c75e0386bab70809735d040ed28\", \"3233034b11dfc584717d9264882a4fce\", \"8706a529ca2ed4681dcd29d33f1cda70\", \"0cc26190e976fc496119a5eb4cd0fee7\", \"07f183edd4e4d8aef1dcb2ab24dd7745\", \"fb464f8e5ae811d72eda06eff2ee40ba\", \"23f9483ab286a395e9c207ad5a0beb74\", \"2ae8a432208b85a14e86eb821c86ce2b\", \"7ea7fb2ff0695695d6fea3725a7868f8\", \"b31ddda36b7c06e9c19f4f377daf2559\", \"d7a129c49a7dbfa5cbb558cef2628f94\", \"30518d68de113eaf45cdb3061f166cdc\", \"d75b7080930e7a77ef3de8c6154895b9\", \"6c515b0e81650b5d02a3d95ca789ba5f\", \"d34887a684a1acc690b8f3644cb11c12\", \"ee748605191c5479146ee07a3193d218\", \"7a40009876a3734096b76c7492c5a607\", \"ed7a767b5c636310d62d120f2add8934\", \"a6659d7332df023910005e4404ed1537\", \"0cd78eb6a497778e4aa8878c10b6ae1f\", \"8e8437cafec48fdafc43204cb2d3a7bf\", \"d3f86c6a6fd03654e0848a1fb1ad1385\", \"f1ff4996944c364a33e457077e9257b9\", \"f7398eb0736dfa29ea77959c2747dca3\", \"8928c13a470a9251a2ddb4d3a23b69c1\", \"2cf53730a41137e7ad95ed3680541d80\", \"6e8986f8088b452f964e7968bb8bca87\", \"0f0a1f8c92368be6e8d3145bd4e94cd1\", \"973bad6d427661f391f3c55b338bec22\", \"b8cc2b91c302958f608387a258b3cf7a\", \"bd0f4e14387ee1ac7e5fe586cadbbed4\", \"d8c2dd2445ef3c7e2f47744ed743d817\", \"f9b52205cb2d03153fd394a290212a10\", \"9a382464e563efa49cd595a4906b1829\", \"12f2acd0d01fa4c1ca1c4e48cbfde367\", \"7cccd12de71224a390b03ec6e0fe94c2\", \"fa6aacfaa894248eae0db0fa67161c63\", \"4de9f653ec2cdd0c95e012785dbbe3c0\", \"ccce7fe8aa849bed027f6898300e0c45\", \"7e06835c4db3d7f3a0586356d007f90a\", \"3c356228cf4b70f6df66ac1860909de3\", \"662bb30dbe651a2d8b1e9d2e4d2f33d8\", \"bca0b81a0b8d59e90c25a323c2f62f31\", \"138daeaeee1211d2a3d8502b8fe23b2a\", \"2ae062f25a3b10f0dabfc4b0a3c5bc62\", \"0d8af9d91e6c8c6b526d8dca1d4f5d34\", \"ffd099163f119021de9a3d050bcf8483\", \"edbb829f146cbbf35488aedb358a00b8\", \"1c22659616f3eb30c8acc726534d3f3a\", \"e974a2083d4f0afab694ff46eee1bd48\", \"17415f114576e3abaea82accc917df0e\", \"e1c1e16af6d82e0be9fbe02b9b29f280\", \"799676f3b561ee243f4d0178bb4b59f4\", \"b790a0b664cad1f34e38911ef1f21db8\", \"049136b899cc1ff3d4939051a8639b27\", \"830932289444e28d4ab0ac9cdabfe977\", \"b2c6503f6f52ec726235d56317000560\", \"b28b7c4aa423791b12345b224c273cff\", \"6c83fec6e8d03fad51eabc871853c991\", \"331807c166f49ccfe1ca279638398acc\", \"b0cdb78b4a2f4725b6b70237f5648b0f\", \"538ea780b33d88cd63d1ea758db22977\", \"a66863bce99c6e9ae85e400d84c20e84\", \"dff37b3a4d27b9220b9af1459162a48b\", \"764bb70efe70ec930379806d178319cb\", \"b43518df5514be29647a9cf28bd7e44d\", \"2c8df06d5a97923e31dd789f98eb1a63\", \"d79bb5d81b2a330fb43a44dc5228799f\", \"6aec5246e999efbc0cd2f45474ce27d4\", \"8bb5ff097e0707dca3fe5860af20f4a6\", \"6eb5bfb715b7dfcd5c86b9a21dbb1217\", \"f377e163b15c067741514142829998bc\", \"c8c67298434f493c742e803e0d9e06bc\", \"11b8e885579aba2e20a8a8ed7b02a3b0\", \"2ad5e3ec26075722ca1cb0612c82d965\", \"3127220258419507743dc5f2bba69d86\", \"a42ad1956d801cce5e0109dc0e987ceb\", \"4fd1b92e9814b1bc6d1f7b1117daf660\", \"d315a0b30c8e21db4cfe89e65c0b2bf1\", \"062765c2c058aba3e7b5f1fee1e92165\", \"35dbac393a84529b313b87cce672b8e1\", \"26d079bfdf621212ca94490b2c9c3007\", \"b35bea03c065377ff1b2cda1c72e4bc8\", \"877f27b47c85f6b2d3cf8a6aa86def40\", \"400461d38827c504f2dd2c112593626b\", \"0e6e9e41a8cf4283bf0ecf36b5ff564d\", \"14e9598ca92131c9810e69b5924d6b21\", \"d26dded305818ce9a1664421274eb54f\", \"e46743d31790f8fb4ff3a739d54d2aed\", \"60ed3ad7a69022ddc89d3f4762206781\", \"f307aa8ff39ee31213f4d9e1bfce6dcb\", \"e24c504abb0e4fa681359d1cfe882e79\", \"c7252174b34bb4147e47bb6ca64771d9\", \"97f56e68f535e44ceb53d05f269e82d6\", \"2d60664d1df635112e5aaf4104956153\", \"d52a7d7fc519e421b499c964174e1322\", \"04ce2e20b1ac48ebb7e32d0463e80457\", \"a28749ad64e14cc163061eb411388730\", \"2146a932166e411c893514fa371ff9b8\", \"ef7d3b960b0c85c5a21129cfc6359ab0\", \"460457f33d0de99f2663d3aa00f3ec21\", \"91bda678d5cea404019a6e269fc865b9\", \"3c727a249a1bbf82d3bf86d0798700a3\", \"889fd1f0d531cbb5b3610d73eab3e20a\", \"cbb1dee8bf80a6cf676e15d39d9979d1\", \"a37623981468810a81c927dc4ee17ffb\", \"9f4334509ea6cca32eaf82f46a918bf0\", \"77ad88eed91eef009bf64f101c96baa6\", \"7121132c894a196a69c89b56593e2f42\", \"a48f2b73ccf8e050e02779df7569f94c\", \"d548d217264e852a9d2f2a6662ef3289\", \"348686c2ad6d1eaf3493f53ed36028d5\", \"a678fc12f8ade13c2f9c76d3d5c1cea0\", \"01f818b8d180b61eafce02301698167e\", \"43e8a3b09162feabf2982f43986f449d\", \"5a36fda028e7ff279cde031c599fbbdd\", \"92377b1c60a5fc62baf08dce27697dcd\", \"9214065fafeaa84214c931e3ecba1611\", \"a6fa2de5f4576d1d77b1616786e3dd52\", \"5a21785c07d7cc123256f09d00deec29\", \"b91ce7096c41f4f945847fa758e9f5b1\", \"d4d47542255af6ddb5dc1b97a718f035\", \"885ec93a1214f45ba6059631be275c9f\", \"8db257dc277d4e84ef974e07dc449820\", \"43486346de8ae69c0601b0bd00344263\", \"4d04d759f5a6615dac43060726239891\", \"31c183e6be66d75bca783edfea2bb119\", \"65d765be7a0cedf129dca903f35b0dba\", \"435052f661c2b25a2191bf4612402721\", \"7d569be1ff3d3c311a73abf5f0e21bb0\", \"62eaa9dca1efe374705c29b9fb2ae5e5\", \"602510f333bda9666e551383f7ebaf82\", \"e63f2823364ed803b356f6d3acf6d891\", \"02fd0fbbdd35b659b2a41b9f630b6037\", \"d996e8d86e152c0a3c5852a2d8c4c52c\", \"1eb1b3ac3b7cc8472763ee6273396c0e\", \"47ad35356a9bfec68416d32e4f039021\", \"7db357a4adb452de8504d8ca1ddb3f99\", \"0d69754929eb3dd1a5b256b43f1c05d7\", \"059c8f8bb468064b134ea6d3661761ea\", \"81e00d9718d7324ab540d28c2a20208a\", \"9d8bf12315fc24ad3f7ba3a607842719\", \"a538e0c72f940bfe5957d13756d7b83b\", \"313eb98349d43888abfa8236df5f61fe\", \"ccfb4c8a7a57ffb8fd5212276ff2b193\", \"edc0a9ded4cea99d9a5d5c877faab25b\", \"22e4984d86223bf2674603d62426272e\", \"ece1af985b63ebccd2833e9b5f0432e3\", \"59c4a678634e50b3fda861310820aadd\", \"85191b7c1f9aaf1e283e1f1a1a65c24f\", \"b86c71dcba3086c5bb8f2e02b9d08215\", \"a468311eb21d2136f84b74cb054283a8\", \"f2928e6d2d8b4c0768d206a97091cc87\", \"cda9491d81a95cfed5f47b7d6e44dffc\", \"ad137a6bbe54246091b32a9b3d908b73\", \"9bf0d2dbffe7925240ea811d2a4cd625\", \"252e32413b7dbc82267a2560836576f4\", \"949af2c28ba6c0345ae58b9aed00a2c0\", \"0a58c594f843f7907aa51ed971294ed5\", \"b7a13ad7c9f1ec1fa8e1483d4acbac9e\", \"1e39b3c5ca4fa6f09768b82ebaf2f03b\", \"3bd36d7e7222b425d00688ee41df31fe\", \"c667bae12de0b03c8ca94f5e85282cb0\", \"7201d53bd647437ec3de879774eba498\", \"a7e1d6f68a3ccec195dd84b5cf16d4b7\", \"e6bb6333bce47754c438f8859f2a892a\", \"aa7ed988149cb277fc815f00d7e36e0b\", \"0c1012b02835602b17b5c366461212af\", \"a18cd8486644e88312dde3ca2485a0c0\", \"1ea96f317b97865a74e93bab8b0a2bd1\", \"de3a80e604c53bcfd380e5d6a08a7e72\", \"fead073f9354da6b7df47a05ee20a7f2\", \"f2dc1b84f4b322835658e9c8dc604400\", \"904ad13c7b8512200836d5cd9fb09e1b\", \"64618afa3a07dcab19ba87629333ab84\", \"c2cd19f77efced924e3eccd8bc6750be\", \"7921a61380eb99f3571a8a7123458ffd\", \"23e5edb47f5a9a45adc62dc95d595ce6\", \"63a33c9eeb9e0f467ab9128f26ce7faf\", \"6da597781bc0eb8f5888dd0a6449560f\", \"cd5bcc0b0e1b36b35f8440e61b9ebec4\", \"8fe9306f9c749993b3ae825da7d495fa\", \"a41968eaec955130adcef8d78c31e5b0\", \"c71faced016b3cf1e641f653b4247b2a\", \"1f6579c51d08eb12696f6820ee6170c1\", \"f59976ea25ed284bea01f1b9f30313c0\", \"bfd842308c653132566f05cf6f0f200c\", \"237135dc8b20f922cabee934f7d410a1\", \"009666b2d6d1f29e5f1151526037d804\", \"2350bf05cddec7c81f9bc83b3712ab48\", \"1554332b1d1e4b07252c97508a1acc60\", \"a44ff69ed0bfd797cc8bcac569b89020\", \"29571e8b6d4be30e4f049eb88d47ada9\", \"a5779884ec0e512ad98071fc1ef2974d\", \"f608ecc9233a96b70ff5f6407a1e716d\", \"cf87c16c9f4457d58c020932893d6a6f\", \"01c656b52ddaf40e9effe387b527e26a\", \"a795befe899fceb4985d6921d737633c\", \"d37312f705e922b8d29ffcb7df30fe8e\", \"c1365ec008032ee718dcafaf5ac17adb\", \"103ebd1d77fc3ba9f1636af721c80c9c\", \"266b3259f6581cd17daacb1c5a907f1d\", \"20c8a3fa70307e48beeef216d8cea725\", \"a0b30609461549b1071d1c9f72e571ea\", \"980f7297ca09641c814b1d92abf24187\", \"0fcef26f892f0b100a2f5f6acaabd363\", \"675134da8455a96bd0232ad28cd9650b\", \"b3d2e13f487cde4a02b85cd9bd8d5747\", \"fdb8ac8f70f46ba934f51002e38bc6c7\", \"13fb775ce4a4ed5d950e2265504503a7\", \"5f768409c9bb264f9aaf01c22c57dd70\", \"f2f70c87c045ef12aa1de7fa482f79f2\", \"376a81b62b54f162cc3897ac3c8e37c3\", \"8151fb9598d6ea8010ff1007a513b2a7\", \"f91e26a1e6fcce375c8909a8eb693c82\", \"43e407bd0e3d95c6ab1338b1e986c202\", \"bc4763179639c858553910495485b06e\", \"3a729c9dc3fa4d0618a8472d8462b6e0\", \"29b31a1df821bf38b020d141d36d068b\", \"1ac359b30bc1a7b2888f889f1f95dba8\", \"1aee9322e390d5f40e23e6c9b31c8357\", \"d2859ab893d9ab701c4e5577bac6ad52\", \"56ad3fc7216795e3639aa68dbcf7d6a5\", \"958f39ca746ed2eda5b29e666dd55036\", \"77c3e4e153666ecd3d827a9d25a9ee08\", \"591c9a8213b6f263549aa5e5897b16f3\", \"d3312d68cc830dd9543a0da3a8e33b68\", \"f27adf47fae73d9b48f93e65105dbd50\", \"d76f748a4a4c0843ca755dd5d17c277e\", \"df3340f6af1c5afad43b7a8fa37e29ff\", \"f459e8dcd47c1de863775315ddb7b515\", \"b2e68b143fbb83cbfb05a25e39bac87a\", \"7f94c3cf169dc05f88f9f8beada49592\", \"2ba0ba00d830d06fcd6dc1e58e97dae0\", \"92b34ea5731e4c89d4d4d3fc1320f103\", \"8aed844e91fd609777bccd50f108711a\", \"4718490bc6736fce4e147d3e9ac80a93\", \"a6e84a0099bccdef08e411aa5c05f88b\", \"fdfba195a0e15318a68e3fccbfaa85ca\", \"33031ae1345b6e5d6765be6c38bd25ff\", \"c20424d852be354c8fe263a4d2325267\", \"a2aa7e04c3fc8e0db7953f639a7809b9\", \"e1054889605417c7232ce199101e93a0\", \"c155bd55ec0c4e1ab86c3fe316d1668b\", \"9173349699004103347032504680d4bc\", \"07753bede9b8af8d96ba5e39233544e5\", \"65a904830016ab9f5cc577197aea2713\", \"ba61b97040892ab64d0910b9650b009f\", \"c4ab55ceda82e6879d683ea19a355b6c\", \"cfca03d6ad665e15c1b1e512de71d4a2\", \"04cbcaa888cdf45af0cadeebacdd7f09\", \"4dcac09cf0fdf1d1dcf0ee28c9c954bb\", \"d4d014a4660bdf2862ba3e1fcac1b1b2\", \"41b242e57cb6f642fe83445c49d0ebcc\", \"c7822c4c844bb67d756cfe35ee079de3\", \"b0fc75689af6d5fe5f4da6daa2ffc0a9\", \"11416c5c4c06dc6e2ce3371ab14290bb\", \"931dcf6f224481171a03f2b0799f037c\", \"dd29844988599b84066610f80989e44a\", \"3c36d60992e92b41a88053bddc96f1ef\", \"dd64ab6055b4a0d6ae84d81388c8af21\", \"9fc6804977f926394879fe51d148f681\", \"a7540f8207ec882da6bccdfca025ce0e\", \"bc56f57e8940d90d21fe52bc8465891a\", \"681b3cbb948f190bde7f7d8b3aec50af\", \"f224b2e7a37a589e41ed7f3de0aef198\", \"e5bf75d53ece80e459e49dbf65baa3f7\", \"46139bfdd4417f3fc4550d95df374cf9\", \"6cb691265b96e71efffced4c4ea3f247\", \"edcac6a02c796a0b37279cd3b66bfb75\", \"a13e9178804cb973b0949d7680f6c947\", \"d04c69057db2ce34bf265d8bf4af0695\", \"8a0e27ba7d199a330c1e471e7bc73f07\", \"86e7d9fefd58291d546a1b3a74fe4ba3\", \"eeafe92418f39e01972e8bbea61b1c44\", \"81a1e88c8e85192aecbcb517cb0bf1ba\", \"8d1dc122d359f1d32915c38d127d903f\", \"64fb259a49be48c254f3a8eaa3c4cdcf\", \"e1c026d4c0b16f554cbd70a01fee75bd\", \"0f04e82035a8b7b7386fece2c5f3dd22\", \"e83ffd9df168846b443e57201b5aae87\", \"37cb101e6da8067e39ec3d37b37fe584\", \"67b8fa2914328eb60974ab17ddfe41c6\", \"1e996f402e31ec95e60137bcc33a663a\", \"68d6b01625c770cb7bed79a66d40983b\", \"9cc57386e33eccc79c8271050deb73db\", \"28a58baf3a78ba8792b74a8773b48592\", \"2cfc8e06398faccb69055753a80a7491\", \"ff23ae325487b942382a1191dc1ede2b\", \"4aab078a4c52e94b1546e5db43296332\", \"f18940a3a0767fb127ae4958e5f95f13\", \"4fc9fb2230388faadd0590cc83ac6ee4\", \"308cad2df21123dc55534f1716cecb7b\", \"91fedd0b17f197cf66e83b5ee34e022e\", \"f880627bae09dd23b3d2dbaea262b59d\", \"3e7ac3f162dd4a5d47e5821c65b09cda\", \"379a89b0bd4e2f9aaabe6185351c9991\", \"33b601a7a8295e7a6c8f413504129220\", \"6d1e63f2a24f42e45388c6104816ea74\", \"794d40ba6f47a77f0d3df416cc86ed06\", \"3524cdab4b47955c4e4a861fe5605733\", \"868d292ba21e9fe2565974553774a311\", \"8677fc01f5578165f7c059b12414fdd4\", \"47f6c1ddb5756e9b7171bb657b50404a\", \"23435adc8cff145f136f0bb091116c07\", \"09184908bb572ecb1b45949e89e11c3c\", \"1523de458bb5246752796b714c75beac\", \"77828d595bb7b63eaa06b94d61b6fd39\", \"d378e9da56442dcab1eed0e5dd1b22cb\", \"8e33ce38cdf6ce8a4bdf4005a0c824ff\", \"58d6922c13d819bb3e5728a4d144b6f5\", \"da673a1e1db57dfe0dc7a2aa8e54f9b2\", \"99408ae0791e3b9139cfd8fe6e8d4503\", \"119c5e32906ee97f03c193b317e29777\", \"4f6d85f804045dd2b62e234f3a9d51cd\", \"ad63b42da67f5d8a02c7fa595b2cd8a6\", \"c6a951785d3c9d42f211cf78cbcdc025\", \"2c7ba0ec530cacd372a894e12b171df8\", \"47bb4e29307d5889969ced841e1a1a4a\", \"093de9700a79f3ed97c01a17b7edaa27\", \"5c9bd5266f10d96c6e592a62348d8d08\", \"539bcc92911a328c2f5721facae108f1\", \"ddb4af790934c68063e846a9b0411521\", \"d5ab3bf81dd79e5eac7bbeb9108be549\", \"1a2433172b7637ffbe33209302c19fd6\", \"9b33c8964bb40d3f753a68f6aeb20264\", \"3b092a59cd0e2d57483420cc994ec49c\", \"dd21131c0ec7fdf0f89841edc465f5ad\", \"be4e33e7139c46e64f13b074d4de576b\", \"b9f3e34e87767c232cee02982f2ad2e5\", \"1eb3833eb044d27195a152d7ef3b3b31\", \"c1b636001e0773f9cca8096d70e8b5de\", \"acf81557dd9dd77f07941a72e88536af\"], \"legendgroup\": \"\", \"name\": \"\", \"showlegend\": true, \"type\": \"pie\", \"values\": [0.08982891128330336, 0.10970810431211575, 0.06129614884109515, 0.003316138540899042, 0.06940185756469401, 0.0, 0.0, 0.0, 0.01202922433431711, 0.007029248823494371, 0.013930090075859176, 0.00028730754372780333, 0.00849847726470294, 0.005245550214369235, 0.0, 0.01123220937257308, 0.005591537926770564, 0.0004765592422708048, 0.0, 0.0075244681848634495, 0.0, 0.0066454382575672905, 0.0, 0.0, 0.0, 0.002586806005077348, 0.0, 0.0, 0.0, 0.001105379513633014, 0.0018372213300189752, 0.004278304776966805, 0.0005927514959918708, 0.0028139212382783494, 0.0, 0.0, 0.0, 0.0, 0.0017158090936467236, 0.002760696955509903, 0.0, 0.0, 0.0, 0.0009275676732683267, 0.0, 0.0, 0.0, 0.0, 0.0, 0.0, 0.0, 0.0, 0.0, 0.0, 0.0, 0.0012647253878209995, 0.0, 0.0, 0.0, 0.0, 0.0, 0.0, 0.0, 0.0, 0.0, 0.0004099674271626594, 0.0, 0.0, 0.0, 0.0, 0.0006094649652796662, 0.0, 0.0, 0.0, 0.0, 0.0, 0.0, 0.0, 0.0, 0.0, 0.0, 0.0, 0.0, 0.0, 0.0, 0.0, 0.0, 0.0, 0.0, 0.0, 0.0, 0.0, 0.00017403364306747173, 0.0, 0.0, 0.0, 0.0, 0.0, 0.0, 0.0, 0.0, 0.0, 0.0, 0.0, 0.0, 0.0, 0.0, 0.0, 0.0, 0.0, 0.0, 0.0, 0.0, 0.0, 0.0, 0.0, 0.0, 0.0, 0.0, 0.0, 0.0, 0.0, 0.0, 0.0, 0.0, 0.0, 0.0, 0.0, 0.0, 0.0, 0.0, 0.0, 0.0, 0.0, 0.0, 0.0, 0.0, 0.0, 0.0, 0.0, 0.0, 0.0, 0.0, 0.0, 0.0, 0.0, 0.0, 0.0, 0.0, 0.0, 0.0, 0.0, 0.0, 0.0, 0.0, 0.0, 0.0, 0.0, 0.0, 0.0, 0.0, 0.0, 0.0, 0.0, 0.0, 0.0, 0.0, 0.0, 0.0, 0.0, 0.0, 0.0, 0.0, 0.0, 0.0, 0.0, 0.0, 0.0, 0.0, 0.0, 0.0, 0.0, 0.0, 0.0, 0.0, 0.0, 0.0, 0.0, 0.0, 0.0, 0.0, 0.0, 0.0, 0.0, 0.0, 0.0, 0.0, 0.0, 0.0, 0.0, 0.0, 0.0, 0.0, 0.0, 0.0, 0.0, 0.0, 0.0, 0.0, 0.0, 0.0, 0.0, 0.0, 0.0, 0.0, 0.0, 0.0, 0.0, 0.0, 0.0, 0.0, 0.0, 0.0, 0.0, 0.0, 0.0, 0.0, 0.0, 0.0, 0.0, 0.0, 0.0, 0.0, 0.0, 0.0, 0.0, 0.0, 0.0, 0.0, 0.0, 0.0, 0.0, 0.0, 0.0, 0.0, 0.0, 0.0, 0.0, 0.0, 0.0, 0.0, 0.0, 0.0, 0.0, 0.0, 0.0, 0.0, 0.0, 0.0, 0.0, 0.0, 0.0, 0.0, 0.0, 0.0, 0.0, 0.0, 0.0, 0.0, 0.0, 0.0, 0.0, 0.0, 0.0, 0.0, 0.0, 0.0, 0.0, 0.0, 0.0, 0.0, 0.0, 0.0, 0.0, 0.0, 0.0, 0.0, 0.0, 0.0, 0.0, 0.0, 0.0, 0.0, 0.0, 0.0, 0.0, 0.0, 0.0, 0.0, 0.0, 0.0, 0.0, 0.0, 0.0, 0.0, 0.0, 0.0, 0.0, 0.0, 0.0, 0.0, 0.0, 0.0, 0.0, 0.0, 0.0, 0.0, 0.0, 0.0, 0.0, 0.0, 0.0, 0.0, 0.0, 0.0, 0.0, 0.0, 0.0, 0.0, 0.0, 0.0, 0.0, 0.0, 0.0, 0.0, 0.0, 0.0, 0.0, 0.0, 0.0, 0.0, 0.0, 0.0, 0.0, 0.0, 0.0, 0.0, 0.0, 0.0, 0.0, 0.0, 0.0, 0.0, 0.0, 0.0, 0.0, 0.0, 0.0, 0.0, 0.0, 0.0, 0.0, 0.0, 0.0, 0.0, 0.0, 0.0, 0.0, 0.0, 0.0, 0.0, 0.0, 0.0, 0.0, 0.0, 0.0, 0.0, 0.0, 0.0, 0.0, 0.0, 0.0, 0.0, 0.0, 0.0, 0.0, 0.0, 0.0, 0.0, 0.0, 0.0, 0.0, 0.0, 0.0, 0.0, 0.0, 0.0, 0.0, 0.0, 0.0, 0.0, 0.0, 0.0, 0.0, 0.0, 0.0, 0.0, 0.0, 0.0, 0.0, 0.0, 0.0, 0.0, 0.0, 0.0, 0.0, 0.0, 0.0, 0.0, 0.0, 0.0, 0.0, 0.0, 0.0, 0.0, 0.0, 0.0, 0.0, 0.0, 0.0, 0.0, 0.0, 0.0, 0.0, 0.0, 0.0, 0.0, 0.0, 0.0, 0.0, 0.0, 0.0, 0.0, 0.0, 0.0, 0.0, 0.0, 0.0, 0.0, 0.0, 0.0, 0.0, 0.0, 0.0, 0.0, 0.0, 0.0, 0.0, 0.0, 0.0, 0.0, 0.0, 0.0, 0.0, 0.0, 0.0, 0.0, 0.0, 0.0, 0.0, 0.0, 0.0, 0.0, 0.0, 0.0, 0.0, 0.0, 0.0, 0.0, 0.0, 0.0, 0.0, 0.0, 0.0, 0.0, 0.0, 0.0, 0.0, 0.0, 0.0, 0.0, 0.0, 0.0, 0.0, 0.0, 0.0, 0.0, 0.0, 0.0, 0.0, 0.0, 0.0, 0.0, 0.0, 0.0, 0.0, 0.0, 0.0, 0.0, 0.0, 0.0, 0.0, 0.0, 0.0, 0.0, 0.0, 0.0, 0.0, 0.0, 0.0, 0.0, 0.0, 0.0, 0.0, 0.0, 0.0, 0.0, 0.0, 0.0, 0.0]}],\n",
              "                        {\"legend\": {\"tracegroupgap\": 0}, \"margin\": {\"t\": 60}, \"template\": {\"data\": {\"bar\": [{\"error_x\": {\"color\": \"#2a3f5f\"}, \"error_y\": {\"color\": \"#2a3f5f\"}, \"marker\": {\"line\": {\"color\": \"#E5ECF6\", \"width\": 0.5}}, \"type\": \"bar\"}], \"barpolar\": [{\"marker\": {\"line\": {\"color\": \"#E5ECF6\", \"width\": 0.5}}, \"type\": \"barpolar\"}], \"carpet\": [{\"aaxis\": {\"endlinecolor\": \"#2a3f5f\", \"gridcolor\": \"white\", \"linecolor\": \"white\", \"minorgridcolor\": \"white\", \"startlinecolor\": \"#2a3f5f\"}, \"baxis\": {\"endlinecolor\": \"#2a3f5f\", \"gridcolor\": \"white\", \"linecolor\": \"white\", \"minorgridcolor\": \"white\", \"startlinecolor\": \"#2a3f5f\"}, \"type\": \"carpet\"}], \"choropleth\": [{\"colorbar\": {\"outlinewidth\": 0, \"ticks\": \"\"}, \"type\": \"choropleth\"}], \"contour\": [{\"colorbar\": {\"outlinewidth\": 0, \"ticks\": \"\"}, \"colorscale\": [[0.0, \"#0d0887\"], [0.1111111111111111, \"#46039f\"], [0.2222222222222222, \"#7201a8\"], [0.3333333333333333, \"#9c179e\"], [0.4444444444444444, \"#bd3786\"], [0.5555555555555556, \"#d8576b\"], [0.6666666666666666, \"#ed7953\"], [0.7777777777777778, \"#fb9f3a\"], [0.8888888888888888, \"#fdca26\"], [1.0, \"#f0f921\"]], \"type\": \"contour\"}], \"contourcarpet\": [{\"colorbar\": {\"outlinewidth\": 0, \"ticks\": \"\"}, \"type\": \"contourcarpet\"}], \"heatmap\": [{\"colorbar\": {\"outlinewidth\": 0, \"ticks\": \"\"}, \"colorscale\": [[0.0, \"#0d0887\"], [0.1111111111111111, \"#46039f\"], [0.2222222222222222, \"#7201a8\"], [0.3333333333333333, \"#9c179e\"], [0.4444444444444444, \"#bd3786\"], [0.5555555555555556, \"#d8576b\"], [0.6666666666666666, \"#ed7953\"], [0.7777777777777778, \"#fb9f3a\"], [0.8888888888888888, \"#fdca26\"], [1.0, \"#f0f921\"]], \"type\": \"heatmap\"}], \"heatmapgl\": [{\"colorbar\": {\"outlinewidth\": 0, \"ticks\": \"\"}, \"colorscale\": [[0.0, \"#0d0887\"], [0.1111111111111111, \"#46039f\"], [0.2222222222222222, \"#7201a8\"], [0.3333333333333333, \"#9c179e\"], [0.4444444444444444, \"#bd3786\"], [0.5555555555555556, \"#d8576b\"], [0.6666666666666666, \"#ed7953\"], [0.7777777777777778, \"#fb9f3a\"], [0.8888888888888888, \"#fdca26\"], [1.0, \"#f0f921\"]], \"type\": \"heatmapgl\"}], \"histogram\": [{\"marker\": {\"colorbar\": {\"outlinewidth\": 0, \"ticks\": \"\"}}, \"type\": \"histogram\"}], \"histogram2d\": [{\"colorbar\": {\"outlinewidth\": 0, \"ticks\": \"\"}, \"colorscale\": [[0.0, \"#0d0887\"], [0.1111111111111111, \"#46039f\"], [0.2222222222222222, \"#7201a8\"], [0.3333333333333333, \"#9c179e\"], [0.4444444444444444, \"#bd3786\"], [0.5555555555555556, \"#d8576b\"], [0.6666666666666666, \"#ed7953\"], [0.7777777777777778, \"#fb9f3a\"], [0.8888888888888888, \"#fdca26\"], [1.0, \"#f0f921\"]], \"type\": \"histogram2d\"}], \"histogram2dcontour\": [{\"colorbar\": {\"outlinewidth\": 0, \"ticks\": \"\"}, \"colorscale\": [[0.0, \"#0d0887\"], [0.1111111111111111, \"#46039f\"], [0.2222222222222222, \"#7201a8\"], [0.3333333333333333, \"#9c179e\"], [0.4444444444444444, \"#bd3786\"], [0.5555555555555556, \"#d8576b\"], [0.6666666666666666, \"#ed7953\"], [0.7777777777777778, \"#fb9f3a\"], [0.8888888888888888, \"#fdca26\"], [1.0, \"#f0f921\"]], \"type\": \"histogram2dcontour\"}], \"mesh3d\": [{\"colorbar\": {\"outlinewidth\": 0, \"ticks\": \"\"}, \"type\": \"mesh3d\"}], \"parcoords\": [{\"line\": {\"colorbar\": {\"outlinewidth\": 0, \"ticks\": \"\"}}, \"type\": \"parcoords\"}], \"pie\": [{\"automargin\": true, \"type\": \"pie\"}], \"scatter\": [{\"marker\": {\"colorbar\": {\"outlinewidth\": 0, \"ticks\": \"\"}}, \"type\": \"scatter\"}], \"scatter3d\": [{\"line\": {\"colorbar\": {\"outlinewidth\": 0, \"ticks\": \"\"}}, \"marker\": {\"colorbar\": {\"outlinewidth\": 0, \"ticks\": \"\"}}, \"type\": \"scatter3d\"}], \"scattercarpet\": [{\"marker\": {\"colorbar\": {\"outlinewidth\": 0, \"ticks\": \"\"}}, \"type\": \"scattercarpet\"}], \"scattergeo\": [{\"marker\": {\"colorbar\": {\"outlinewidth\": 0, \"ticks\": \"\"}}, \"type\": \"scattergeo\"}], \"scattergl\": [{\"marker\": {\"colorbar\": {\"outlinewidth\": 0, \"ticks\": \"\"}}, \"type\": \"scattergl\"}], \"scattermapbox\": [{\"marker\": {\"colorbar\": {\"outlinewidth\": 0, \"ticks\": \"\"}}, \"type\": \"scattermapbox\"}], \"scatterpolar\": [{\"marker\": {\"colorbar\": {\"outlinewidth\": 0, \"ticks\": \"\"}}, \"type\": \"scatterpolar\"}], \"scatterpolargl\": [{\"marker\": {\"colorbar\": {\"outlinewidth\": 0, \"ticks\": \"\"}}, \"type\": \"scatterpolargl\"}], \"scatterternary\": [{\"marker\": {\"colorbar\": {\"outlinewidth\": 0, \"ticks\": \"\"}}, \"type\": \"scatterternary\"}], \"surface\": [{\"colorbar\": {\"outlinewidth\": 0, \"ticks\": \"\"}, \"colorscale\": [[0.0, \"#0d0887\"], [0.1111111111111111, \"#46039f\"], [0.2222222222222222, \"#7201a8\"], [0.3333333333333333, \"#9c179e\"], [0.4444444444444444, \"#bd3786\"], [0.5555555555555556, \"#d8576b\"], [0.6666666666666666, \"#ed7953\"], [0.7777777777777778, \"#fb9f3a\"], [0.8888888888888888, \"#fdca26\"], [1.0, \"#f0f921\"]], \"type\": \"surface\"}], \"table\": [{\"cells\": {\"fill\": {\"color\": \"#EBF0F8\"}, \"line\": {\"color\": \"white\"}}, \"header\": {\"fill\": {\"color\": \"#C8D4E3\"}, \"line\": {\"color\": \"white\"}}, \"type\": \"table\"}]}, \"layout\": {\"annotationdefaults\": {\"arrowcolor\": \"#2a3f5f\", \"arrowhead\": 0, \"arrowwidth\": 1}, \"coloraxis\": {\"colorbar\": {\"outlinewidth\": 0, \"ticks\": \"\"}}, \"colorscale\": {\"diverging\": [[0, \"#8e0152\"], [0.1, \"#c51b7d\"], [0.2, \"#de77ae\"], [0.3, \"#f1b6da\"], [0.4, \"#fde0ef\"], [0.5, \"#f7f7f7\"], [0.6, \"#e6f5d0\"], [0.7, \"#b8e186\"], [0.8, \"#7fbc41\"], [0.9, \"#4d9221\"], [1, \"#276419\"]], \"sequential\": [[0.0, \"#0d0887\"], [0.1111111111111111, \"#46039f\"], [0.2222222222222222, \"#7201a8\"], [0.3333333333333333, \"#9c179e\"], [0.4444444444444444, \"#bd3786\"], [0.5555555555555556, \"#d8576b\"], [0.6666666666666666, \"#ed7953\"], [0.7777777777777778, \"#fb9f3a\"], [0.8888888888888888, \"#fdca26\"], [1.0, \"#f0f921\"]], \"sequentialminus\": [[0.0, \"#0d0887\"], [0.1111111111111111, \"#46039f\"], [0.2222222222222222, \"#7201a8\"], [0.3333333333333333, \"#9c179e\"], [0.4444444444444444, \"#bd3786\"], [0.5555555555555556, \"#d8576b\"], [0.6666666666666666, \"#ed7953\"], [0.7777777777777778, \"#fb9f3a\"], [0.8888888888888888, \"#fdca26\"], [1.0, \"#f0f921\"]]}, \"colorway\": [\"#636efa\", \"#EF553B\", \"#00cc96\", \"#ab63fa\", \"#FFA15A\", \"#19d3f3\", \"#FF6692\", \"#B6E880\", \"#FF97FF\", \"#FECB52\"], \"font\": {\"color\": \"#2a3f5f\"}, \"geo\": {\"bgcolor\": \"white\", \"lakecolor\": \"white\", \"landcolor\": \"#E5ECF6\", \"showlakes\": true, \"showland\": true, \"subunitcolor\": \"white\"}, \"hoverlabel\": {\"align\": \"left\"}, \"hovermode\": \"closest\", \"mapbox\": {\"style\": \"light\"}, \"paper_bgcolor\": \"white\", \"plot_bgcolor\": \"#E5ECF6\", \"polar\": {\"angularaxis\": {\"gridcolor\": \"white\", \"linecolor\": \"white\", \"ticks\": \"\"}, \"bgcolor\": \"#E5ECF6\", \"radialaxis\": {\"gridcolor\": \"white\", \"linecolor\": \"white\", \"ticks\": \"\"}}, \"scene\": {\"xaxis\": {\"backgroundcolor\": \"#E5ECF6\", \"gridcolor\": \"white\", \"gridwidth\": 2, \"linecolor\": \"white\", \"showbackground\": true, \"ticks\": \"\", \"zerolinecolor\": \"white\"}, \"yaxis\": {\"backgroundcolor\": \"#E5ECF6\", \"gridcolor\": \"white\", \"gridwidth\": 2, \"linecolor\": \"white\", \"showbackground\": true, \"ticks\": \"\", \"zerolinecolor\": \"white\"}, \"zaxis\": {\"backgroundcolor\": \"#E5ECF6\", \"gridcolor\": \"white\", \"gridwidth\": 2, \"linecolor\": \"white\", \"showbackground\": true, \"ticks\": \"\", \"zerolinecolor\": \"white\"}}, \"shapedefaults\": {\"line\": {\"color\": \"#2a3f5f\"}}, \"ternary\": {\"aaxis\": {\"gridcolor\": \"white\", \"linecolor\": \"white\", \"ticks\": \"\"}, \"baxis\": {\"gridcolor\": \"white\", \"linecolor\": \"white\", \"ticks\": \"\"}, \"bgcolor\": \"#E5ECF6\", \"caxis\": {\"gridcolor\": \"white\", \"linecolor\": \"white\", \"ticks\": \"\"}}, \"title\": {\"x\": 0.05}, \"xaxis\": {\"automargin\": true, \"gridcolor\": \"white\", \"linecolor\": \"white\", \"ticks\": \"\", \"title\": {\"standoff\": 15}, \"zerolinecolor\": \"white\", \"zerolinewidth\": 2}, \"yaxis\": {\"automargin\": true, \"gridcolor\": \"white\", \"linecolor\": \"white\", \"ticks\": \"\", \"title\": {\"standoff\": 15}, \"zerolinecolor\": \"white\", \"zerolinewidth\": 2}}}},\n",
              "                        {\"responsive\": true}\n",
              "                    ).then(function(){\n",
              "                            \n",
              "var gd = document.getElementById('e8b33d1d-6643-436d-9b6a-73dced8613f7');\n",
              "var x = new MutationObserver(function (mutations, observer) {{\n",
              "        var display = window.getComputedStyle(gd).display;\n",
              "        if (!display || display === 'none') {{\n",
              "            console.log([gd, 'removed!']);\n",
              "            Plotly.purge(gd);\n",
              "            observer.disconnect();\n",
              "        }}\n",
              "}});\n",
              "\n",
              "// Listen for the removal of the full notebook cells\n",
              "var notebookContainer = gd.closest('#notebook-container');\n",
              "if (notebookContainer) {{\n",
              "    x.observe(notebookContainer, {childList: true});\n",
              "}}\n",
              "\n",
              "// Listen for the clearing of the current output cell\n",
              "var outputEl = gd.closest('.output');\n",
              "if (outputEl) {{\n",
              "    x.observe(outputEl, {childList: true});\n",
              "}}\n",
              "\n",
              "                        })\n",
              "                };\n",
              "                \n",
              "            </script>\n",
              "        </div>\n",
              "</body>\n",
              "</html>"
            ]
          },
          "metadata": {
            "tags": []
          }
        }
      ]
    },
    {
      "cell_type": "code",
      "metadata": {
        "id": "rIYqfYGyalVY"
      },
      "source": [
        "archive = 'dada2_table.qzv'\n",
        "qza = ZipFile(archive, 'r')\n",
        "dir_name = qza.namelist()[0].split('/')[0]\n",
        "file_in_archive = dir_name + '/data/feature-frequency-detail.csv'"
      ],
      "execution_count": 89,
      "outputs": []
    },
    {
      "cell_type": "code",
      "metadata": {
        "id": "Hs_D01uEbrPY",
        "outputId": "36190620-8758-49e4-96cb-929601be88eb",
        "colab": {
          "base_uri": "https://localhost:8080/",
          "height": 35
        }
      },
      "source": [
        "file_in_archive"
      ],
      "execution_count": 90,
      "outputs": [
        {
          "output_type": "execute_result",
          "data": {
            "application/vnd.google.colaboratory.intrinsic+json": {
              "type": "string"
            },
            "text/plain": [
              "'c73b3a7b-6fb4-40d0-a624-b7728c071f3f/data/feature-frequency-detail.csv'"
            ]
          },
          "metadata": {
            "tags": []
          },
          "execution_count": 90
        }
      ]
    },
    {
      "cell_type": "code",
      "metadata": {
        "id": "AzuPrmmabXYe",
        "outputId": "58e7fbbb-d116-4875-ff0c-a36a642e1af6",
        "colab": {
          "base_uri": "https://localhost:8080/",
          "height": 407
        }
      },
      "source": [
        "qza2df(archive, file_in_archive, skip_rows=0)"
      ],
      "execution_count": 91,
      "outputs": [
        {
          "output_type": "execute_result",
          "data": {
            "text/html": [
              "<div>\n",
              "<style scoped>\n",
              "    .dataframe tbody tr th:only-of-type {\n",
              "        vertical-align: middle;\n",
              "    }\n",
              "\n",
              "    .dataframe tbody tr th {\n",
              "        vertical-align: top;\n",
              "    }\n",
              "\n",
              "    .dataframe thead th {\n",
              "        text-align: right;\n",
              "    }\n",
              "</style>\n",
              "<table border=\"1\" class=\"dataframe\">\n",
              "  <thead>\n",
              "    <tr style=\"text-align: right;\">\n",
              "      <th></th>\n",
              "      <th>04c8be5a3a6ba2d70446812e99318905,101973.0\\n</th>\n",
              "    </tr>\n",
              "  </thead>\n",
              "  <tbody>\n",
              "    <tr>\n",
              "      <th>0</th>\n",
              "      <td>04c8be5a3a6ba2d70446812e99318905,101973.0</td>\n",
              "    </tr>\n",
              "    <tr>\n",
              "      <th>1</th>\n",
              "      <td>ea2b0e4a93c24c6c3661cbe347f93b74,97510.0</td>\n",
              "    </tr>\n",
              "    <tr>\n",
              "      <th>2</th>\n",
              "      <td>1ad289cd8f44e109fd95de0382c5b252,73695.0</td>\n",
              "    </tr>\n",
              "    <tr>\n",
              "      <th>3</th>\n",
              "      <td>3d9838f12f6ff5591dbadeb427a855f1,63441.0</td>\n",
              "    </tr>\n",
              "    <tr>\n",
              "      <th>4</th>\n",
              "      <td>ac5402de1ddf427ab8d2b0a8a0a44f19,60340.0</td>\n",
              "    </tr>\n",
              "    <tr>\n",
              "      <th>...</th>\n",
              "      <td>...</td>\n",
              "    </tr>\n",
              "    <tr>\n",
              "      <th>525</th>\n",
              "      <td>931dcf6f224481171a03f2b0799f037c,2.0</td>\n",
              "    </tr>\n",
              "    <tr>\n",
              "      <th>526</th>\n",
              "      <td>11416c5c4c06dc6e2ce3371ab14290bb,2.0</td>\n",
              "    </tr>\n",
              "    <tr>\n",
              "      <th>527</th>\n",
              "      <td>b0fc75689af6d5fe5f4da6daa2ffc0a9,2.0</td>\n",
              "    </tr>\n",
              "    <tr>\n",
              "      <th>528</th>\n",
              "      <td>c7822c4c844bb67d756cfe35ee079de3,2.0</td>\n",
              "    </tr>\n",
              "    <tr>\n",
              "      <th>529</th>\n",
              "      <td>acf81557dd9dd77f07941a72e88536af,2.0</td>\n",
              "    </tr>\n",
              "  </tbody>\n",
              "</table>\n",
              "<p>530 rows × 1 columns</p>\n",
              "</div>"
            ],
            "text/plain": [
              "    04c8be5a3a6ba2d70446812e99318905,101973.0\\n\n",
              "0     04c8be5a3a6ba2d70446812e99318905,101973.0\n",
              "1      ea2b0e4a93c24c6c3661cbe347f93b74,97510.0\n",
              "2      1ad289cd8f44e109fd95de0382c5b252,73695.0\n",
              "3      3d9838f12f6ff5591dbadeb427a855f1,63441.0\n",
              "4      ac5402de1ddf427ab8d2b0a8a0a44f19,60340.0\n",
              "..                                          ...\n",
              "525        931dcf6f224481171a03f2b0799f037c,2.0\n",
              "526        11416c5c4c06dc6e2ce3371ab14290bb,2.0\n",
              "527        b0fc75689af6d5fe5f4da6daa2ffc0a9,2.0\n",
              "528        c7822c4c844bb67d756cfe35ee079de3,2.0\n",
              "529        acf81557dd9dd77f07941a72e88536af,2.0\n",
              "\n",
              "[530 rows x 1 columns]"
            ]
          },
          "metadata": {
            "tags": []
          },
          "execution_count": 91
        }
      ]
    },
    {
      "cell_type": "code",
      "metadata": {
        "id": "M-mQWUlVYC8l",
        "outputId": "f7a5f410-26b8-4781-e3a6-671002a43d7e",
        "colab": {
          "base_uri": "https://localhost:8080/",
          "height": 835
        }
      },
      "source": [
        "qza = ZipFile('dada2_table.qzv', 'r')\n",
        "qza.printdir()"
      ],
      "execution_count": 92,
      "outputs": [
        {
          "output_type": "stream",
          "text": [
            "File Name                                             Modified             Size\n",
            "c73b3a7b-6fb4-40d0-a624-b7728c071f3f/metadata.yaml 2020-10-22 19:41:02           76\n",
            "c73b3a7b-6fb4-40d0-a624-b7728c071f3f/checksums.md5 2020-10-22 19:41:02         3259\n",
            "c73b3a7b-6fb4-40d0-a624-b7728c071f3f/VERSION   2020-10-22 19:41:02           39\n",
            "c73b3a7b-6fb4-40d0-a624-b7728c071f3f/data/sample-frequencies.pdf 2020-10-22 19:41:00        12590\n",
            "c73b3a7b-6fb4-40d0-a624-b7728c071f3f/data/sample-frequencies.png 2020-10-22 19:41:00        14536\n",
            "c73b3a7b-6fb4-40d0-a624-b7728c071f3f/data/feature-frequencies.pdf 2020-10-22 19:41:00        12271\n",
            "c73b3a7b-6fb4-40d0-a624-b7728c071f3f/data/feature-frequency-detail.html 2020-10-22 19:41:02        56385\n",
            "c73b3a7b-6fb4-40d0-a624-b7728c071f3f/data/feature-frequencies.png 2020-10-22 19:41:00        12632\n",
            "c73b3a7b-6fb4-40d0-a624-b7728c071f3f/data/sample-frequency-detail.csv 2020-10-22 19:41:02         1402\n",
            "c73b3a7b-6fb4-40d0-a624-b7728c071f3f/data/index.html 2020-10-22 19:41:02         5151\n",
            "c73b3a7b-6fb4-40d0-a624-b7728c071f3f/data/feature-frequency-detail.csv 2020-10-22 19:41:02        20172\n",
            "c73b3a7b-6fb4-40d0-a624-b7728c071f3f/data/sample-frequency-detail.html 2020-10-22 19:41:02        28076\n",
            "c73b3a7b-6fb4-40d0-a624-b7728c071f3f/data/licenses/vega.txt 2020-02-28 15:48:54         1533\n",
            "c73b3a7b-6fb4-40d0-a624-b7728c071f3f/data/licenses/vega-embed.txt 2020-02-28 15:48:54         1528\n",
            "c73b3a7b-6fb4-40d0-a624-b7728c071f3f/data/js/vega-embed.min.js 2020-02-28 15:48:54        48488\n",
            "c73b3a7b-6fb4-40d0-a624-b7728c071f3f/data/js/vega.min.js 2020-02-28 15:48:54       435652\n",
            "c73b3a7b-6fb4-40d0-a624-b7728c071f3f/data/css/spinkit.css 2020-02-28 15:48:54         2071\n",
            "c73b3a7b-6fb4-40d0-a624-b7728c071f3f/data/q2templateassets/img/qiime2-rect-200.png 2020-02-28 15:47:56        68280\n",
            "c73b3a7b-6fb4-40d0-a624-b7728c071f3f/data/q2templateassets/js/bootstrap.min.js 2020-02-28 15:47:56        37045\n",
            "c73b3a7b-6fb4-40d0-a624-b7728c071f3f/data/q2templateassets/js/jquery-3.2.0.min.js 2020-02-28 15:47:56        86596\n",
            "c73b3a7b-6fb4-40d0-a624-b7728c071f3f/data/q2templateassets/js/parent.js 2020-02-28 15:47:56          997\n",
            "c73b3a7b-6fb4-40d0-a624-b7728c071f3f/data/q2templateassets/js/child.js 2020-02-28 15:47:56          728\n",
            "c73b3a7b-6fb4-40d0-a624-b7728c071f3f/data/q2templateassets/css/normalize.css 2020-02-28 15:47:56         8053\n",
            "c73b3a7b-6fb4-40d0-a624-b7728c071f3f/data/q2templateassets/css/base-template.css 2020-02-28 15:47:56          414\n",
            "c73b3a7b-6fb4-40d0-a624-b7728c071f3f/data/q2templateassets/css/tab-parent.css 2020-02-28 15:47:56          410\n",
            "c73b3a7b-6fb4-40d0-a624-b7728c071f3f/data/q2templateassets/css/bootstrap.min.css 2020-02-28 15:47:56       121201\n",
            "c73b3a7b-6fb4-40d0-a624-b7728c071f3f/data/q2templateassets/fonts/glyphicons-halflings-regular.ttf 2020-02-28 15:47:56        45404\n",
            "c73b3a7b-6fb4-40d0-a624-b7728c071f3f/data/q2templateassets/fonts/glyphicons-halflings-regular.woff2 2020-02-28 15:47:56        18028\n",
            "c73b3a7b-6fb4-40d0-a624-b7728c071f3f/data/q2templateassets/fonts/glyphicons-halflings-regular.eot 2020-02-28 15:47:56        20127\n",
            "c73b3a7b-6fb4-40d0-a624-b7728c071f3f/data/q2templateassets/fonts/glyphicons-halflings-regular.woff 2020-02-28 15:47:56        23424\n",
            "c73b3a7b-6fb4-40d0-a624-b7728c071f3f/data/q2templateassets/fonts/glyphicons-halflings-regular.svg 2020-02-28 15:47:56       108738\n",
            "c73b3a7b-6fb4-40d0-a624-b7728c071f3f/provenance/metadata.yaml 2020-10-22 19:41:02           76\n",
            "c73b3a7b-6fb4-40d0-a624-b7728c071f3f/provenance/citations.bib 2020-10-22 19:41:02         3892\n",
            "c73b3a7b-6fb4-40d0-a624-b7728c071f3f/provenance/VERSION 2020-10-22 19:41:02           39\n",
            "c73b3a7b-6fb4-40d0-a624-b7728c071f3f/provenance/action/action.yaml 2020-10-22 19:41:02         4959\n",
            "c73b3a7b-6fb4-40d0-a624-b7728c071f3f/provenance/action/sample_metadata.tsv 2020-10-22 19:41:00         4444\n",
            "c73b3a7b-6fb4-40d0-a624-b7728c071f3f/provenance/artifacts/36e107a3-e27a-4400-a26b-4631171f4378/metadata.yaml 2020-10-22 19:40:58          130\n",
            "c73b3a7b-6fb4-40d0-a624-b7728c071f3f/provenance/artifacts/36e107a3-e27a-4400-a26b-4631171f4378/citations.bib 2020-10-22 19:40:58         2774\n",
            "c73b3a7b-6fb4-40d0-a624-b7728c071f3f/provenance/artifacts/36e107a3-e27a-4400-a26b-4631171f4378/VERSION 2020-10-22 19:40:58           39\n",
            "c73b3a7b-6fb4-40d0-a624-b7728c071f3f/provenance/artifacts/36e107a3-e27a-4400-a26b-4631171f4378/action/action.yaml 2020-10-22 19:40:58         4585\n",
            "c73b3a7b-6fb4-40d0-a624-b7728c071f3f/provenance/artifacts/1d23994a-d43a-4714-8715-1cea1edf3f11/metadata.yaml 2020-10-22 19:40:58           96\n",
            "c73b3a7b-6fb4-40d0-a624-b7728c071f3f/provenance/artifacts/1d23994a-d43a-4714-8715-1cea1edf3f11/citations.bib 2020-10-22 19:40:58         4305\n",
            "c73b3a7b-6fb4-40d0-a624-b7728c071f3f/provenance/artifacts/1d23994a-d43a-4714-8715-1cea1edf3f11/VERSION 2020-10-22 19:40:58           39\n",
            "c73b3a7b-6fb4-40d0-a624-b7728c071f3f/provenance/artifacts/1d23994a-d43a-4714-8715-1cea1edf3f11/action/action.yaml 2020-10-22 19:40:58         5325\n"
          ],
          "name": "stdout"
        }
      ]
    },
    {
      "cell_type": "markdown",
      "metadata": {
        "id": "lbY1iJ8YyuqH"
      },
      "source": [
        "## Conclusion\n",
        "\n",
        "Colab and Python makes qiime2 easier to use for the analysis, but, unfortunatelly, there are many problems with plugins import, for example, I could not import c-lasso plugin made by Leonardo that we discussed on our weekly meeting. "
      ]
    },
    {
      "cell_type": "markdown",
      "metadata": {
        "id": "0draV9t2yx1B"
      },
      "source": [
        "## Some other ways to use qiime2 via Colab\n",
        "\n",
        "- Amazon Web Services, check [here](http://bi1x.caltech.edu/2019/handouts/bi1x_qiime2.html)\n",
        "- Docker, check [here](https://docs.qiime2.org/2020.8/install/virtual/docker/)"
      ]
    },
    {
      "cell_type": "code",
      "metadata": {
        "id": "ng0kB_jHyvkg",
        "outputId": "1e37b1b5-08b0-4318-f3ef-3ca927d9ece1",
        "colab": {
          "base_uri": "https://localhost:8080/",
          "height": 321
        }
      },
      "source": [
        "from IPython.display import YouTubeVideo\n",
        "\n",
        "YouTubeVideo('TQ58fmBq8oE', width=800, height=300)"
      ],
      "execution_count": 93,
      "outputs": [
        {
          "output_type": "execute_result",
          "data": {
            "text/html": [
              "\n",
              "        <iframe\n",
              "            width=\"800\"\n",
              "            height=\"300\"\n",
              "            src=\"https://www.youtube.com/embed/TQ58fmBq8oE\"\n",
              "            frameborder=\"0\"\n",
              "            allowfullscreen\n",
              "        ></iframe>\n",
              "        "
            ],
            "text/plain": [
              "<IPython.lib.display.YouTubeVideo at 0x7f6cf47057f0>"
            ],
            "image/jpeg": "[encoded data removed]"
          },
          "metadata": {
            "tags": []
          },
          "execution_count": 93
        }
      ]
    },
    {
      "cell_type": "markdown",
      "metadata": {
        "id": "0VreR0Q0y3yI"
      },
      "source": [
        "## REFs\n",
        "\n",
        "- Christian Diener [github](https://gist.github.com/cdiener)\n",
        "- qiime2 [Documentation](https://docs.qiime2.org/2020.8/)"
      ]
    }
  ]
}